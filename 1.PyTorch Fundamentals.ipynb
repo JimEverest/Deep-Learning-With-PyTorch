{
  "nbformat": 4,
  "nbformat_minor": 0,
  "metadata": {
    "kernelspec": {
      "display_name": "Python 3",
      "language": "python",
      "name": "python3"
    },
    "language_info": {
      "codemirror_mode": {
        "name": "ipython",
        "version": 3
      },
      "file_extension": ".py",
      "mimetype": "text/x-python",
      "name": "python",
      "nbconvert_exporter": "python",
      "pygments_lexer": "ipython3",
      "version": "3.6.4"
    },
    "colab": {
      "name": "Copy of 1.PyTorch Fundamentals.ipynb",
      "provenance": [],
      "collapsed_sections": [
        "ikdNAkrLELfk",
        "eOZTRKeI02s0",
        "JnX-Aq8L02tB",
        "JJ5x_YwPGBnR",
        "Dd0zKj_z02tl",
        "xMbke_K602tz",
        "6Gy9xMJv02t0",
        "s8PXYMGI02uX",
        "hKHzHgIO02vH",
        "W_rUHQ2v02vc",
        "jMrhriuX02vi"
      ],
      "include_colab_link": true
    }
  },
  "cells": [
    {
      "cell_type": "markdown",
      "metadata": {
        "id": "view-in-github",
        "colab_type": "text"
      },
      "source": [
        "<a href=\"https://colab.research.google.com/github/JimEverest/Deep-Learning-With-PyTorch/blob/master/1.PyTorch%20Fundamentals.ipynb\" target=\"_parent\"><img src=\"https://colab.research.google.com/assets/colab-badge.svg\" alt=\"Open In Colab\"/></a>"
      ]
    },
    {
      "cell_type": "markdown",
      "metadata": {
        "id": "fg7EGd2N02sh",
        "colab_type": "text"
      },
      "source": [
        "# PyTorch Fundamentals\n",
        "\n",
        "## Matrix Basics\n",
        "\n",
        "***Matrices Brief Introduction ***\n",
        "\n",
        "* Basic Defination: rectangular array of numbers\n",
        "* Tensors(PyTorch)\n",
        "* Ndarrays(Numpy)"
      ]
    },
    {
      "cell_type": "markdown",
      "metadata": {
        "id": "ikdNAkrLELfk",
        "colab_type": "text"
      },
      "source": [
        "### 1. Creating matrix\n",
        "```\n",
        "torch.Tensor(arr)\n",
        "```"
      ]
    },
    {
      "cell_type": "code",
      "metadata": {
        "id": "uq-H3ygF02sk",
        "colab_type": "code",
        "colab": {}
      },
      "source": [
        "import numpy as np "
      ],
      "execution_count": 0,
      "outputs": []
    },
    {
      "cell_type": "code",
      "metadata": {
        "id": "-64impGx02sn",
        "colab_type": "code",
        "outputId": "29e12f06-4560-4209-99f7-3cd266f99634",
        "colab": {
          "base_uri": "https://localhost:8080/",
          "height": 35
        }
      },
      "source": [
        "# creating a 2*2 matrix using python\n",
        "\n",
        "arr = [[1,2],[3,4]]\n",
        "print(arr)"
      ],
      "execution_count": 2,
      "outputs": [
        {
          "output_type": "stream",
          "text": [
            "[[1, 2], [3, 4]]\n"
          ],
          "name": "stdout"
        }
      ]
    },
    {
      "cell_type": "code",
      "metadata": {
        "id": "lYpiI9r-02sr",
        "colab_type": "code",
        "outputId": "e9acb23d-bd4a-45cd-ec85-0dc4f5c74c9e",
        "colab": {
          "base_uri": "https://localhost:8080/",
          "height": 54
        }
      },
      "source": [
        "#convert to numpy \n",
        "\n",
        "np.array(arr)\n"
      ],
      "execution_count": 8,
      "outputs": [
        {
          "output_type": "execute_result",
          "data": {
            "text/plain": [
              "array([[1, 2],\n",
              "       [3, 4]])"
            ]
          },
          "metadata": {
            "tags": []
          },
          "execution_count": 8
        }
      ]
    },
    {
      "cell_type": "code",
      "metadata": {
        "id": "sDNvzImZ02su",
        "colab_type": "code",
        "colab": {}
      },
      "source": [
        "#in pytorch\n",
        "\n",
        "import torch"
      ],
      "execution_count": 0,
      "outputs": []
    },
    {
      "cell_type": "code",
      "metadata": {
        "id": "Uoe3dBuq02sx",
        "colab_type": "code",
        "outputId": "c4e8ccda-cfc3-4b53-a866-241f10d1407c",
        "colab": {
          "base_uri": "https://localhost:8080/",
          "height": 54
        }
      },
      "source": [
        "#converting to PyTorch Tensor \n",
        "\n",
        "torch.Tensor(arr)"
      ],
      "execution_count": 10,
      "outputs": [
        {
          "output_type": "execute_result",
          "data": {
            "text/plain": [
              "tensor([[1., 2.],\n",
              "        [3., 4.]])"
            ]
          },
          "metadata": {
            "tags": []
          },
          "execution_count": 10
        }
      ]
    },
    {
      "cell_type": "markdown",
      "metadata": {
        "id": "eOZTRKeI02s0",
        "colab_type": "text"
      },
      "source": [
        "### 2. Creating Matrices with Default Values\n",
        "```\n",
        "torch.zeros((2,2))\n",
        "torch.ones((2,2))\n",
        "torch.rand(2,2)\n",
        "```"
      ]
    },
    {
      "cell_type": "code",
      "metadata": {
        "id": "HAnPbR2202s1",
        "colab_type": "code",
        "outputId": "9465f72c-f00e-48e9-8002-a7c1ef8fa755",
        "colab": {
          "base_uri": "https://localhost:8080/",
          "height": 54
        }
      },
      "source": [
        "#using numpy\n",
        "\n",
        "np.ones((2,2))"
      ],
      "execution_count": 11,
      "outputs": [
        {
          "output_type": "execute_result",
          "data": {
            "text/plain": [
              "array([[1., 1.],\n",
              "       [1., 1.]])"
            ]
          },
          "metadata": {
            "tags": []
          },
          "execution_count": 11
        }
      ]
    },
    {
      "cell_type": "code",
      "metadata": {
        "id": "wUeNXemOEA21",
        "colab_type": "code",
        "colab": {
          "base_uri": "https://localhost:8080/",
          "height": 54
        },
        "outputId": "7ab0e9ce-afdf-4cc5-d86b-15555d189c76"
      },
      "source": [
        "torch.zeros((2,2))"
      ],
      "execution_count": 38,
      "outputs": [
        {
          "output_type": "execute_result",
          "data": {
            "text/plain": [
              "tensor([[0., 0.],\n",
              "        [0., 0.]])"
            ]
          },
          "metadata": {
            "tags": []
          },
          "execution_count": 38
        }
      ]
    },
    {
      "cell_type": "code",
      "metadata": {
        "id": "CyMelrzO02s4",
        "colab_type": "code",
        "outputId": "df838d1b-da59-46ec-966e-f649a7ca431f",
        "colab": {
          "base_uri": "https://localhost:8080/",
          "height": 54
        }
      },
      "source": [
        "#using torch\n",
        "torch.ones((2,2))"
      ],
      "execution_count": 12,
      "outputs": [
        {
          "output_type": "execute_result",
          "data": {
            "text/plain": [
              "tensor([[1., 1.],\n",
              "        [1., 1.]])"
            ]
          },
          "metadata": {
            "tags": []
          },
          "execution_count": 12
        }
      ]
    },
    {
      "cell_type": "code",
      "metadata": {
        "id": "gXMJ-yvj02s7",
        "colab_type": "code",
        "outputId": "dffe09f1-2af5-46b4-c171-045a2981911d",
        "colab": {
          "base_uri": "https://localhost:8080/",
          "height": 54
        }
      },
      "source": [
        "#generating random number using numpy\n",
        "np.random.randn(2,2)"
      ],
      "execution_count": 13,
      "outputs": [
        {
          "output_type": "execute_result",
          "data": {
            "text/plain": [
              "array([[-0.92528403, -0.27372792],\n",
              "       [ 0.60405599, -0.05035653]])"
            ]
          },
          "metadata": {
            "tags": []
          },
          "execution_count": 13
        }
      ]
    },
    {
      "cell_type": "code",
      "metadata": {
        "id": "wvNDlXvi02s-",
        "colab_type": "code",
        "outputId": "45021715-1542-4035-ccea-a22dd814097e",
        "colab": {
          "base_uri": "https://localhost:8080/",
          "height": 54
        }
      },
      "source": [
        "# generating random using torch\n",
        "torch.rand(2,2)"
      ],
      "execution_count": 14,
      "outputs": [
        {
          "output_type": "execute_result",
          "data": {
            "text/plain": [
              "tensor([[0.4718, 0.9035],\n",
              "        [0.0715, 0.7285]])"
            ]
          },
          "metadata": {
            "tags": []
          },
          "execution_count": 14
        }
      ]
    },
    {
      "cell_type": "markdown",
      "metadata": {
        "id": "JnX-Aq8L02tB",
        "colab_type": "text"
      },
      "source": [
        "### 3. Seeds for Reproducibility\n",
        "```\n",
        "torch.manual_seed(0)\n",
        "```"
      ]
    },
    {
      "cell_type": "code",
      "metadata": {
        "id": "fXG3uHel02tC",
        "colab_type": "code",
        "outputId": "88d57a69-e7fc-45bf-d445-926a87c752fe",
        "colab": {
          "base_uri": "https://localhost:8080/",
          "height": 54
        }
      },
      "source": [
        "#numpy Seed\n",
        "np.random.seed(0)\n",
        "np.random.rand(2,2)"
      ],
      "execution_count": 15,
      "outputs": [
        {
          "output_type": "execute_result",
          "data": {
            "text/plain": [
              "array([[0.5488135 , 0.71518937],\n",
              "       [0.60276338, 0.54488318]])"
            ]
          },
          "metadata": {
            "tags": []
          },
          "execution_count": 15
        }
      ]
    },
    {
      "cell_type": "code",
      "metadata": {
        "id": "S3GUV4Yr02tF",
        "colab_type": "code",
        "outputId": "205e41d6-9c8f-4bd8-a89c-f829b00f61a0",
        "colab": {
          "base_uri": "https://localhost:8080/",
          "height": 54
        }
      },
      "source": [
        "# Seed\n",
        "np.random.seed(0)\n",
        "np.random.rand(2,2)"
      ],
      "execution_count": 16,
      "outputs": [
        {
          "output_type": "execute_result",
          "data": {
            "text/plain": [
              "array([[0.5488135 , 0.71518937],\n",
              "       [0.60276338, 0.54488318]])"
            ]
          },
          "metadata": {
            "tags": []
          },
          "execution_count": 16
        }
      ]
    },
    {
      "cell_type": "code",
      "metadata": {
        "id": "LtjD5-jY02tH",
        "colab_type": "code",
        "outputId": "f4943345-7ba9-4cb8-8521-b035150c83e3",
        "colab": {
          "base_uri": "https://localhost:8080/",
          "height": 54
        }
      },
      "source": [
        "# No Seed\n",
        "np.random.rand(2,2) # no seed we are getting different array"
      ],
      "execution_count": 17,
      "outputs": [
        {
          "output_type": "execute_result",
          "data": {
            "text/plain": [
              "array([[0.4236548 , 0.64589411],\n",
              "       [0.43758721, 0.891773  ]])"
            ]
          },
          "metadata": {
            "tags": []
          },
          "execution_count": 17
        }
      ]
    },
    {
      "cell_type": "code",
      "metadata": {
        "id": "qkhdFN-k02tK",
        "colab_type": "code",
        "outputId": "239b360e-1f38-413e-b697-e05c2a0acb39",
        "colab": {
          "base_uri": "https://localhost:8080/",
          "height": 54
        }
      },
      "source": [
        "# Torch Seed\n",
        "\n",
        "torch.manual_seed(0)\n",
        "torch.rand(2,2)"
      ],
      "execution_count": 18,
      "outputs": [
        {
          "output_type": "execute_result",
          "data": {
            "text/plain": [
              "tensor([[0.4963, 0.7682],\n",
              "        [0.0885, 0.1320]])"
            ]
          },
          "metadata": {
            "tags": []
          },
          "execution_count": 18
        }
      ]
    },
    {
      "cell_type": "code",
      "metadata": {
        "id": "hMEOjqNn02tO",
        "colab_type": "code",
        "outputId": "2fa1fd40-e421-48fc-9fce-8123f1154cc5",
        "colab": {
          "base_uri": "https://localhost:8080/",
          "height": 54
        }
      },
      "source": [
        "# Torch Seed\n",
        "\n",
        "torch.manual_seed(0)\n",
        "torch.rand(2,2)"
      ],
      "execution_count": 19,
      "outputs": [
        {
          "output_type": "execute_result",
          "data": {
            "text/plain": [
              "tensor([[0.4963, 0.7682],\n",
              "        [0.0885, 0.1320]])"
            ]
          },
          "metadata": {
            "tags": []
          },
          "execution_count": 19
        }
      ]
    },
    {
      "cell_type": "code",
      "metadata": {
        "id": "eMLOx2B202tQ",
        "colab_type": "code",
        "outputId": "add9111d-d5c9-4777-b68d-8ca4310a1b1f",
        "colab": {
          "base_uri": "https://localhost:8080/",
          "height": 54
        }
      },
      "source": [
        "# No Seed\n",
        "torch.rand(2,2)"
      ],
      "execution_count": 20,
      "outputs": [
        {
          "output_type": "execute_result",
          "data": {
            "text/plain": [
              "tensor([[0.3074, 0.6341],\n",
              "        [0.4901, 0.8964]])"
            ]
          },
          "metadata": {
            "tags": []
          },
          "execution_count": 20
        }
      ]
    },
    {
      "cell_type": "markdown",
      "metadata": {
        "id": "pIikC-iZ02tU",
        "colab_type": "text"
      },
      "source": [
        "### 4. Numpy & Torch Bridge  \n",
        "\n",
        "\n"
      ]
    },
    {
      "cell_type": "markdown",
      "metadata": {
        "id": "JJ5x_YwPGBnR",
        "colab_type": "text"
      },
      "source": [
        "#### Numpy to Torch\n",
        "```\n",
        "torch.from_numpy(np_array)\n",
        "```"
      ]
    },
    {
      "cell_type": "code",
      "metadata": {
        "id": "YGgg-k5Q02tU",
        "colab_type": "code",
        "colab": {}
      },
      "source": [
        "# Numpy array\n",
        "np_array = np.ones((2,2))"
      ],
      "execution_count": 0,
      "outputs": []
    },
    {
      "cell_type": "code",
      "metadata": {
        "id": "3MjKk6_K02tX",
        "colab_type": "code",
        "outputId": "5828b7a3-5212-4a1f-daac-98722ea17cc8",
        "colab": {
          "base_uri": "https://localhost:8080/",
          "height": 54
        }
      },
      "source": [
        "print(np_array)"
      ],
      "execution_count": 22,
      "outputs": [
        {
          "output_type": "stream",
          "text": [
            "[[1. 1.]\n",
            " [1. 1.]]\n"
          ],
          "name": "stdout"
        }
      ]
    },
    {
      "cell_type": "code",
      "metadata": {
        "id": "Mo5R_JbC02tZ",
        "colab_type": "code",
        "outputId": "f2ba6d0f-0002-47ef-8e0d-0f5aba274adb",
        "colab": {
          "base_uri": "https://localhost:8080/",
          "height": 35
        }
      },
      "source": [
        "print(type(np_array))"
      ],
      "execution_count": 23,
      "outputs": [
        {
          "output_type": "stream",
          "text": [
            "<class 'numpy.ndarray'>\n"
          ],
          "name": "stdout"
        }
      ]
    },
    {
      "cell_type": "code",
      "metadata": {
        "id": "6B8nSWWn02tb",
        "colab_type": "code",
        "colab": {}
      },
      "source": [
        "# Convert to Torch Tensor\n",
        "torch_tensor = torch.from_numpy(np_array)"
      ],
      "execution_count": 0,
      "outputs": []
    },
    {
      "cell_type": "code",
      "metadata": {
        "id": "ME8dCoIb02td",
        "colab_type": "code",
        "outputId": "dcde86ef-db40-48ea-9a90-2e8296d7ad6a",
        "colab": {
          "base_uri": "https://localhost:8080/",
          "height": 54
        }
      },
      "source": [
        "print(torch_tensor)"
      ],
      "execution_count": 26,
      "outputs": [
        {
          "output_type": "stream",
          "text": [
            "tensor([[1., 1.],\n",
            "        [1., 1.]], dtype=torch.float64)\n"
          ],
          "name": "stdout"
        }
      ]
    },
    {
      "cell_type": "code",
      "metadata": {
        "id": "IUh_Fhft02th",
        "colab_type": "code",
        "outputId": "af68f3d8-33a1-4650-c9e4-a2f9ccefeb9e",
        "colab": {
          "base_uri": "https://localhost:8080/",
          "height": 35
        }
      },
      "source": [
        "print(type(torch_tensor))"
      ],
      "execution_count": 27,
      "outputs": [
        {
          "output_type": "stream",
          "text": [
            "<class 'torch.Tensor'>\n"
          ],
          "name": "stdout"
        }
      ]
    },
    {
      "cell_type": "code",
      "metadata": {
        "id": "XhuwSehD02tj",
        "colab_type": "code",
        "outputId": "744f1e62-ad87-4485-e85a-85d42f1acbf0",
        "colab": {
          "base_uri": "https://localhost:8080/",
          "height": 54
        }
      },
      "source": [
        "# Data Types matter in PyTorch\n",
        "\n",
        "new_array= np.ones((2,2),dtype=np.int8)\n",
        "torch.from_numpy(new_array)"
      ],
      "execution_count": 28,
      "outputs": [
        {
          "output_type": "execute_result",
          "data": {
            "text/plain": [
              "tensor([[1, 1],\n",
              "        [1, 1]], dtype=torch.int8)"
            ]
          },
          "metadata": {
            "tags": []
          },
          "execution_count": 28
        }
      ]
    },
    {
      "cell_type": "markdown",
      "metadata": {
        "id": "Dd0zKj_z02tl",
        "colab_type": "text"
      },
      "source": [
        "#### The conversion supports\n",
        "\n",
        "- double\n",
        "- float\n",
        "- int64,int32,uint8"
      ]
    },
    {
      "cell_type": "code",
      "metadata": {
        "id": "623gwo2802tm",
        "colab_type": "code",
        "outputId": "56896b33-8490-4d15-fcf4-1ff1a92ddc5c",
        "colab": {
          "base_uri": "https://localhost:8080/",
          "height": 54
        }
      },
      "source": [
        "# Data Type int64\n",
        "\n",
        "new_array= np.ones((2,2),dtype=np.int64)\n",
        "torch.from_numpy(new_array)"
      ],
      "execution_count": 39,
      "outputs": [
        {
          "output_type": "execute_result",
          "data": {
            "text/plain": [
              "tensor([[1, 1],\n",
              "        [1, 1]])"
            ]
          },
          "metadata": {
            "tags": []
          },
          "execution_count": 39
        }
      ]
    },
    {
      "cell_type": "code",
      "metadata": {
        "id": "3KeliyTt02to",
        "colab_type": "code",
        "outputId": "35f5cc17-570f-46af-bbbd-6281a7668fd1",
        "colab": {
          "base_uri": "https://localhost:8080/",
          "height": 54
        }
      },
      "source": [
        "# Data Type int32\n",
        "new_array= np.ones((2,2),dtype=np.int32)\n",
        "torch.from_numpy(new_array)"
      ],
      "execution_count": 30,
      "outputs": [
        {
          "output_type": "execute_result",
          "data": {
            "text/plain": [
              "tensor([[1, 1],\n",
              "        [1, 1]], dtype=torch.int32)"
            ]
          },
          "metadata": {
            "tags": []
          },
          "execution_count": 30
        }
      ]
    },
    {
      "cell_type": "code",
      "metadata": {
        "id": "pOZNTI3J02tq",
        "colab_type": "code",
        "outputId": "3328d1b9-b94e-4311-f96f-cae88ed66df9",
        "colab": {
          "base_uri": "https://localhost:8080/",
          "height": 54
        }
      },
      "source": [
        "# Data Type uint8\n",
        "new_array= np.ones((2,2),dtype=np.uint8)\n",
        "torch.from_numpy(new_array)"
      ],
      "execution_count": 31,
      "outputs": [
        {
          "output_type": "execute_result",
          "data": {
            "text/plain": [
              "tensor([[1, 1],\n",
              "        [1, 1]], dtype=torch.uint8)"
            ]
          },
          "metadata": {
            "tags": []
          },
          "execution_count": 31
        }
      ]
    },
    {
      "cell_type": "code",
      "metadata": {
        "id": "3XtS39co02tu",
        "colab_type": "code",
        "outputId": "c38ec260-c2ad-4af9-b23a-aa33121ee2ba",
        "colab": {
          "base_uri": "https://localhost:8080/",
          "height": 54
        }
      },
      "source": [
        "# Data Type float\n",
        "new_array= np.ones((2,2),dtype=np.float64)\n",
        "torch.from_numpy(new_array)"
      ],
      "execution_count": 32,
      "outputs": [
        {
          "output_type": "execute_result",
          "data": {
            "text/plain": [
              "tensor([[1., 1.],\n",
              "        [1., 1.]], dtype=torch.float64)"
            ]
          },
          "metadata": {
            "tags": []
          },
          "execution_count": 32
        }
      ]
    },
    {
      "cell_type": "code",
      "metadata": {
        "id": "6xHBZS2G02tw",
        "colab_type": "code",
        "outputId": "5ae3c653-3aa7-4085-c052-356e8a6863cc",
        "colab": {
          "base_uri": "https://localhost:8080/",
          "height": 54
        }
      },
      "source": [
        "# Data Type double\n",
        "new_array= np.ones((2,2),dtype=np.double)\n",
        "torch.from_numpy(new_array)"
      ],
      "execution_count": 33,
      "outputs": [
        {
          "output_type": "execute_result",
          "data": {
            "text/plain": [
              "tensor([[1., 1.],\n",
              "        [1., 1.]], dtype=torch.float64)"
            ]
          },
          "metadata": {
            "tags": []
          },
          "execution_count": 33
        }
      ]
    },
    {
      "cell_type": "markdown",
      "metadata": {
        "id": "xMbke_K602tz",
        "colab_type": "text"
      },
      "source": [
        "#### Summery\n",
        "\n",
        "These things doesn't matter much now. But later when we see error messages that require these particular tensor types , we can refer to this guide . \n",
        "\n",
        "| Numpy Array Type    | Torch Tensor Type     \n",
        "| ------------- |:-------------:\n",
        "| int64         | LongTensor\n",
        "| int32         | IntegerTensor  \n",
        "| uint8         | ByteTensor  \n",
        "| float64       | DoubleTensor  \n",
        "| float32       | FloatTensor   \n",
        "| double        | DoubleTensor  "
      ]
    },
    {
      "cell_type": "markdown",
      "metadata": {
        "id": "6Gy9xMJv02t0",
        "colab_type": "text"
      },
      "source": [
        "#### Torch to Numpy\n",
        "```\n",
        "torch_tensor.numpy()\n",
        "```"
      ]
    },
    {
      "cell_type": "code",
      "metadata": {
        "id": "VukzCMXQ02t0",
        "colab_type": "code",
        "colab": {}
      },
      "source": [
        "torch_tensor = torch.ones(2,2)"
      ],
      "execution_count": 0,
      "outputs": []
    },
    {
      "cell_type": "code",
      "metadata": {
        "id": "Kf2QqySa02t5",
        "colab_type": "code",
        "outputId": "2bbadacc-022e-4cfc-e21a-4be5d3724f68",
        "colab": {
          "base_uri": "https://localhost:8080/",
          "height": 35
        }
      },
      "source": [
        "type(torch_tensor)"
      ],
      "execution_count": 41,
      "outputs": [
        {
          "output_type": "execute_result",
          "data": {
            "text/plain": [
              "torch.Tensor"
            ]
          },
          "metadata": {
            "tags": []
          },
          "execution_count": 41
        }
      ]
    },
    {
      "cell_type": "code",
      "metadata": {
        "id": "BUzBoNeE02t8",
        "colab_type": "code",
        "colab": {}
      },
      "source": [
        "torch_to_numpy = torch_tensor.numpy()"
      ],
      "execution_count": 0,
      "outputs": []
    },
    {
      "cell_type": "code",
      "metadata": {
        "id": "ii5WC9Mu02t_",
        "colab_type": "code",
        "outputId": "286f79e7-7001-4933-955a-79f3679621e3",
        "colab": {
          "base_uri": "https://localhost:8080/",
          "height": 35
        }
      },
      "source": [
        "type(torch_to_numpy)"
      ],
      "execution_count": 37,
      "outputs": [
        {
          "output_type": "execute_result",
          "data": {
            "text/plain": [
              "numpy.ndarray"
            ]
          },
          "metadata": {
            "tags": []
          },
          "execution_count": 37
        }
      ]
    },
    {
      "cell_type": "markdown",
      "metadata": {
        "id": "J94HGV7G02uC",
        "colab_type": "text"
      },
      "source": [
        "### 5. Tensor Operations\n",
        "[What's the difference between reshape and view in pytorch?](https://stackoverflow.com/questions/49643225/whats-the-difference-between-reshape-and-view-in-pytorch)\n",
        "#### Resizing Tensor\n",
        "\n",
        "```\n",
        ".size()\n",
        ".view() #Flatten?\n",
        "```"
      ]
    },
    {
      "cell_type": "code",
      "metadata": {
        "id": "A-BhdUwg02uD",
        "colab_type": "code",
        "outputId": "aed62eff-2a59-4677-9d1d-34c5cddbd9bd",
        "colab": {
          "base_uri": "https://localhost:8080/",
          "height": 54
        }
      },
      "source": [
        "a = torch.ones(2,2)\n",
        "a"
      ],
      "execution_count": 43,
      "outputs": [
        {
          "output_type": "execute_result",
          "data": {
            "text/plain": [
              "tensor([[1., 1.],\n",
              "        [1., 1.]])"
            ]
          },
          "metadata": {
            "tags": []
          },
          "execution_count": 43
        }
      ]
    },
    {
      "cell_type": "code",
      "metadata": {
        "id": "SWaDo-iU02uI",
        "colab_type": "code",
        "outputId": "7f80a7c4-0a50-48ea-f191-56ae9de64a7e",
        "colab": {
          "base_uri": "https://localhost:8080/",
          "height": 35
        }
      },
      "source": [
        "a.size()"
      ],
      "execution_count": 44,
      "outputs": [
        {
          "output_type": "execute_result",
          "data": {
            "text/plain": [
              "torch.Size([2, 2])"
            ]
          },
          "metadata": {
            "tags": []
          },
          "execution_count": 44
        }
      ]
    },
    {
      "cell_type": "code",
      "metadata": {
        "id": "mE0v4JUe02uN",
        "colab_type": "code",
        "outputId": "3152416c-084b-475e-eb90-5637e38e2cea",
        "colab": {
          "base_uri": "https://localhost:8080/",
          "height": 35
        }
      },
      "source": [
        "a.view(4)   ## Flatten?"
      ],
      "execution_count": 45,
      "outputs": [
        {
          "output_type": "execute_result",
          "data": {
            "text/plain": [
              "tensor([1., 1., 1., 1.])"
            ]
          },
          "metadata": {
            "tags": []
          },
          "execution_count": 45
        }
      ]
    },
    {
      "cell_type": "code",
      "metadata": {
        "id": "kmf-LuAl02uR",
        "colab_type": "code",
        "outputId": "dbc7bb98-bc17-4072-c7cd-0c8c600ddadc",
        "colab": {
          "base_uri": "https://localhost:8080/",
          "height": 35
        }
      },
      "source": [
        "a.view(4).size()"
      ],
      "execution_count": 46,
      "outputs": [
        {
          "output_type": "execute_result",
          "data": {
            "text/plain": [
              "torch.Size([4])"
            ]
          },
          "metadata": {
            "tags": []
          },
          "execution_count": 46
        }
      ]
    },
    {
      "cell_type": "markdown",
      "metadata": {
        "id": "s8PXYMGI02uX",
        "colab_type": "text"
      },
      "source": [
        "### Element Wise Addition \n",
        "```\n",
        "add\n",
        "add_ (in-place operation)\n",
        "```"
      ]
    },
    {
      "cell_type": "code",
      "metadata": {
        "id": "EARG5DhP02uY",
        "colab_type": "code",
        "outputId": "74080b84-37b6-42c3-fb31-8806a33976fe",
        "colab": {
          "base_uri": "https://localhost:8080/",
          "height": 54
        }
      },
      "source": [
        "a = torch.ones(2,2)\n",
        "a"
      ],
      "execution_count": 47,
      "outputs": [
        {
          "output_type": "execute_result",
          "data": {
            "text/plain": [
              "tensor([[1., 1.],\n",
              "        [1., 1.]])"
            ]
          },
          "metadata": {
            "tags": []
          },
          "execution_count": 47
        }
      ]
    },
    {
      "cell_type": "code",
      "metadata": {
        "id": "eU67bJvQ02uc",
        "colab_type": "code",
        "outputId": "c4b3d2f6-6295-4cc5-8093-441527788cac",
        "colab": {
          "base_uri": "https://localhost:8080/",
          "height": 54
        }
      },
      "source": [
        "b = torch.ones(2,2)\n",
        "b"
      ],
      "execution_count": 48,
      "outputs": [
        {
          "output_type": "execute_result",
          "data": {
            "text/plain": [
              "tensor([[1., 1.],\n",
              "        [1., 1.]])"
            ]
          },
          "metadata": {
            "tags": []
          },
          "execution_count": 48
        }
      ]
    },
    {
      "cell_type": "code",
      "metadata": {
        "id": "R108rjwJ02ug",
        "colab_type": "code",
        "outputId": "97831864-e4b0-479a-fda0-f7ff1afcd37f",
        "colab": {
          "base_uri": "https://localhost:8080/",
          "height": 54
        }
      },
      "source": [
        "# Element wise addition\n",
        "c = a+b\n",
        "c"
      ],
      "execution_count": 49,
      "outputs": [
        {
          "output_type": "execute_result",
          "data": {
            "text/plain": [
              "tensor([[2., 2.],\n",
              "        [2., 2.]])"
            ]
          },
          "metadata": {
            "tags": []
          },
          "execution_count": 49
        }
      ]
    },
    {
      "cell_type": "code",
      "metadata": {
        "id": "r6DFyfMR02up",
        "colab_type": "code",
        "outputId": "35bd685c-a19b-4ad5-f9c3-e2badc2d6e78",
        "colab": {
          "base_uri": "https://localhost:8080/",
          "height": 54
        }
      },
      "source": [
        "# Element wise addition\n",
        "c = torch.add(a,b)\n",
        "c"
      ],
      "execution_count": 50,
      "outputs": [
        {
          "output_type": "execute_result",
          "data": {
            "text/plain": [
              "tensor([[2., 2.],\n",
              "        [2., 2.]])"
            ]
          },
          "metadata": {
            "tags": []
          },
          "execution_count": 50
        }
      ]
    },
    {
      "cell_type": "code",
      "metadata": {
        "id": "_TQPtGuf02uv",
        "colab_type": "code",
        "outputId": "eedb24d2-79ea-4a77-8913-0ff3b7905a6f",
        "colab": {
          "base_uri": "https://localhost:8080/",
          "height": 145
        }
      },
      "source": [
        "# In-Place addition\n",
        "#在pytorch中经常加后缀“_”来代表原地in-place operation \n",
        "# python里面的+=，*=也是in-place operation\n",
        "\n",
        "print(\"Old c Tensor \")\n",
        "print(c)\n",
        "\n",
        "c.add_(a)  \n",
        "\n",
        "print('_'*60)\n",
        "\n",
        "print(\"New c Tensor \")\n",
        "print(c)"
      ],
      "execution_count": 51,
      "outputs": [
        {
          "output_type": "stream",
          "text": [
            "Old c Tensor \n",
            "tensor([[2., 2.],\n",
            "        [2., 2.]])\n",
            "____________________________________________________________\n",
            "New c Tensor \n",
            "tensor([[3., 3.],\n",
            "        [3., 3.]])\n"
          ],
          "name": "stdout"
        }
      ]
    },
    {
      "cell_type": "markdown",
      "metadata": {
        "id": "bga_JaMo02u0",
        "colab_type": "text"
      },
      "source": [
        "### Element Wise Subtraction\n",
        "```\n",
        ".sub\n",
        ".sub_\n",
        "```"
      ]
    },
    {
      "cell_type": "code",
      "metadata": {
        "id": "T7tBtftQ02u1",
        "colab_type": "code",
        "outputId": "3e058f11-de91-4efc-f90f-dd6df6b6c37f",
        "colab": {
          "base_uri": "https://localhost:8080/",
          "height": 90
        }
      },
      "source": [
        "print(a)\n",
        "print(b)"
      ],
      "execution_count": 52,
      "outputs": [
        {
          "output_type": "stream",
          "text": [
            "tensor([[1., 1.],\n",
            "        [1., 1.]])\n",
            "tensor([[1., 1.],\n",
            "        [1., 1.]])\n"
          ],
          "name": "stdout"
        }
      ]
    },
    {
      "cell_type": "code",
      "metadata": {
        "id": "D0Sb7IVX02u5",
        "colab_type": "code",
        "outputId": "aaaa7f6d-7544-4b48-dc25-35cbbb7def5b",
        "colab": {
          "base_uri": "https://localhost:8080/",
          "height": 54
        }
      },
      "source": [
        "a-b"
      ],
      "execution_count": 53,
      "outputs": [
        {
          "output_type": "execute_result",
          "data": {
            "text/plain": [
              "tensor([[0., 0.],\n",
              "        [0., 0.]])"
            ]
          },
          "metadata": {
            "tags": []
          },
          "execution_count": 53
        }
      ]
    },
    {
      "cell_type": "code",
      "metadata": {
        "id": "9ivQuN7U02u9",
        "colab_type": "code",
        "outputId": "44092ad3-591d-42de-8289-627e1ae653a6",
        "colab": {
          "base_uri": "https://localhost:8080/",
          "height": 54
        }
      },
      "source": [
        "# not in-place\n",
        "a.sub(b)"
      ],
      "execution_count": 54,
      "outputs": [
        {
          "output_type": "execute_result",
          "data": {
            "text/plain": [
              "tensor([[0., 0.],\n",
              "        [0., 0.]])"
            ]
          },
          "metadata": {
            "tags": []
          },
          "execution_count": 54
        }
      ]
    },
    {
      "cell_type": "code",
      "metadata": {
        "id": "SZQhvbLp02vA",
        "colab_type": "code",
        "outputId": "891fb6eb-04f5-497e-f05c-1b094e236fc4",
        "colab": {
          "base_uri": "https://localhost:8080/",
          "height": 54
        }
      },
      "source": [
        "a"
      ],
      "execution_count": 55,
      "outputs": [
        {
          "output_type": "execute_result",
          "data": {
            "text/plain": [
              "tensor([[1., 1.],\n",
              "        [1., 1.]])"
            ]
          },
          "metadata": {
            "tags": []
          },
          "execution_count": 55
        }
      ]
    },
    {
      "cell_type": "code",
      "metadata": {
        "id": "dq6jh19-02vD",
        "colab_type": "code",
        "outputId": "d46fa8d9-a5c9-4f05-d4c9-0686bd519981",
        "colab": {
          "base_uri": "https://localhost:8080/",
          "height": 54
        }
      },
      "source": [
        "# inplace\n",
        "a.sub_(b)"
      ],
      "execution_count": 56,
      "outputs": [
        {
          "output_type": "execute_result",
          "data": {
            "text/plain": [
              "tensor([[0., 0.],\n",
              "        [0., 0.]])"
            ]
          },
          "metadata": {
            "tags": []
          },
          "execution_count": 56
        }
      ]
    },
    {
      "cell_type": "code",
      "metadata": {
        "id": "Ae7RBIqG02vF",
        "colab_type": "code",
        "outputId": "083c5b7b-41fa-4106-d662-d5c2625f12bc",
        "colab": {
          "base_uri": "https://localhost:8080/",
          "height": 54
        }
      },
      "source": [
        "a"
      ],
      "execution_count": 57,
      "outputs": [
        {
          "output_type": "execute_result",
          "data": {
            "text/plain": [
              "tensor([[0., 0.],\n",
              "        [0., 0.]])"
            ]
          },
          "metadata": {
            "tags": []
          },
          "execution_count": 57
        }
      ]
    },
    {
      "cell_type": "markdown",
      "metadata": {
        "id": "hKHzHgIO02vH",
        "colab_type": "text"
      },
      "source": [
        "### Element Wise Multiplication\n",
        "```\n",
        "torch.mul(a,b)\n",
        "a.mul_(b) \n",
        "```"
      ]
    },
    {
      "cell_type": "code",
      "metadata": {
        "id": "NNv812fB02vH",
        "colab_type": "code",
        "outputId": "6cc26436-f01b-453a-c988-a0b4b89fc9a7",
        "colab": {}
      },
      "source": [
        "\n",
        "\n",
        "a = torch.ones(2,2)\n",
        "a"
      ],
      "execution_count": 0,
      "outputs": [
        {
          "output_type": "execute_result",
          "data": {
            "text/plain": [
              "tensor([[1., 1.],\n",
              "        [1., 1.]])"
            ]
          },
          "metadata": {
            "tags": []
          },
          "execution_count": 76
        }
      ]
    },
    {
      "cell_type": "code",
      "metadata": {
        "id": "irGyLYNh02vK",
        "colab_type": "code",
        "outputId": "369e15d5-3ac8-4734-8042-4d5dd5219f4f",
        "colab": {}
      },
      "source": [
        "b = torch.zeros(2,2)\n",
        "b"
      ],
      "execution_count": 0,
      "outputs": [
        {
          "output_type": "execute_result",
          "data": {
            "text/plain": [
              "tensor([[0., 0.],\n",
              "        [0., 0.]])"
            ]
          },
          "metadata": {
            "tags": []
          },
          "execution_count": 79
        }
      ]
    },
    {
      "cell_type": "code",
      "metadata": {
        "id": "RUhi7SHc02vS",
        "colab_type": "code",
        "outputId": "9dfc4f5d-7902-405c-8ad1-4a98cc432b56",
        "colab": {}
      },
      "source": [
        "a*b"
      ],
      "execution_count": 0,
      "outputs": [
        {
          "output_type": "execute_result",
          "data": {
            "text/plain": [
              "tensor([[0., 0.],\n",
              "        [0., 0.]])"
            ]
          },
          "metadata": {
            "tags": []
          },
          "execution_count": 80
        }
      ]
    },
    {
      "cell_type": "code",
      "metadata": {
        "id": "W4YhdG5j02vX",
        "colab_type": "code",
        "outputId": "27d753b5-13a8-465e-a819-0eba71ff74e0",
        "colab": {}
      },
      "source": [
        "# Not in place\n",
        "torch.mul(a,b)"
      ],
      "execution_count": 0,
      "outputs": [
        {
          "output_type": "execute_result",
          "data": {
            "text/plain": [
              "tensor([[0., 0.],\n",
              "        [0., 0.]])"
            ]
          },
          "metadata": {
            "tags": []
          },
          "execution_count": 81
        }
      ]
    },
    {
      "cell_type": "code",
      "metadata": {
        "id": "i1scyty_02va",
        "colab_type": "code",
        "outputId": "537d822b-6c3d-4800-b371-3628b9f23f72",
        "colab": {}
      },
      "source": [
        "# In-place\n",
        "a.mul_(b)"
      ],
      "execution_count": 0,
      "outputs": [
        {
          "output_type": "execute_result",
          "data": {
            "text/plain": [
              "tensor([[0., 0.],\n",
              "        [0., 0.]])"
            ]
          },
          "metadata": {
            "tags": []
          },
          "execution_count": 82
        }
      ]
    },
    {
      "cell_type": "markdown",
      "metadata": {
        "id": "W_rUHQ2v02vc",
        "colab_type": "text"
      },
      "source": [
        "### Element Wise Division\n",
        "```\n",
        "b.div(a)\n",
        "b.div_(a)\n",
        "```"
      ]
    },
    {
      "cell_type": "code",
      "metadata": {
        "id": "pynjrJXY02vc",
        "colab_type": "code",
        "colab": {}
      },
      "source": [
        "a = torch.ones(2,2)\n",
        "b = torch.zeros(2,2)"
      ],
      "execution_count": 0,
      "outputs": []
    },
    {
      "cell_type": "code",
      "metadata": {
        "id": "DWbhS7Vr02vd",
        "colab_type": "code",
        "outputId": "99901c15-f8da-4b98-bf54-cf3ac2495f0b",
        "colab": {
          "base_uri": "https://localhost:8080/",
          "height": 126
        }
      },
      "source": [
        "# Not In place\n",
        "print(b/a)\n",
        "\n",
        "print(b.div(a))\n",
        "\n",
        "print(torch.div(b,a))"
      ],
      "execution_count": 62,
      "outputs": [
        {
          "output_type": "stream",
          "text": [
            "tensor([[0., 0.],\n",
            "        [0., 0.]])\n",
            "tensor([[0., 0.],\n",
            "        [0., 0.]])\n",
            "tensor([[0., 0.],\n",
            "        [0., 0.]])\n"
          ],
          "name": "stdout"
        }
      ]
    },
    {
      "cell_type": "code",
      "metadata": {
        "id": "h4r655lp02vf",
        "colab_type": "code",
        "outputId": "6d167027-a239-489d-82f7-aadfbcfa1161",
        "colab": {}
      },
      "source": [
        "# In place\n",
        "b.div_(a)\n",
        "\n"
      ],
      "execution_count": 0,
      "outputs": [
        {
          "output_type": "execute_result",
          "data": {
            "text/plain": [
              "tensor([[0., 0.],\n",
              "        [0., 0.]])"
            ]
          },
          "metadata": {
            "tags": []
          },
          "execution_count": 85
        }
      ]
    },
    {
      "cell_type": "markdown",
      "metadata": {
        "id": "jMrhriuX02vi",
        "colab_type": "text"
      },
      "source": [
        "### Tensor Mean\n",
        "\n",
        "[Understanding dimensions in PyTorch](https://towardsdatascience.com/understanding-dimensions-in-pytorch-6edf9972d3be)\n",
        "```\n",
        "* 1+2+3+4+5+6+7+8+9+10 = 55\n",
        "* mean = 55/10 =5.5\n",
        "```"
      ]
    },
    {
      "cell_type": "code",
      "metadata": {
        "id": "NS0C27Xt02vj",
        "colab_type": "code",
        "outputId": "42f6c931-e48f-4e17-b091-c84e61255a6a",
        "colab": {
          "base_uri": "https://localhost:8080/",
          "height": 35
        }
      },
      "source": [
        "a = torch.Tensor([1,2,3,4,5,6,7,8,9,10])\n",
        "a.size()"
      ],
      "execution_count": 63,
      "outputs": [
        {
          "output_type": "execute_result",
          "data": {
            "text/plain": [
              "torch.Size([10])"
            ]
          },
          "metadata": {
            "tags": []
          },
          "execution_count": 63
        }
      ]
    },
    {
      "cell_type": "code",
      "metadata": {
        "id": "4rbuMFyU02vn",
        "colab_type": "code",
        "outputId": "92ee0ba2-4d8a-430f-e0d2-3b05e9c12220",
        "colab": {
          "base_uri": "https://localhost:8080/",
          "height": 35
        }
      },
      "source": [
        "a.mean(dim=0) #only one dimension"
      ],
      "execution_count": 64,
      "outputs": [
        {
          "output_type": "execute_result",
          "data": {
            "text/plain": [
              "tensor(5.5000)"
            ]
          },
          "metadata": {
            "tags": []
          },
          "execution_count": 64
        }
      ]
    },
    {
      "cell_type": "code",
      "metadata": {
        "id": "1eQvR3Dj02v0",
        "colab_type": "code",
        "outputId": "79ae61a2-bdf2-4499-dd60-435c24a78b89",
        "colab": {
          "base_uri": "https://localhost:8080/",
          "height": 35
        }
      },
      "source": [
        "a = torch.Tensor([[[1,2,3,4,5,6,7,8,9,10],[1,2,3,4,5,6,7,8,9,10]],[[1,2,3,4,5,6,7,8,9,10],[1,2,3,4,5,6,7,8,9,10]],[[1,2,3,4,5,6,7,8,9,10],[1,2,3,4,5,6,7,8,9,10]]])\n",
        "a.size()"
      ],
      "execution_count": 70,
      "outputs": [
        {
          "output_type": "execute_result",
          "data": {
            "text/plain": [
              "torch.Size([3, 2, 10])"
            ]
          },
          "metadata": {
            "tags": []
          },
          "execution_count": 70
        }
      ]
    },
    {
      "cell_type": "code",
      "metadata": {
        "id": "rdtAQdFW02v3",
        "colab_type": "code",
        "outputId": "6c979cbb-7f9b-43da-c9c7-a8a3c4cb4fd1",
        "colab": {
          "base_uri": "https://localhost:8080/",
          "height": 54
        }
      },
      "source": [
        "print(a.mean(dim=1))\n",
        "# print(a.mean(dim=0))\n"
      ],
      "execution_count": 68,
      "outputs": [
        {
          "output_type": "stream",
          "text": [
            "tensor([5.5000, 5.5000])\n",
            "tensor([ 1.,  2.,  3.,  4.,  5.,  6.,  7.,  8.,  9., 10.])\n"
          ],
          "name": "stdout"
        }
      ]
    },
    {
      "cell_type": "code",
      "metadata": {
        "id": "Zl9clv4cM2le",
        "colab_type": "code",
        "colab": {}
      },
      "source": [
        ""
      ],
      "execution_count": 0,
      "outputs": []
    },
    {
      "cell_type": "code",
      "metadata": {
        "id": "vCtyVOvKM2og",
        "colab_type": "code",
        "colab": {
          "base_uri": "https://localhost:8080/",
          "height": 35
        },
        "outputId": "53cd396c-12e5-4019-dd01-2504d0bf6ff2"
      },
      "source": [
        "y = torch.tensor([\n",
        "  [\n",
        "    [1, 2, 3],\n",
        "    [4, 5, 6]\n",
        "  ],\n",
        "  [\n",
        "    [1, 2, 3],\n",
        "    [4, 5, 6]\n",
        "  ],\n",
        "  [\n",
        "    [1, 2, 3],\n",
        "    [4, 5, 6]\n",
        "  ],\n",
        "  [\n",
        "    [1, 2, 3],\n",
        "    [4, 5, 6]\n",
        "  ]\n",
        "])\n",
        "y.shape\n",
        "# torch.Size([3, 2, 3])"
      ],
      "execution_count": 75,
      "outputs": [
        {
          "output_type": "execute_result",
          "data": {
            "text/plain": [
              "torch.Size([4, 2, 3])"
            ]
          },
          "metadata": {
            "tags": []
          },
          "execution_count": 75
        }
      ]
    },
    {
      "cell_type": "code",
      "metadata": {
        "id": "G50NpDn7M2rm",
        "colab_type": "code",
        "colab": {
          "base_uri": "https://localhost:8080/",
          "height": 235
        },
        "outputId": "3222ce30-8884-4f5a-911a-24025fc2aea2"
      },
      "source": [
        "print(y.sum(dim=0))\n",
        "print(\"-\"*50)\n",
        "print(y.sum(dim=1))\n",
        "print(\"-\"*50)\n",
        "print(y.sum(dim=2))"
      ],
      "execution_count": 78,
      "outputs": [
        {
          "output_type": "stream",
          "text": [
            "tensor([[ 4,  8, 12],\n",
            "        [16, 20, 24]])\n",
            "--------------------------------------------------\n",
            "tensor([[5, 7, 9],\n",
            "        [5, 7, 9],\n",
            "        [5, 7, 9],\n",
            "        [5, 7, 9]])\n",
            "--------------------------------------------------\n",
            "tensor([[ 6, 15],\n",
            "        [ 6, 15],\n",
            "        [ 6, 15],\n",
            "        [ 6, 15]])\n"
          ],
          "name": "stdout"
        }
      ]
    },
    {
      "cell_type": "markdown",
      "metadata": {
        "id": "fTrnxcbX02v8",
        "colab_type": "text"
      },
      "source": [
        "### Tensor Standard Deviation "
      ]
    },
    {
      "cell_type": "code",
      "metadata": {
        "id": "udI1ozCo02v9",
        "colab_type": "code",
        "outputId": "f56b5fcd-dd02-44e7-b8d6-3b0972610eac",
        "colab": {
          "base_uri": "https://localhost:8080/",
          "height": 35
        }
      },
      "source": [
        "a = torch.Tensor([1,2,3,4,5,6,7,8,9,10])\n",
        "a.std(dim=0)"
      ],
      "execution_count": 79,
      "outputs": [
        {
          "output_type": "execute_result",
          "data": {
            "text/plain": [
              "tensor(3.0277)"
            ]
          },
          "metadata": {
            "tags": []
          },
          "execution_count": 79
        }
      ]
    },
    {
      "cell_type": "code",
      "metadata": {
        "id": "_gUgMVBH02v_",
        "colab_type": "code",
        "colab": {
          "base_uri": "https://localhost:8080/",
          "height": 35
        },
        "outputId": "5cdd196f-89ba-40da-cbdc-81fd5fb0c883"
      },
      "source": [
        "a1 = np.array([1,2,3,4,5,6,7,8,9,10])\n",
        "a1.std(axis=0)"
      ],
      "execution_count": 81,
      "outputs": [
        {
          "output_type": "execute_result",
          "data": {
            "text/plain": [
              "2.8722813232690143"
            ]
          },
          "metadata": {
            "tags": []
          },
          "execution_count": 81
        }
      ]
    },
    {
      "cell_type": "code",
      "metadata": {
        "id": "xnAA2TVgS1Wm",
        "colab_type": "code",
        "colab": {}
      },
      "source": [
        ""
      ],
      "execution_count": 0,
      "outputs": []
    }
  ]
}