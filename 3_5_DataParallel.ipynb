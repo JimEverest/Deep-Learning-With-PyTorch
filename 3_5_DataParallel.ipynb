{
  "nbformat": 4,
  "nbformat_minor": 0,
  "metadata": {
    "colab": {
      "name": "3.5 DataParallel.ipynb",
      "provenance": [],
      "authorship_tag": "ABX9TyMg4pSvInKT8U2g4dQyML2A",
      "include_colab_link": true
    },
    "kernelspec": {
      "name": "python3",
      "display_name": "Python 3"
    },
    "accelerator": "GPU"
  },
  "cells": [
    {
      "cell_type": "markdown",
      "metadata": {
        "id": "view-in-github",
        "colab_type": "text"
      },
      "source": [
        "<a href=\"https://colab.research.google.com/github/JimEverest/Deep-Learning-With-PyTorch/blob/master/3_5_DataParallel.ipynb\" target=\"_parent\"><img src=\"https://colab.research.google.com/assets/colab-badge.svg\" alt=\"Open In Colab\"/></a>"
      ]
    },
    {
      "cell_type": "code",
      "metadata": {
        "id": "jSGDUjg33Ctp",
        "colab_type": "code",
        "colab": {
          "base_uri": "https://localhost:8080/",
          "height": 34
        },
        "outputId": "c2f2f297-4bb2-42b5-dd29-5ed9c8147d4f"
      },
      "source": [
        "import torch\n",
        "print(torch.cuda.is_available())\n",
        "import torch.nn as nn"
      ],
      "execution_count": 5,
      "outputs": [
        {
          "output_type": "stream",
          "text": [
            "True\n"
          ],
          "name": "stdout"
        }
      ]
    },
    {
      "cell_type": "code",
      "metadata": {
        "id": "27ZhMxzJ3LE3",
        "colab_type": "code",
        "colab": {
          "base_uri": "https://localhost:8080/",
          "height": 34
        },
        "outputId": "da4951db-3d41-4e48-b30b-25d67e15fe56"
      },
      "source": [
        "torch.cuda.device_count()"
      ],
      "execution_count": 3,
      "outputs": [
        {
          "output_type": "execute_result",
          "data": {
            "text/plain": [
              "1"
            ]
          },
          "metadata": {
            "tags": []
          },
          "execution_count": 3
        }
      ]
    },
    {
      "cell_type": "code",
      "metadata": {
        "id": "hq3RZrMX3MCQ",
        "colab_type": "code",
        "colab": {
          "base_uri": "https://localhost:8080/",
          "height": 34
        },
        "outputId": "3f3d5111-65bf-4995-bd6e-0dcd7d8729d1"
      },
      "source": [
        "device1 = torch.device(\"cuda:0\" if torch.cuda.is_available() else \"cpu\")\n",
        "device1"
      ],
      "execution_count": 15,
      "outputs": [
        {
          "output_type": "execute_result",
          "data": {
            "text/plain": [
              "device(type='cuda', index=0)"
            ]
          },
          "metadata": {
            "tags": []
          },
          "execution_count": 15
        }
      ]
    },
    {
      "cell_type": "code",
      "metadata": {
        "id": "RUUw79Ea3OqV",
        "colab_type": "code",
        "colab": {}
      },
      "source": [
        "#哪些东西给device\n",
        "model.to(device)\n",
        "data.to(device)\n",
        "\n",
        "#并行\n",
        "model = nn.DataParallel(model)"
      ],
      "execution_count": 0,
      "outputs": []
    },
    {
      "cell_type": "markdown",
      "metadata": {
        "id": "Sg5DrBjp3_5r",
        "colab_type": "text"
      },
      "source": [
        "# Toy Data and Model"
      ]
    },
    {
      "cell_type": "code",
      "metadata": {
        "id": "hIHCsn6X3woJ",
        "colab_type": "code",
        "colab": {}
      },
      "source": [
        "from torch.utils.data import Dataset, DataLoader\n",
        "input_size = 5\n",
        "output_size = 2\n",
        "batch_size=30\n",
        "data_size = 100 # total"
      ],
      "execution_count": 0,
      "outputs": []
    },
    {
      "cell_type": "code",
      "metadata": {
        "id": "iCnsaOjj3wrj",
        "colab_type": "code",
        "colab": {}
      },
      "source": [
        "# 新数据包装成DataLoader\n",
        "class RandomDataset(Dataset):\n",
        "  def __init__(self,input_size,data_size):\n",
        "    self.len = data_size\n",
        "    self.data = torch.randn(data_size,input_size)\n",
        "\n",
        "  def __getitem__(self,index):\n",
        "    return self.data[index]\n",
        "\n",
        "  def __len__(self):\n",
        "    return self.len\n",
        "\n",
        "rand_loader = DataLoader(dataset = RandomDataset(input_size,data_size),batch_size=batch_size,shuffle = True)"
      ],
      "execution_count": 0,
      "outputs": []
    },
    {
      "cell_type": "code",
      "metadata": {
        "id": "0BTX_lbX5Ytm",
        "colab_type": "code",
        "colab": {}
      },
      "source": [
        "# Model Define:\n",
        "class Model(nn.Module):\n",
        "  def __init__(self,input_size,output_size):\n",
        "    super(Model,self).__init__()\n",
        "    self.fc = nn.Linear(input_size,output_size)\n",
        "\n",
        "  def forward(self,input):\n",
        "    output = self.fc(input)\n",
        "    print(\"\\t In Model: input size: \", input.size(),\"\\t output size: \", output.size())\n",
        "    return output\n",
        "    "
      ],
      "execution_count": 0,
      "outputs": []
    },
    {
      "cell_type": "code",
      "metadata": {
        "id": "rxyIMlap_8Sl",
        "colab_type": "code",
        "colab": {
          "base_uri": "https://localhost:8080/",
          "height": 118
        },
        "outputId": "c739d7a6-bd4d-41d7-83ae-3e4d4751c758"
      },
      "source": [
        "model = Model(input_size,output_size)\n",
        "print(\"Use: \" , torch.cuda.device_count(), \" GPUs\")\n",
        "model = nn.DataParallel(model) #声明并行\n",
        "model.to(device1)"
      ],
      "execution_count": 19,
      "outputs": [
        {
          "output_type": "stream",
          "text": [
            "Use:  1  GPUs\n"
          ],
          "name": "stdout"
        },
        {
          "output_type": "execute_result",
          "data": {
            "text/plain": [
              "DataParallel(\n",
              "  (module): Model(\n",
              "    (fc): Linear(in_features=5, out_features=2, bias=True)\n",
              "  )\n",
              ")"
            ]
          },
          "metadata": {
            "tags": []
          },
          "execution_count": 19
        }
      ]
    },
    {
      "cell_type": "code",
      "metadata": {
        "id": "lKbNi9sz6JWA",
        "colab_type": "code",
        "colab": {
          "base_uri": "https://localhost:8080/",
          "height": 151
        },
        "outputId": "d0b9375b-a94a-4cd5-f3e3-63484a716a57"
      },
      "source": [
        "#train\n",
        "\n",
        "for data in rand_loader:\n",
        "  input = data.to(device)\n",
        "  output = model(input)\n",
        "  print(\"----- Outside: input size\", input.size(), \"----- output.size: \", output.size())"
      ],
      "execution_count": 23,
      "outputs": [
        {
          "output_type": "stream",
          "text": [
            "\t In Model: input size:  torch.Size([30, 5]) \t output size:  torch.Size([30, 2])\n",
            "----- Outside: input size torch.Size([30, 5]) ----- output.size:  torch.Size([30, 2])\n",
            "\t In Model: input size:  torch.Size([30, 5]) \t output size:  torch.Size([30, 2])\n",
            "----- Outside: input size torch.Size([30, 5]) ----- output.size:  torch.Size([30, 2])\n",
            "\t In Model: input size:  torch.Size([30, 5]) \t output size:  torch.Size([30, 2])\n",
            "----- Outside: input size torch.Size([30, 5]) ----- output.size:  torch.Size([30, 2])\n",
            "\t In Model: input size:  torch.Size([10, 5]) \t output size:  torch.Size([10, 2])\n",
            "----- Outside: input size torch.Size([10, 5]) ----- output.size:  torch.Size([10, 2])\n"
          ],
          "name": "stdout"
        }
      ]
    },
    {
      "cell_type": "code",
      "metadata": {
        "id": "BxGExM1C6JeA",
        "colab_type": "code",
        "colab": {}
      },
      "source": [
        ""
      ],
      "execution_count": 0,
      "outputs": []
    }
  ]
}