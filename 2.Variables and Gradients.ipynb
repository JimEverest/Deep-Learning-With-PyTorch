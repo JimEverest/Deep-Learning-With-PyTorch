{
  "nbformat": 4,
  "nbformat_minor": 0,
  "metadata": {
    "kernelspec": {
      "display_name": "Python 3",
      "language": "python",
      "name": "python3"
    },
    "language_info": {
      "codemirror_mode": {
        "name": "ipython",
        "version": 3
      },
      "file_extension": ".py",
      "mimetype": "text/x-python",
      "name": "python",
      "nbconvert_exporter": "python",
      "pygments_lexer": "ipython3",
      "version": "3.6.4"
    },
    "colab": {
      "name": "2.Variables and Gradients.ipynb",
      "provenance": []
    }
  },
  "cells": [
    {
      "cell_type": "markdown",
      "metadata": {
        "id": "oQDZM7p6v2gt",
        "colab_type": "text"
      },
      "source": [
        "# PyTorch Fundamentals : Variables and Gradients"
      ]
    },
    {
      "cell_type": "markdown",
      "metadata": {
        "id": "KXFu3IcLv2g6",
        "colab_type": "text"
      },
      "source": [
        "### 1.Variables\n",
        "\n",
        "* A variable wraps a Tensor.\n",
        "* Allows accumulation of gradients .\n"
      ]
    },
    {
      "cell_type": "code",
      "metadata": {
        "id": "jnArYJcKv2hE",
        "colab_type": "code",
        "colab": {}
      },
      "source": [
        "import torch\n",
        "from torch.autograd import Variable"
      ],
      "execution_count": 0,
      "outputs": []
    },
    {
      "cell_type": "code",
      "metadata": {
        "id": "Mdsa4pddv2hV",
        "colab_type": "code",
        "colab": {},
        "outputId": "d363e016-6082-4177-8e7b-2e81512e8134"
      },
      "source": [
        "a = Variable(torch.ones(2,2),requires_grad=True)\n",
        "a\n"
      ],
      "execution_count": 0,
      "outputs": [
        {
          "output_type": "execute_result",
          "data": {
            "text/plain": [
              "tensor([[1., 1.],\n",
              "        [1., 1.]], requires_grad=True)"
            ]
          },
          "metadata": {
            "tags": []
          },
          "execution_count": 2
        }
      ]
    },
    {
      "cell_type": "code",
      "metadata": {
        "id": "_wT7tkNpv2hj",
        "colab_type": "code",
        "colab": {},
        "outputId": "b27311eb-a7c6-47be-f576-0c347682dca6"
      },
      "source": [
        "# not a variable\n",
        "torch.ones(2,2)"
      ],
      "execution_count": 0,
      "outputs": [
        {
          "output_type": "execute_result",
          "data": {
            "text/plain": [
              "tensor([[1., 1.],\n",
              "        [1., 1.]])"
            ]
          },
          "metadata": {
            "tags": []
          },
          "execution_count": 3
        }
      ]
    },
    {
      "cell_type": "code",
      "metadata": {
        "id": "f9ZpI72sv2hs",
        "colab_type": "code",
        "colab": {},
        "outputId": "9759ee23-0c06-4569-a777-150f97f5fd96"
      },
      "source": [
        "# Behaves simillarly to tensors\n",
        "b = Variable(torch.ones(2,2),requires_grad=True)\n",
        "print(a+b)"
      ],
      "execution_count": 0,
      "outputs": [
        {
          "output_type": "stream",
          "text": [
            "tensor([[2., 2.],\n",
            "        [2., 2.]], grad_fn=<ThAddBackward>)\n"
          ],
          "name": "stdout"
        }
      ]
    },
    {
      "cell_type": "code",
      "metadata": {
        "id": "sXOLdjp3v2h2",
        "colab_type": "code",
        "colab": {},
        "outputId": "803897c9-6c86-41db-ed3e-f8794359204e"
      },
      "source": [
        "print(torch.add(a,b))"
      ],
      "execution_count": 0,
      "outputs": [
        {
          "output_type": "stream",
          "text": [
            "tensor([[2., 2.],\n",
            "        [2., 2.]], grad_fn=<ThAddBackward>)\n"
          ],
          "name": "stdout"
        }
      ]
    },
    {
      "cell_type": "code",
      "metadata": {
        "id": "Id27PCLFv2iP",
        "colab_type": "code",
        "colab": {},
        "outputId": "7ff23834-8bfa-4362-fae2-5b9c41c6a415"
      },
      "source": [
        "print(a*b)"
      ],
      "execution_count": 0,
      "outputs": [
        {
          "output_type": "stream",
          "text": [
            "tensor([[1., 1.],\n",
            "        [1., 1.]], grad_fn=<ThMulBackward>)\n"
          ],
          "name": "stdout"
        }
      ]
    },
    {
      "cell_type": "code",
      "metadata": {
        "id": "160C2KH4v2ix",
        "colab_type": "code",
        "colab": {},
        "outputId": "09e0e091-879d-42b9-e47a-644a07a81336"
      },
      "source": [
        "print(torch.mul(a,b))"
      ],
      "execution_count": 0,
      "outputs": [
        {
          "output_type": "stream",
          "text": [
            "tensor([[1., 1.],\n",
            "        [1., 1.]], grad_fn=<ThMulBackward>)\n"
          ],
          "name": "stdout"
        }
      ]
    },
    {
      "cell_type": "code",
      "metadata": {
        "id": "1FuZp9lgv2i5",
        "colab_type": "code",
        "colab": {}
      },
      "source": [
        ""
      ],
      "execution_count": 0,
      "outputs": []
    },
    {
      "cell_type": "markdown",
      "metadata": {
        "id": "yt370LO8v2jB",
        "colab_type": "text"
      },
      "source": [
        "## Gradients\n",
        "\n",
        "*** What exactly is require to use requires_grad?***\n",
        "- Allows calculation of gradients w.r.t the variables.\n",
        "- Define original equation\n",
        "- Substitute equation with x values \n",
        "- Reduce the scalar output, *o* through mean\n",
        "- Calculate gradients with o.backward()\n",
        "- Then access gradients of the x variable through x.grad()"
      ]
    },
    {
      "cell_type": "code",
      "metadata": {
        "id": "iBXx3bziv2jF",
        "colab_type": "code",
        "colab": {},
        "outputId": "ffd11653-260b-4b6a-e0e3-f7dd694ad8b2"
      },
      "source": [
        "# setting x = 1\n",
        "\n",
        "x = Variable(torch.ones(2), requires_grad=True)\n",
        "print(x)"
      ],
      "execution_count": 0,
      "outputs": [
        {
          "output_type": "stream",
          "text": [
            "tensor([1., 1.], requires_grad=True)\n"
          ],
          "name": "stdout"
        }
      ]
    },
    {
      "cell_type": "code",
      "metadata": {
        "id": "jUexu3sPv2jR",
        "colab_type": "code",
        "colab": {},
        "outputId": "dd3dc89d-4eed-43f9-f389-2974ef1314b9"
      },
      "source": [
        "# solving a equation\n",
        "\n",
        "y = 5 * (x +1) ** 2\n",
        "print(y)"
      ],
      "execution_count": 0,
      "outputs": [
        {
          "output_type": "stream",
          "text": [
            "tensor([20., 20.], grad_fn=<MulBackward>)\n"
          ],
          "name": "stdout"
        }
      ]
    },
    {
      "cell_type": "code",
      "metadata": {
        "id": "a8o7W6T7v2jn",
        "colab_type": "code",
        "colab": {},
        "outputId": "30986566-911e-4b97-a6e3-2f1aafc6704b"
      },
      "source": [
        "# Backward should be called only on a scalar  \n",
        "o = (1/2) * torch.sum(y)\n",
        "o"
      ],
      "execution_count": 0,
      "outputs": [
        {
          "output_type": "execute_result",
          "data": {
            "text/plain": [
              "tensor(20., grad_fn=<MulBackward>)"
            ]
          },
          "metadata": {
            "tags": []
          },
          "execution_count": 30
        }
      ]
    },
    {
      "cell_type": "code",
      "metadata": {
        "id": "c_kjW4hpv2j8",
        "colab_type": "code",
        "colab": {}
      },
      "source": [
        "# backwards calculates the median\n",
        "# backwards should be called only oa a scalar\n",
        "\n",
        "o.backward()"
      ],
      "execution_count": 0,
      "outputs": []
    },
    {
      "cell_type": "code",
      "metadata": {
        "id": "H3j6bGUPv2kK",
        "colab_type": "code",
        "colab": {},
        "outputId": "5416b351-9ca2-4102-97cd-68a276142fd7"
      },
      "source": [
        "# accessing the gradient\n",
        "# gradient with respect to x \n",
        "x.grad"
      ],
      "execution_count": 0,
      "outputs": [
        {
          "output_type": "execute_result",
          "data": {
            "text/plain": [
              "tensor([10., 10.])"
            ]
          },
          "metadata": {
            "tags": []
          },
          "execution_count": 33
        }
      ]
    },
    {
      "cell_type": "code",
      "metadata": {
        "id": "ED0i2c8ov2kT",
        "colab_type": "code",
        "colab": {}
      },
      "source": [
        "\n"
      ],
      "execution_count": 0,
      "outputs": []
    },
    {
      "cell_type": "code",
      "metadata": {
        "id": "LtGS1EWRv2kh",
        "colab_type": "code",
        "colab": {}
      },
      "source": [
        ""
      ],
      "execution_count": 0,
      "outputs": []
    },
    {
      "cell_type": "code",
      "metadata": {
        "id": "F709J8NBv2ks",
        "colab_type": "code",
        "colab": {}
      },
      "source": [
        ""
      ],
      "execution_count": 0,
      "outputs": []
    }
  ]
}