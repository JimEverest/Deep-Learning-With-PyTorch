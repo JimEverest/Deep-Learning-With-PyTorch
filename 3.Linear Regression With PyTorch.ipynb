{
  "nbformat": 4,
  "nbformat_minor": 0,
  "metadata": {
    "kernelspec": {
      "display_name": "Python 3",
      "language": "python",
      "name": "python3"
    },
    "language_info": {
      "codemirror_mode": {
        "name": "ipython",
        "version": 3
      },
      "file_extension": ".py",
      "mimetype": "text/x-python",
      "name": "python",
      "nbconvert_exporter": "python",
      "pygments_lexer": "ipython3",
      "version": "3.6.4"
    },
    "colab": {
      "name": "3.Linear Regression With PyTorch.ipynb",
      "provenance": []
    }
  },
  "cells": [
    {
      "cell_type": "markdown",
      "metadata": {
        "id": "UR0-2x99OyZZ",
        "colab_type": "text"
      },
      "source": [
        "# Linear Regression With PyTorch\n",
        "\n",
        "### About Linear Regression\n",
        "\n",
        "#### 1. Simple Linear Regression\n",
        "\n",
        "* Allows us to understand relationship between two continious variables \n",
        "* Example\n",
        "    * x: independent variable\n",
        "    * y: dependent variable\n",
        "\n",
        "* $y = \\alpha$x +b\n",
        "\n",
        "#### Simple Example of Linear Regression"
      ]
    },
    {
      "cell_type": "code",
      "metadata": {
        "id": "qn_VG-oBOyZc",
        "colab_type": "code",
        "outputId": "96b11ee2-e209-4e3d-87a1-33389499b34e",
        "colab": {
          "base_uri": "https://localhost:8080/",
          "height": 265
        }
      },
      "source": [
        "import numpy as np\n",
        "import matplotlib.pyplot as plt\n",
        "\n",
        "np.random.seed(1)\n",
        "n = 50\n",
        "x = np.random.randn(n)\n",
        "y = x * np.random.randn(n)\n",
        "\n",
        "colors = np.random.rand(n)\n",
        "uni_x = np.unique(x)\n",
        "plt.plot( uni_x  ,    np.poly1d(  np.polyfit(x,y,1)  )(uni_x)       )\n",
        "plt.scatter(x ,y , c=colors , alpha =0.5 )\n",
        "plt.show()"
      ],
      "execution_count": 1,
      "outputs": [
        {
          "output_type": "display_data",
          "data": {
            "image/png": "[encoded data removed]",
            "text/plain": [
              "<Figure size 432x288 with 1 Axes>"
            ]
          },
          "metadata": {
            "tags": []
          }
        }
      ]
    },
    {
      "cell_type": "markdown",
      "metadata": {
        "id": "I8W_6vvWOyZh",
        "colab_type": "text"
      },
      "source": [
        "#### Aim of Linear Regression\n",
        "\n",
        "* Minimizing the distance between the points and the line (y=ax+b)\n",
        "* Adjusting\n",
        "    * Coeffcient : a\n",
        "    * Bias/Intercept : b\n",
        "    \n",
        "#### Building a Linear Regression Model With PyTorch\n",
        "\n",
        "* Coeffcient :a = 2\n",
        "* Bias/Intercept :b = 1\n",
        "* Equation :y = 2x+1\n"
      ]
    },
    {
      "cell_type": "markdown",
      "metadata": {
        "id": "SU0RBMX6OyZi",
        "colab_type": "text"
      },
      "source": [
        "### Building a Toy Dataset \n",
        "\n"
      ]
    },
    {
      "cell_type": "code",
      "metadata": {
        "id": "tdwF_Vj7OyZk",
        "colab_type": "code",
        "colab": {}
      },
      "source": [
        "x_values = [i for i in range(11)]"
      ],
      "execution_count": 0,
      "outputs": []
    },
    {
      "cell_type": "code",
      "metadata": {
        "id": "maniJrEDOyZn",
        "colab_type": "code",
        "outputId": "365805ba-3f6b-443d-bd32-63b21e13f0a4",
        "colab": {
          "base_uri": "https://localhost:8080/",
          "height": 35
        }
      },
      "source": [
        "x_values"
      ],
      "execution_count": 0,
      "outputs": [
        {
          "output_type": "execute_result",
          "data": {
            "text/plain": [
              "[0, 1, 2, 3, 4, 5, 6, 7, 8, 9, 10]"
            ]
          },
          "metadata": {
            "tags": []
          },
          "execution_count": 4
        }
      ]
    },
    {
      "cell_type": "code",
      "metadata": {
        "id": "dJgKAFtnOyZp",
        "colab_type": "code",
        "outputId": "1a85cc70-d2bb-43b0-b9ed-f9d213dffd4a",
        "colab": {
          "base_uri": "https://localhost:8080/",
          "height": 35
        }
      },
      "source": [
        "#convert to numpy array\n",
        "x_train = np.array(x_values , dtype=np.float32)\n",
        "x_train.shape"
      ],
      "execution_count": 0,
      "outputs": [
        {
          "output_type": "execute_result",
          "data": {
            "text/plain": [
              "(11,)"
            ]
          },
          "metadata": {
            "tags": []
          },
          "execution_count": 8
        }
      ]
    },
    {
      "cell_type": "code",
      "metadata": {
        "id": "vgaf_ylmOyZt",
        "colab_type": "code",
        "outputId": "be5b52c1-3a71-4168-c04c-3549293eba94",
        "colab": {
          "base_uri": "https://localhost:8080/",
          "height": 208
        }
      },
      "source": [
        "# Important : we need to reshape it to 2D\n",
        "\n",
        "x_train = x_train.reshape(-1,1)\n",
        "x_train"
      ],
      "execution_count": 0,
      "outputs": [
        {
          "output_type": "execute_result",
          "data": {
            "text/plain": [
              "array([[ 0.],\n",
              "       [ 1.],\n",
              "       [ 2.],\n",
              "       [ 3.],\n",
              "       [ 4.],\n",
              "       [ 5.],\n",
              "       [ 6.],\n",
              "       [ 7.],\n",
              "       [ 8.],\n",
              "       [ 9.],\n",
              "       [10.]], dtype=float32)"
            ]
          },
          "metadata": {
            "tags": []
          },
          "execution_count": 9
        }
      ]
    },
    {
      "cell_type": "markdown",
      "metadata": {
        "id": "0gviWQYyOyZw",
        "colab_type": "text"
      },
      "source": [
        "Then \n",
        "\n",
        "y =2x+1"
      ]
    },
    {
      "cell_type": "code",
      "metadata": {
        "id": "rcqb9VkuOyZx",
        "colab_type": "code",
        "colab": {}
      },
      "source": [
        "y_values = [2*i + 1 for i in x_values]"
      ],
      "execution_count": 0,
      "outputs": []
    },
    {
      "cell_type": "code",
      "metadata": {
        "id": "NKQvlsz3OyZ0",
        "colab_type": "code",
        "outputId": "4823c024-7356-42ed-9972-39b3da8bc138",
        "colab": {
          "base_uri": "https://localhost:8080/",
          "height": 35
        }
      },
      "source": [
        "y_values"
      ],
      "execution_count": 0,
      "outputs": [
        {
          "output_type": "execute_result",
          "data": {
            "text/plain": [
              "[1, 3, 5, 7, 9, 11, 13, 15, 17, 19, 21]"
            ]
          },
          "metadata": {
            "tags": []
          },
          "execution_count": 11
        }
      ]
    },
    {
      "cell_type": "code",
      "metadata": {
        "id": "qJm_NOvrOyZ2",
        "colab_type": "code",
        "colab": {}
      },
      "source": [
        "# with normal python code\n",
        "y_values = []\n",
        "for i in x_values:\n",
        "    result = 2*i+1\n",
        "    y_values.append(result)"
      ],
      "execution_count": 0,
      "outputs": []
    },
    {
      "cell_type": "code",
      "metadata": {
        "scrolled": true,
        "id": "1kg4ynoiOyZ5",
        "colab_type": "code",
        "outputId": "dcbed9f6-65d2-4a79-fa76-670b996822c2",
        "colab": {
          "base_uri": "https://localhost:8080/",
          "height": 35
        }
      },
      "source": [
        "y_values"
      ],
      "execution_count": 0,
      "outputs": [
        {
          "output_type": "execute_result",
          "data": {
            "text/plain": [
              "[1, 3, 5, 7, 9, 11, 13, 15, 17, 19, 21]"
            ]
          },
          "metadata": {
            "tags": []
          },
          "execution_count": 13
        }
      ]
    },
    {
      "cell_type": "code",
      "metadata": {
        "id": "3loOgLX_OyZ9",
        "colab_type": "code",
        "outputId": "b5d48e6b-d609-468a-d2c9-1edde4f9d314",
        "colab": {
          "base_uri": "https://localhost:8080/",
          "height": 35
        }
      },
      "source": [
        "y_train = np.array(y_values, dtype=np.float32)\n",
        "y_train.shape"
      ],
      "execution_count": 0,
      "outputs": [
        {
          "output_type": "execute_result",
          "data": {
            "text/plain": [
              "(11,)"
            ]
          },
          "metadata": {
            "tags": []
          },
          "execution_count": 14
        }
      ]
    },
    {
      "cell_type": "code",
      "metadata": {
        "id": "KM23dSWsOyaA",
        "colab_type": "code",
        "outputId": "821cad1c-d719-4679-ff5c-860cc9e6e0b1",
        "colab": {
          "base_uri": "https://localhost:8080/",
          "height": 35
        }
      },
      "source": [
        "# resizing to 2d array\n",
        "y_train = y_train.reshape(-1,1)\n",
        "y_train.shape"
      ],
      "execution_count": 0,
      "outputs": [
        {
          "output_type": "execute_result",
          "data": {
            "text/plain": [
              "(11, 1)"
            ]
          },
          "metadata": {
            "tags": []
          },
          "execution_count": 15
        }
      ]
    },
    {
      "cell_type": "code",
      "metadata": {
        "id": "2vhn1QlYOyaD",
        "colab_type": "code",
        "colab": {}
      },
      "source": [
        "from IPython.display import display, Math, Latex"
      ],
      "execution_count": 0,
      "outputs": []
    },
    {
      "cell_type": "markdown",
      "metadata": {
        "id": "fTftGbx9OyaF",
        "colab_type": "text"
      },
      "source": [
        "### Building Model\n",
        "\n",
        "#### Critical Imports\n"
      ]
    },
    {
      "cell_type": "code",
      "metadata": {
        "id": "nrzB0QUbOyaG",
        "colab_type": "code",
        "colab": {}
      },
      "source": [
        "import torch \n",
        "import torch.nn as nn \n",
        "from torch.autograd import Variable"
      ],
      "execution_count": 0,
      "outputs": []
    },
    {
      "cell_type": "markdown",
      "metadata": {
        "id": "ezVcLi_eOyaI",
        "colab_type": "text"
      },
      "source": [
        "#### Model \n",
        "* 1. Linear Model: y = 2x+1 \n",
        "\n",
        "* 2. Forward \n",
        "    * Example\n",
        "        - Input x = 1\n",
        "        - Output y = ?"
      ]
    },
    {
      "cell_type": "code",
      "metadata": {
        "id": "Rg5eS7dnOyaJ",
        "colab_type": "code",
        "colab": {}
      },
      "source": [
        "\n",
        "# create class\n",
        "class LinearRegressionModel(nn.Module):\n",
        "    def __init__(self,input_size,output_size):\n",
        "        super(LinearRegressionModel, self).__init__()\n",
        "        self.linear = nn.Linear(input_size , output_size)\n",
        "        # print(input_dim == input_size)\n",
        "        # self.linear = nn.Linear(input_size , output_size)\n",
        "\n",
        "    def forward(self,x):\n",
        "        out =  self.linear(x)\n",
        "        return out"
      ],
      "execution_count": 0,
      "outputs": []
    },
    {
      "cell_type": "markdown",
      "metadata": {
        "id": "por9MHGYOyaM",
        "colab_type": "text"
      },
      "source": [
        "#### Instantiate Model Class\n",
        "\n",
        "* Input : [0, 1, 2, 3, 4, 5, 6, 7, 8, 9, 10]\n",
        "\n",
        "* desired Output : [1, 3, 5, 7, 9, 11, 13, 15, 17, 19, 21] "
      ]
    },
    {
      "cell_type": "code",
      "metadata": {
        "id": "IW_mCnDlOyaN",
        "colab_type": "code",
        "colab": {}
      },
      "source": [
        "input_dim = 1\n",
        "output_dim = 1\n",
        "\n",
        "model = LinearRegressionModel(input_dim,output_dim)\n"
      ],
      "execution_count": 0,
      "outputs": []
    },
    {
      "cell_type": "markdown",
      "metadata": {
        "id": "wtOCp9BaOyaS",
        "colab_type": "text"
      },
      "source": [
        "#### Instantiate Loss Class\n",
        "\n",
        "* MSE Loss : Mean Squared Error\n",
        "* MSE  = $\\frac{1}{n}\\sum^{n}_{i=1}({y_{i}}'-y_{i})$"
      ]
    },
    {
      "cell_type": "code",
      "metadata": {
        "id": "FvwNJy5BOyaT",
        "colab_type": "code",
        "colab": {}
      },
      "source": [
        "criterion = nn.MSELoss()"
      ],
      "execution_count": 0,
      "outputs": []
    },
    {
      "cell_type": "markdown",
      "metadata": {
        "id": "ALnU6a_AOyaV",
        "colab_type": "text"
      },
      "source": [
        "#### Instantiate Optimizer Class\n",
        "\n",
        "* Simplified Equation :$\\Theta = \\Theta -\\eta .*\\bigtriangledown _{\\Theta }$\n",
        "    * $\\Theta$ : parameter(Our Variables)\n",
        "    * $\\eta$ : learning rate\n",
        "    * $\\bigtriangledown _{\\Theta }$ : parameter's gradients\n",
        "    \n",
        "* Even Simpler equation:\n",
        "    * parameters  = parameters-learning_rate * parameter_gradients\n",
        "    * parameters : a & b in y =  ax+b\n",
        "    * desired parameter:a=2 & b =1 in y=2x+1"
      ]
    },
    {
      "cell_type": "code",
      "metadata": {
        "id": "go-a8YPOOyaW",
        "colab_type": "code",
        "colab": {}
      },
      "source": [
        "learning_rate = 0.01\n",
        "#Stochastic Gradient Descent\n",
        "optimizer = torch.optim.SGD(model.parameters(),lr=learning_rate)"
      ],
      "execution_count": 0,
      "outputs": []
    },
    {
      "cell_type": "markdown",
      "metadata": {
        "id": "P9oGuM3fOyaY",
        "colab_type": "text"
      },
      "source": [
        "#### Train Model\n",
        "\n",
        "* 1 epoch : going through the whole x_train data once \n",
        "    * 100 epochs : \n",
        "        * 100x mapping x_train = [0, 1, 2, 3, 4, 5, 6, 7, 8, 9, 10]\n",
        "* Process\n",
        "    1. Convert input/labels to variables\n",
        "    2. Clear gradient buffets\n",
        "    3. Get Output given inputs\n",
        "    4. Get loss\n",
        "    5. Get gradient w.r.t to parameters\n",
        "    6. update parameters using gradients\n",
        "        * parameters = parameters-learning_rate * parameter_gradients\n",
        "    7. Repeat"
      ]
    },
    {
      "cell_type": "code",
      "metadata": {
        "id": "pzvmbY3VOyaZ",
        "colab_type": "code",
        "colab": {}
      },
      "source": [
        "epochs = 100"
      ],
      "execution_count": 0,
      "outputs": []
    },
    {
      "cell_type": "code",
      "metadata": {
        "id": "1L9GHLB_Oyab",
        "colab_type": "code",
        "outputId": "053f96b6-f1a9-443f-85d2-e1f160fdf77e",
        "colab": {
          "base_uri": "https://localhost:8080/",
          "height": 1000
        }
      },
      "source": [
        "for epoch in range(epochs):\n",
        "    epoch += 1\n",
        "    \n",
        "    #converting numpy array to Torch Tensor\n",
        "    inputs = Variable(torch.from_numpy(x_train))\n",
        "    labels = Variable(torch.from_numpy(y_train))\n",
        "    \n",
        "    #clearing gradient w.r.t variables\n",
        "    optimizer.zero_grad()\n",
        "    \n",
        "    #forward to get outputs\n",
        "    outputs = model(inputs)\n",
        "    \n",
        "    #loss\n",
        "    loss = criterion(outputs, labels)\n",
        "    \n",
        "    # getting gradients w.r.t to parameters\n",
        "    loss.backward()\n",
        "    \n",
        "    #updating parameters\n",
        "    optimizer.step()\n",
        "    \n",
        "    # print('epoch {}, losss {}'.format(epoch,loss.data[0]))\n",
        "    print('epoch {}, losss {}'.format(epoch,loss.data.item()))\n",
        "    \n",
        "    \n",
        "\n",
        "                  "
      ],
      "execution_count": 0,
      "outputs": [
        {
          "output_type": "stream",
          "text": [
            "epoch 1, losss 0.00298058008775115\n",
            "epoch 2, losss 0.0029473071917891502\n",
            "epoch 3, losss 0.0029143900610506535\n",
            "epoch 4, losss 0.0028818228747695684\n",
            "epoch 5, losss 0.002849664306268096\n",
            "epoch 6, losss 0.0028178321663290262\n",
            "epoch 7, losss 0.002786380937322974\n",
            "epoch 8, losss 0.0027552731335163116\n",
            "epoch 9, losss 0.002724476158618927\n",
            "epoch 10, losss 0.002694085007533431\n",
            "epoch 11, losss 0.0026640049181878567\n",
            "epoch 12, losss 0.0026342275086790323\n",
            "epoch 13, losss 0.0026048060972243547\n",
            "epoch 14, losss 0.002575716469436884\n",
            "epoch 15, losss 0.0025469576939940453\n",
            "epoch 16, losss 0.0025185158010572195\n",
            "epoch 17, losss 0.002490412211045623\n",
            "epoch 18, losss 0.0024626096710562706\n",
            "epoch 19, losss 0.0024350991006940603\n",
            "epoch 20, losss 0.002407911466434598\n",
            "epoch 21, losss 0.0023810332641005516\n",
            "epoch 22, losss 0.0023544307332485914\n",
            "epoch 23, losss 0.0023281360045075417\n",
            "epoch 24, losss 0.002302136505022645\n",
            "epoch 25, losss 0.002276418264955282\n",
            "epoch 26, losss 0.0022509852424263954\n",
            "epoch 27, losss 0.002225866774097085\n",
            "epoch 28, losss 0.0022010107059031725\n",
            "epoch 29, losss 0.0021764410194009542\n",
            "epoch 30, losss 0.002152130240574479\n",
            "epoch 31, losss 0.0021281165536493063\n",
            "epoch 32, losss 0.002104330575093627\n",
            "epoch 33, losss 0.0020808489061892033\n",
            "epoch 34, losss 0.002057601697742939\n",
            "epoch 35, losss 0.0020346178207546473\n",
            "epoch 36, losss 0.002011900069192052\n",
            "epoch 37, losss 0.0019894291181117296\n",
            "epoch 38, losss 0.0019672021735459566\n",
            "epoch 39, losss 0.001945256837643683\n",
            "epoch 40, losss 0.001923524308949709\n",
            "epoch 41, losss 0.001902058837004006\n",
            "epoch 42, losss 0.0018808223539963365\n",
            "epoch 43, losss 0.0018598176538944244\n",
            "epoch 44, losss 0.0018390327459201217\n",
            "epoch 45, losss 0.0018185027875006199\n",
            "epoch 46, losss 0.0017981872661039233\n",
            "epoch 47, losss 0.001778123783878982\n",
            "epoch 48, losss 0.0017582759028300643\n",
            "epoch 49, losss 0.001738618011586368\n",
            "epoch 50, losss 0.0017192064551636577\n",
            "epoch 51, losss 0.0017000301741063595\n",
            "epoch 52, losss 0.0016810345696285367\n",
            "epoch 53, losss 0.0016622563125565648\n",
            "epoch 54, losss 0.0016436890000477433\n",
            "epoch 55, losss 0.0016253504436463118\n",
            "epoch 56, losss 0.0016071852296590805\n",
            "epoch 57, losss 0.0015892398077994585\n",
            "epoch 58, losss 0.0015714935725554824\n",
            "epoch 59, losss 0.0015539579326286912\n",
            "epoch 60, losss 0.001536591094918549\n",
            "epoch 61, losss 0.001519440091215074\n",
            "epoch 62, losss 0.001502478145994246\n",
            "epoch 63, losss 0.001485674874857068\n",
            "epoch 64, losss 0.0014690960524603724\n",
            "epoch 65, losss 0.0014527010498568416\n",
            "epoch 66, losss 0.0014364633243530989\n",
            "epoch 67, losss 0.0014204260660335422\n",
            "epoch 68, losss 0.00140457006637007\n",
            "epoch 69, losss 0.0013888925313949585\n",
            "epoch 70, losss 0.0013733560917899013\n",
            "epoch 71, losss 0.001358036999590695\n",
            "epoch 72, losss 0.0013428691308945417\n",
            "epoch 73, losss 0.0013278929982334375\n",
            "epoch 74, losss 0.00131305493414402\n",
            "epoch 75, losss 0.0012983932392671704\n",
            "epoch 76, losss 0.00128390162717551\n",
            "epoch 77, losss 0.0012695366749539971\n",
            "epoch 78, losss 0.001255373703315854\n",
            "epoch 79, losss 0.0012413664953783154\n",
            "epoch 80, losss 0.001227491069585085\n",
            "epoch 81, losss 0.0012137765297666192\n",
            "epoch 82, losss 0.0012002335861325264\n",
            "epoch 83, losss 0.0011868324363604188\n",
            "epoch 84, losss 0.0011735673760995269\n",
            "epoch 85, losss 0.0011604661121964455\n",
            "epoch 86, losss 0.0011474943021312356\n",
            "epoch 87, losss 0.0011346894316375256\n",
            "epoch 88, losss 0.0011220123851671815\n",
            "epoch 89, losss 0.001109487027861178\n",
            "epoch 90, losss 0.0010971013689413667\n",
            "epoch 91, losss 0.0010848511010408401\n",
            "epoch 92, losss 0.001072741113603115\n",
            "epoch 93, losss 0.0010607570875436068\n",
            "epoch 94, losss 0.00104892544914037\n",
            "epoch 95, losss 0.001037220354191959\n",
            "epoch 96, losss 0.001025606063194573\n",
            "epoch 97, losss 0.0010141613893210888\n",
            "epoch 98, losss 0.0010028461692854762\n",
            "epoch 99, losss 0.0009916523704305291\n",
            "epoch 100, losss 0.0009805754525586963\n"
          ],
          "name": "stdout"
        }
      ]
    },
    {
      "cell_type": "code",
      "metadata": {
        "id": "LnnGlr9HOyae",
        "colab_type": "code",
        "colab": {}
      },
      "source": [
        ""
      ],
      "execution_count": 0,
      "outputs": []
    },
    {
      "cell_type": "markdown",
      "metadata": {
        "id": "4xXACD4dOyah",
        "colab_type": "text"
      },
      "source": [
        "#### Compare Data"
      ]
    },
    {
      "cell_type": "code",
      "metadata": {
        "id": "LeIlhEt7Oyah",
        "colab_type": "code",
        "outputId": "0e360e96-b7c2-40fd-ef66-acdf8b559c46",
        "colab": {
          "base_uri": "https://localhost:8080/",
          "height": 208
        }
      },
      "source": [
        "# Purely inference\n",
        "# 2x+1 of (0,1,2,3,4,5,6,7,8,9)\n",
        "predicted = model(Variable(torch.from_numpy(x_train)))\n",
        "predicted = predicted.data.numpy()\n",
        "predicted"
      ],
      "execution_count": 0,
      "outputs": [
        {
          "output_type": "execute_result",
          "data": {
            "text/plain": [
              "array([[ 0.94174945],\n",
              "       [ 2.950138  ],\n",
              "       [ 4.9585266 ],\n",
              "       [ 6.966915  ],\n",
              "       [ 8.975304  ],\n",
              "       [10.983692  ],\n",
              "       [12.992081  ],\n",
              "       [15.000469  ],\n",
              "       [17.008858  ],\n",
              "       [19.017246  ],\n",
              "       [21.025635  ]], dtype=float32)"
            ]
          },
          "metadata": {
            "tags": []
          },
          "execution_count": 81
        }
      ]
    },
    {
      "cell_type": "code",
      "metadata": {
        "id": "ZH7zx1e5Oyak",
        "colab_type": "code",
        "outputId": "559f13c9-cf90-49c3-f0e1-0352f86d1862",
        "colab": {
          "base_uri": "https://localhost:8080/",
          "height": 208
        }
      },
      "source": [
        "y_train"
      ],
      "execution_count": 0,
      "outputs": [
        {
          "output_type": "execute_result",
          "data": {
            "text/plain": [
              "array([[ 1.],\n",
              "       [ 3.],\n",
              "       [ 5.],\n",
              "       [ 7.],\n",
              "       [ 9.],\n",
              "       [11.],\n",
              "       [13.],\n",
              "       [15.],\n",
              "       [17.],\n",
              "       [19.],\n",
              "       [21.]], dtype=float32)"
            ]
          },
          "metadata": {
            "tags": []
          },
          "execution_count": 82
        }
      ]
    },
    {
      "cell_type": "markdown",
      "metadata": {
        "id": "TJfAbvxWOyam",
        "colab_type": "text"
      },
      "source": [
        "#### Graph Plot \n",
        "\n"
      ]
    },
    {
      "cell_type": "code",
      "metadata": {
        "id": "hPrQoO_cOyan",
        "colab_type": "code",
        "outputId": "edfc0cb2-7299-4cee-fe88-e72810b06bad",
        "colab": {
          "base_uri": "https://localhost:8080/",
          "height": 265
        }
      },
      "source": [
        "#clear figure\n",
        "plt.clf()\n",
        "\n",
        "#get predictions\n",
        "predicted = model(Variable(torch.from_numpy(x_train))).data.numpy()\n",
        "\n",
        "#plot the true data\n",
        "plt.plot(x_train,y_train,'go',label='True Data',alpha=0.5)\n",
        "\n",
        "#plot predictions\n",
        "plt.plot(x_train,predicted,'--',label='Predictions',alpha=0.5)\n",
        "\n",
        "#Legend & Plot\n",
        "plt.legend(loc='best')\n",
        "plt.show()\n",
        "\n"
      ],
      "execution_count": 0,
      "outputs": [
        {
          "output_type": "display_data",
          "data": {
            "image/png": "[encoded data removed]",
            "text/plain": [
              "<Figure size 432x288 with 1 Axes>"
            ]
          },
          "metadata": {
            "tags": []
          }
        }
      ]
    },
    {
      "cell_type": "code",
      "metadata": {
        "id": "tB1ZbgIpOyap",
        "colab_type": "code",
        "colab": {}
      },
      "source": [
        ""
      ],
      "execution_count": 0,
      "outputs": []
    },
    {
      "cell_type": "code",
      "metadata": {
        "id": "V4MvoBPJmEKO",
        "colab_type": "code",
        "colab": {}
      },
      "source": [
        ""
      ],
      "execution_count": 0,
      "outputs": []
    },
    {
      "cell_type": "code",
      "metadata": {
        "id": "Zo8vv4w8mENA",
        "colab_type": "code",
        "colab": {}
      },
      "source": [
        "import torch"
      ],
      "execution_count": 0,
      "outputs": []
    },
    {
      "cell_type": "code",
      "metadata": {
        "id": "GCEsrLa0mEPu",
        "colab_type": "code",
        "colab": {}
      },
      "source": [
        "x = torch.ones((3,3),dtype=float,requires_grad=True)"
      ],
      "execution_count": 0,
      "outputs": []
    },
    {
      "cell_type": "code",
      "metadata": {
        "id": "ga9_hfNymOmk",
        "colab_type": "code",
        "colab": {
          "base_uri": "https://localhost:8080/",
          "height": 67
        },
        "outputId": "56160fd1-d313-4bfb-b231-b83e67e4f505"
      },
      "source": [
        "y = x+2\n",
        "y"
      ],
      "execution_count": 32,
      "outputs": [
        {
          "output_type": "execute_result",
          "data": {
            "text/plain": [
              "tensor([[3., 3., 3.],\n",
              "        [3., 3., 3.],\n",
              "        [3., 3., 3.]], dtype=torch.float64, grad_fn=<AddBackward0>)"
            ]
          },
          "metadata": {
            "tags": []
          },
          "execution_count": 32
        }
      ]
    },
    {
      "cell_type": "code",
      "metadata": {
        "id": "ZrF0SyxZmp_9",
        "colab_type": "code",
        "colab": {}
      },
      "source": [
        "z = 3*y**2"
      ],
      "execution_count": 0,
      "outputs": []
    },
    {
      "cell_type": "code",
      "metadata": {
        "id": "HvnHrOeHmtt1",
        "colab_type": "code",
        "colab": {
          "base_uri": "https://localhost:8080/",
          "height": 67
        },
        "outputId": "6bbe0cc0-6589-4d39-94fe-7e8306d59af3"
      },
      "source": [
        "z.data"
      ],
      "execution_count": 34,
      "outputs": [
        {
          "output_type": "execute_result",
          "data": {
            "text/plain": [
              "tensor([[27., 27., 27.],\n",
              "        [27., 27., 27.],\n",
              "        [27., 27., 27.]], dtype=torch.float64)"
            ]
          },
          "metadata": {
            "tags": []
          },
          "execution_count": 34
        }
      ]
    },
    {
      "cell_type": "code",
      "metadata": {
        "id": "GGLxC7drm0o4",
        "colab_type": "code",
        "colab": {}
      },
      "source": [
        "#sum---->18\n",
        "#mean--->2\n",
        "\n",
        "out = z.sum()"
      ],
      "execution_count": 0,
      "outputs": []
    },
    {
      "cell_type": "code",
      "metadata": {
        "id": "T5VrI8XAm8WP",
        "colab_type": "code",
        "colab": {
          "base_uri": "https://localhost:8080/",
          "height": 34
        },
        "outputId": "7d3636a4-5790-4a29-c338-4cac5a1888bc"
      },
      "source": [
        "out"
      ],
      "execution_count": 36,
      "outputs": [
        {
          "output_type": "execute_result",
          "data": {
            "text/plain": [
              "tensor(243., dtype=torch.float64, grad_fn=<SumBackward0>)"
            ]
          },
          "metadata": {
            "tags": []
          },
          "execution_count": 36
        }
      ]
    },
    {
      "cell_type": "code",
      "metadata": {
        "id": "nKvb30nxm89V",
        "colab_type": "code",
        "colab": {}
      },
      "source": [
        "out.backward()"
      ],
      "execution_count": 0,
      "outputs": []
    },
    {
      "cell_type": "code",
      "metadata": {
        "id": "g3Ldj7WSnDL1",
        "colab_type": "code",
        "colab": {
          "base_uri": "https://localhost:8080/",
          "height": 67
        },
        "outputId": "d0a7eac6-c173-4088-b99d-af610482b57c"
      },
      "source": [
        "x.grad#.zero_()"
      ],
      "execution_count": 38,
      "outputs": [
        {
          "output_type": "execute_result",
          "data": {
            "text/plain": [
              "tensor([[18., 18., 18.],\n",
              "        [18., 18., 18.],\n",
              "        [18., 18., 18.]], dtype=torch.float64)"
            ]
          },
          "metadata": {
            "tags": []
          },
          "execution_count": 38
        }
      ]
    },
    {
      "cell_type": "code",
      "metadata": {
        "id": "JLqX8lwenGDN",
        "colab_type": "code",
        "colab": {
          "base_uri": "https://localhost:8080/",
          "height": 34
        },
        "outputId": "087fb7c9-3b56-49be-a6af-b27f03aaff16"
      },
      "source": [
        "nx=np.array([500.,500.,500.])\n",
        "np.linalg.norm(nx)"
      ],
      "execution_count": 43,
      "outputs": [
        {
          "output_type": "execute_result",
          "data": {
            "text/plain": [
              "866.0254037844386"
            ]
          },
          "metadata": {
            "tags": []
          },
          "execution_count": 43
        }
      ]
    },
    {
      "cell_type": "code",
      "metadata": {
        "id": "g-QQcehlxUYm",
        "colab_type": "code",
        "colab": {}
      },
      "source": [
        ""
      ],
      "execution_count": 0,
      "outputs": []
    },
    {
      "cell_type": "code",
      "metadata": {
        "id": "5Eo07HPzP4cM",
        "colab_type": "code",
        "colab": {}
      },
      "source": [
        ""
      ],
      "execution_count": 0,
      "outputs": []
    },
    {
      "cell_type": "code",
      "metadata": {
        "id": "AJNoIsucP4hu",
        "colab_type": "code",
        "colab": {
          "base_uri": "https://localhost:8080/",
          "height": 34
        },
        "outputId": "e0288e45-b643-4ed0-9e73-99c75e83fdc6"
      },
      "source": [
        "!ls"
      ],
      "execution_count": 44,
      "outputs": [
        {
          "output_type": "stream",
          "text": [
            "sample_data\n"
          ],
          "name": "stdout"
        }
      ]
    },
    {
      "cell_type": "code",
      "metadata": {
        "id": "ypXMwrhsP4fJ",
        "colab_type": "code",
        "colab": {}
      },
      "source": [
        "import torch.nn as nn\n",
        "import torch.nn.functional as F"
      ],
      "execution_count": 0,
      "outputs": []
    },
    {
      "cell_type": "markdown",
      "metadata": {
        "id": "K15jXLpLcEAq",
        "colab_type": "text"
      },
      "source": [
        "\n",
        "\n",
        "# Build Network"
      ]
    },
    {
      "cell_type": "code",
      "metadata": {
        "id": "6DGVOUbeREoj",
        "colab_type": "code",
        "colab": {}
      },
      "source": [
        "\"\"\"\n",
        "torch.nn.Conv2d(in_channels, out_channels, kernel_size, stride=1, padding=0, dilation=1, groups=1, bias=True, padding_mode='zeros')\n",
        "\n",
        "in_channels (python:int)                 – Number of channels in the input image\n",
        "out_channels (python:int)                – Number of channels produced by the convolution\n",
        "kernel_size (python:int or tuple)        – Size of the convolving kernel\n",
        "stride (python:int or tuple, optional)   – Stride of the convolution. Default: 1\n",
        "padding (python:int or tuple, optional)  – Zero-padding added to both sides of the input. Default: 0\n",
        "padding_mode (string, optional)          – zeros\n",
        "dilation (python:int or tuple, optional) – Spacing between kernel elements. Default: 1\n",
        "groups (python:int, optional)            – Number of blocked connections from input channels to output channels. Default: 1\n",
        "bias (bool, optional)                    – If True, adds a learnable bias to the output. Default: True\n",
        "\n",
        "kernel_size, stride, padding, dilation can either be:\n",
        "a single int           1    – in which case the same value is used for the height and width dimension\n",
        "a tuple of two ints  (1,1)  – in which case the first int is used for the height dimension, and the second int for the width dimension\n",
        "\"\"\"\n",
        "\n",
        "\"\"\"\n",
        "torch.nn.MaxPool2d(kernel_size, stride=None, padding=0, dilation=1, return_indices=False, ceil_mode=False)\n",
        "\n",
        "# kernel_size        – the size of the window to take a max over\n",
        "# stride             – the stride of the window. Default value is kernel_size\n",
        "# padding            – implicit zero padding to be added on both sides\n",
        "# dilation           – a parameter that controls the stride of elements in the window\n",
        "# return_indices     – if True, will return the max indices along with the outputs. Useful for torch.nn.MaxUnpool2d later\n",
        "# ceil_mode          – when True, will use ceil instead of floor to compute the output shape\n",
        "\n",
        "\n",
        "\"\"\"\n",
        "\n",
        "class Net(nn.Module):\n",
        "  def __init__(self):\n",
        "    super(Net,self).__init__()\n",
        "    self.conv1 = nn.Conv2d(1,6,(5,5)) #1*6*28*28\n",
        "    self.conv2 = nn.Conv2d(6,16,(5,5)) # 1*16*9*9\n",
        "    self.fc1 = nn.Linear(16*5*5,120)\n",
        "    self.fc2 = nn.Linear(120,84)\n",
        "    self.fc3 = nn.Linear(84,10)\n",
        "\n",
        "  def forward(self,x):\n",
        "    x = F.max_pool2d(F.relu(self.conv1(x)),(2,2)) #1*6*14*14\n",
        "    x = F.max_pool2d(F.relu(self.conv2(x)),(2,2)) #1*16*5*5\n",
        "    x = x.view(-1,self.flatten_num(x))\n",
        "    x = F.relu(self.fc1(x))\n",
        "    x = F.relu(self.fc2(x))\n",
        "    x = F.softmax(self.fc3(x))\n",
        "    return x\n",
        "\n",
        "  def flatten_num(self,x):\n",
        "    size = x.size()[1:]\n",
        "    num_features = 1\n",
        "    for i in size:\n",
        "      num_features *= i\n",
        "    return num_features\n",
        "\n"
      ],
      "execution_count": 0,
      "outputs": []
    },
    {
      "cell_type": "code",
      "metadata": {
        "id": "XJWlM_YOA_jP",
        "colab_type": "code",
        "colab": {}
      },
      "source": [
        "?nn.Linear"
      ],
      "execution_count": 0,
      "outputs": []
    },
    {
      "cell_type": "markdown",
      "metadata": {
        "id": "TR4jV_NQESAj",
        "colab_type": "text"
      },
      "source": [
        "#Test Net"
      ]
    },
    {
      "cell_type": "code",
      "metadata": {
        "id": "rCOoMKV2dTYv",
        "colab_type": "code",
        "colab": {
          "base_uri": "https://localhost:8080/",
          "height": 34
        },
        "outputId": "62664210-41bd-4db9-b539-fa521c30f40c"
      },
      "source": [
        "test = torch.randn(1,1,32,32)\n",
        "test.shape"
      ],
      "execution_count": 66,
      "outputs": [
        {
          "output_type": "execute_result",
          "data": {
            "text/plain": [
              "torch.Size([1, 1, 32, 32])"
            ]
          },
          "metadata": {
            "tags": []
          },
          "execution_count": 66
        }
      ]
    },
    {
      "cell_type": "code",
      "metadata": {
        "id": "I94m40EFdap3",
        "colab_type": "code",
        "colab": {
          "base_uri": "https://localhost:8080/",
          "height": 54
        },
        "outputId": "04e6fbe4-eb0c-467e-a10c-75c68a22af28"
      },
      "source": [
        "model = Net()\n",
        "out = model(test)"
      ],
      "execution_count": 92,
      "outputs": [
        {
          "output_type": "stream",
          "text": [
            "/usr/local/lib/python3.6/dist-packages/ipykernel_launcher.py:47: UserWarning: Implicit dimension choice for softmax has been deprecated. Change the call to include dim=X as an argument.\n"
          ],
          "name": "stderr"
        }
      ]
    },
    {
      "cell_type": "code",
      "metadata": {
        "id": "Yx7wgAbJdx3I",
        "colab_type": "code",
        "colab": {
          "base_uri": "https://localhost:8080/",
          "height": 34
        },
        "outputId": "323c704a-308e-4acb-b715-9c02e91bc2bb"
      },
      "source": [
        "# for test\n",
        "self_conv1 = nn.Conv2d(1,6,5)\n",
        "t1 = self_conv1(test)\n",
        "F.max_pool2d(t1,(2,2)).shape"
      ],
      "execution_count": 58,
      "outputs": [
        {
          "output_type": "execute_result",
          "data": {
            "text/plain": [
              "torch.Size([1, 6, 14, 14])"
            ]
          },
          "metadata": {
            "tags": []
          },
          "execution_count": 58
        }
      ]
    },
    {
      "cell_type": "code",
      "metadata": {
        "id": "cG8MWApP-mr5",
        "colab_type": "code",
        "colab": {
          "base_uri": "https://localhost:8080/",
          "height": 302
        },
        "outputId": "2df69159-4182-4d7b-de41-2fee7cb4d5f8"
      },
      "source": [
        "print(model.parameters)\n",
        "for ps in list(model.parameters()):\n",
        "  print(ps.size())\n"
      ],
      "execution_count": 84,
      "outputs": [
        {
          "output_type": "stream",
          "text": [
            "<bound method Module.parameters of Net(\n",
            "  (conv1): Conv2d(1, 6, kernel_size=(5, 5), stride=(1, 1))\n",
            "  (conv2): Conv2d(6, 16, kernel_size=(5, 5), stride=(1, 1))\n",
            "  (fc1): Linear(in_features=400, out_features=120, bias=True)\n",
            "  (fc2): Linear(in_features=120, out_features=84, bias=True)\n",
            "  (fc3): Linear(in_features=84, out_features=10, bias=True)\n",
            ")>\n",
            "torch.Size([6, 1, 5, 5])\n",
            "torch.Size([6])\n",
            "torch.Size([16, 6, 5, 5])\n",
            "torch.Size([16])\n",
            "torch.Size([120, 400])\n",
            "torch.Size([120])\n",
            "torch.Size([84, 120])\n",
            "torch.Size([84])\n",
            "torch.Size([10, 84])\n",
            "torch.Size([10])\n"
          ],
          "name": "stdout"
        }
      ]
    },
    {
      "cell_type": "markdown",
      "metadata": {
        "id": "0xdNfUXREaao",
        "colab_type": "text"
      },
      "source": [
        "#Backward"
      ]
    },
    {
      "cell_type": "code",
      "metadata": {
        "id": "S5US3EBVC_QK",
        "colab_type": "code",
        "colab": {
          "base_uri": "https://localhost:8080/",
          "height": 706
        },
        "outputId": "042dc007-14ce-4ba0-f105-5e649889e4b1"
      },
      "source": [
        "model.zero_grad()\n",
        "print(model.conv1.weight.grad)\n",
        "\n",
        "# 不加这句， 梯度会进行累加\n",
        "# 我们只想要当前的grad， 反向传播回去\n",
        "model.zero_grad()\n",
        "out.backward(torch.randn(1,10))\n",
        "\n",
        "print(model.conv1.weight.grad)"
      ],
      "execution_count": 96,
      "outputs": [
        {
          "output_type": "stream",
          "text": [
            "None\n",
            "tensor([[[[ 2.3009e-03, -3.7373e-03,  5.1914e-03, -9.2872e-03, -3.9110e-03],\n",
            "          [ 3.7503e-03,  4.7531e-03,  4.1821e-03,  9.8700e-03,  2.3726e-04],\n",
            "          [-3.2506e-03,  3.8347e-04, -1.8677e-03, -1.1268e-03, -9.2249e-03],\n",
            "          [ 1.1567e-03,  6.2134e-03, -5.1599e-03,  1.4113e-03,  2.2330e-03],\n",
            "          [-1.5270e-03,  2.7391e-04, -7.3548e-03, -5.9074e-03, -1.4842e-04]]],\n",
            "\n",
            "\n",
            "        [[[ 7.0637e-04,  1.8601e-03, -5.2978e-03, -4.2742e-03, -6.2699e-04],\n",
            "          [ 1.3111e-03,  8.3893e-04,  8.5225e-03, -2.0899e-03, -5.8413e-03],\n",
            "          [-1.0295e-03, -2.2753e-03, -1.4932e-03, -4.6327e-03, -3.9889e-03],\n",
            "          [ 3.3718e-03,  9.0360e-03, -4.1766e-03,  2.6908e-03,  4.9799e-04],\n",
            "          [ 3.1904e-03, -2.8817e-04,  4.6746e-03, -6.8772e-03,  2.8088e-03]]],\n",
            "\n",
            "\n",
            "        [[[ 2.8768e-03, -3.1388e-03, -6.6778e-03, -1.4283e-03,  6.2819e-04],\n",
            "          [-4.0180e-03,  3.5880e-03,  5.9017e-03,  1.5888e-03,  1.7810e-03],\n",
            "          [ 1.8781e-03, -3.2112e-04, -1.0921e-03, -2.8264e-03,  1.6937e-03],\n",
            "          [-4.8809e-03,  1.9820e-03,  6.2729e-03, -5.8655e-04, -2.1325e-03],\n",
            "          [-6.5486e-04,  9.9675e-05, -3.1607e-03, -7.3011e-03,  2.6502e-03]]],\n",
            "\n",
            "\n",
            "        [[[ 2.5507e-03, -6.1953e-03, -3.4893e-03, -7.3985e-04, -2.2442e-03],\n",
            "          [-8.0273e-03, -2.7756e-03,  1.1022e-03, -2.1839e-03, -2.4293e-03],\n",
            "          [-2.1304e-03, -1.7667e-03, -1.1497e-03,  6.1973e-03, -3.2912e-03],\n",
            "          [-2.3637e-03, -5.1498e-04,  5.1186e-03,  1.0250e-03,  2.7007e-03],\n",
            "          [ 3.6607e-03, -2.1582e-03, -1.4654e-03,  3.6710e-03, -9.5963e-05]]],\n",
            "\n",
            "\n",
            "        [[[ 1.7790e-03, -5.6878e-04, -1.4014e-03,  6.2016e-03, -1.0124e-03],\n",
            "          [ 2.9844e-03, -4.0272e-03,  1.4112e-02, -8.5800e-04,  5.0966e-04],\n",
            "          [ 7.1995e-03,  2.3954e-03, -2.0742e-03, -3.0885e-03, -5.2281e-03],\n",
            "          [ 9.8667e-04,  3.1175e-03,  2.9296e-03,  6.2286e-03,  4.6009e-03],\n",
            "          [ 4.1231e-03, -1.1695e-03,  5.1660e-03,  5.4579e-03, -2.7878e-03]]],\n",
            "\n",
            "\n",
            "        [[[ 1.3736e-03,  2.8620e-03,  6.3813e-03,  5.3819e-03, -5.6902e-03],\n",
            "          [ 2.1715e-03, -3.2919e-03,  1.2674e-03,  2.0698e-03,  1.3443e-03],\n",
            "          [ 4.3369e-03, -4.4177e-03,  1.8521e-03,  7.3205e-03, -5.5519e-03],\n",
            "          [-2.4294e-03, -2.8672e-03, -3.0461e-03,  2.1653e-03, -1.4440e-03],\n",
            "          [ 7.9704e-03, -3.5085e-03, -2.5541e-03,  2.3063e-04, -3.1871e-03]]]])\n"
          ],
          "name": "stdout"
        }
      ]
    },
    {
      "cell_type": "code",
      "metadata": {
        "id": "VjtImcSpEgKA",
        "colab_type": "code",
        "colab": {
          "base_uri": "https://localhost:8080/",
          "height": 34
        },
        "outputId": "37abb31f-3425-4983-b9e8-76bdbbe9b197"
      },
      "source": [
        "# ██╗░░░░░░█████╗░░██████╗░██████╗\n",
        "# ██║░░░░░██╔══██╗██╔════╝██╔════╝\n",
        "# ██║░░░░░██║░░██║╚█████╗░╚█████╗░\n",
        "# ██║░░░░░██║░░██║░╚═══██╗░╚═══██╗\n",
        "# ███████╗╚█████╔╝██████╔╝██████╔╝\n",
        "# ╚══════╝░╚════╝░╚═════╝░╚═════╝░\n",
        "\n",
        "#定义label：\n",
        "target = torch.randn(1,10)  #Ground Truth\n",
        "criterion = nn.MSELoss()    #Loss函数\n",
        "loss = criterion(out,target)#Loss值\n",
        "print(loss)"
      ],
      "execution_count": 97,
      "outputs": [
        {
          "output_type": "stream",
          "text": [
            "tensor(1.1677, grad_fn=<MseLossBackward>)\n"
          ],
          "name": "stdout"
        }
      ]
    },
    {
      "cell_type": "code",
      "metadata": {
        "id": "Twoem8f_E5hn",
        "colab_type": "code",
        "colab": {}
      },
      "source": [
        "# 计算梯度：\n",
        "# loss.backward()\n",
        "\n",
        "# lr=0.01\n",
        "#更新梯度/Params  way1:\n",
        "# weight = weight - lr*gradients\n",
        "\n",
        "#更新梯度/Params  way2:\n",
        "# for f in model.parameters():\n",
        "#   f.data.sub_(lr*f.grad.data)\n",
        "\n",
        "#更新梯度/Params  way3:\n",
        "\n",
        "import torch.optim as optim\n",
        "optimizer = optim.SGD(model.parameters(), lr = 0.01)\n"
      ],
      "execution_count": 0,
      "outputs": []
    },
    {
      "cell_type": "code",
      "metadata": {
        "id": "cs0nORVNG_74",
        "colab_type": "code",
        "colab": {}
      },
      "source": [
        "image = torch.randn(1,1,32,32)"
      ],
      "execution_count": 0,
      "outputs": []
    },
    {
      "cell_type": "code",
      "metadata": {
        "id": "kqt9fCfwH8BG",
        "colab_type": "code",
        "colab": {
          "base_uri": "https://localhost:8080/",
          "height": 54
        },
        "outputId": "d3636dc1-9fde-4d03-8e3c-7b8efd817da9"
      },
      "source": [
        "# All:\n",
        "optimizer.zero_grad()\n",
        "out = model(image)\n",
        "loss = criterion(out,target)\n",
        "loss.backward()\n",
        "optimizer.step()"
      ],
      "execution_count": 107,
      "outputs": [
        {
          "output_type": "stream",
          "text": [
            "/usr/local/lib/python3.6/dist-packages/ipykernel_launcher.py:47: UserWarning: Implicit dimension choice for softmax has been deprecated. Change the call to include dim=X as an argument.\n"
          ],
          "name": "stderr"
        }
      ]
    },
    {
      "cell_type": "code",
      "metadata": {
        "id": "HIzWOc1PH8Dn",
        "colab_type": "code",
        "colab": {
          "base_uri": "https://localhost:8080/",
          "height": 34
        },
        "outputId": "9ad7f9eb-24f7-468b-8073-62db1be5b991"
      },
      "source": [
        "print(loss)"
      ],
      "execution_count": 108,
      "outputs": [
        {
          "output_type": "stream",
          "text": [
            "tensor(1.1659, grad_fn=<MseLossBackward>)\n"
          ],
          "name": "stdout"
        }
      ]
    },
    {
      "cell_type": "code",
      "metadata": {
        "id": "KEyvyzIdIia-",
        "colab_type": "code",
        "colab": {}
      },
      "source": [
        ""
      ],
      "execution_count": 0,
      "outputs": []
    },
    {
      "cell_type": "markdown",
      "metadata": {
        "id": "IcA0guuqNtFi",
        "colab_type": "text"
      },
      "source": [
        "# Pytorch图像分类器"
      ]
    },
    {
      "cell_type": "code",
      "metadata": {
        "id": "CxefoVJcNv7O",
        "colab_type": "code",
        "colab": {}
      },
      "source": [
        "import torchvision\n",
        "import torchvision.transforms as transforms"
      ],
      "execution_count": 0,
      "outputs": []
    },
    {
      "cell_type": "code",
      "metadata": {
        "id": "6D9IYOM3SK0Q",
        "colab_type": "code",
        "colab": {}
      },
      "source": [
        ""
      ],
      "execution_count": 0,
      "outputs": []
    },
    {
      "cell_type": "code",
      "metadata": {
        "id": "m0uKQ_yrSK3a",
        "colab_type": "code",
        "colab": {
          "base_uri": "https://localhost:8080/",
          "height": 50
        },
        "outputId": "ff96b16a-6f8a-4749-ea8b-5d82a0f13759"
      },
      "source": [
        "transform = transforms.Compose(\n",
        "    [transforms.ToTensor(),\n",
        "     transforms.Normalize((0.5, 0.5, 0.5), (0.5, 0.5, 0.5))])\n",
        "\n",
        "trainset = torchvision.datasets.CIFAR10(root='./data', train=True,\n",
        "                                        download=True, transform=transform)\n",
        "trainloader = torch.utils.data.DataLoader(trainset, batch_size=4,\n",
        "                                          shuffle=True, num_workers=2)\n",
        "\n",
        "testset = torchvision.datasets.CIFAR10(root='./data', train=False,\n",
        "                                       download=True, transform=transform)\n",
        "testloader = torch.utils.data.DataLoader(testset, batch_size=4,\n",
        "                                         shuffle=False, num_workers=2)\n",
        "\n",
        "classes = ('plane', 'car', 'bird', 'cat',\n",
        "           'deer', 'dog', 'frog', 'horse', 'ship', 'truck')"
      ],
      "execution_count": 123,
      "outputs": [
        {
          "output_type": "stream",
          "text": [
            "Files already downloaded and verified\n",
            "Files already downloaded and verified\n"
          ],
          "name": "stdout"
        }
      ]
    },
    {
      "cell_type": "code",
      "metadata": {
        "id": "hf0--sQKSL71",
        "colab_type": "code",
        "colab": {}
      },
      "source": [
        ""
      ],
      "execution_count": 0,
      "outputs": []
    },
    {
      "cell_type": "code",
      "metadata": {
        "id": "1gnqwUo-N6ve",
        "colab_type": "code",
        "colab": {
          "base_uri": "https://localhost:8080/",
          "height": 50
        },
        "outputId": "4699a904-61be-4fb5-f0fc-d192aaa7c143"
      },
      "source": [
        "transform = transforms.Compose(\n",
        "    [\n",
        "     transfroms.ToTensor(),                               # PIL Image----> Tensor\n",
        "     transforms.Normalize((0,5,0.5,0.5),(0,5,0.5,0.5))    # 0,1 ---------> -1,1\n",
        "    ]\n",
        ")\n",
        "#Train set\n",
        "trainset = torchvision.datasets.CIFAR10(download = True,root = './data',train = True, transform = transform)\n",
        "#包装\n",
        "trainloader = torch.utils.data.DataLoader(trainset,batch_size=4, shuffle=True,num_workers=2)\n",
        "\n",
        "#Test set\n",
        "trainset = torchvision.datasets.CIFAR10(download = True,root = './data',train = False, transform = transform)\n",
        "#包装\n",
        "testloader = torch.utils.data.DataLoader(trainset,batch_size=4, shuffle=False,num_workers=2)\n"
      ],
      "execution_count": 120,
      "outputs": [
        {
          "output_type": "stream",
          "text": [
            "Files already downloaded and verified\n",
            "Files already downloaded and verified\n"
          ],
          "name": "stdout"
        }
      ]
    },
    {
      "cell_type": "code",
      "metadata": {
        "id": "v-3T69raPTYh",
        "colab_type": "code",
        "colab": {}
      },
      "source": [
        "classes = ('plane', 'car', 'bird', 'cat',\n",
        "           'deer', 'dog', 'frog', 'horse', 'ship', 'truck')"
      ],
      "execution_count": 0,
      "outputs": []
    },
    {
      "cell_type": "code",
      "metadata": {
        "id": "fzBFFsP1P2GV",
        "colab_type": "code",
        "colab": {}
      },
      "source": [
        "import matplotlib.pyplot as plt"
      ],
      "execution_count": 0,
      "outputs": []
    },
    {
      "cell_type": "code",
      "metadata": {
        "id": "cckRtnobP5qN",
        "colab_type": "code",
        "colab": {}
      },
      "source": [
        "def imshow(img):\n",
        "  img = img/2+0.5\n",
        "  npimg = img.numpy()\n",
        "  npimg = np.transpose(npimg,(1,2,0))\n",
        "  plt.imshow(npimg)\n",
        "  plt.show()"
      ],
      "execution_count": 0,
      "outputs": []
    },
    {
      "cell_type": "code",
      "metadata": {
        "id": "VNvVNAH4QNgT",
        "colab_type": "code",
        "colab": {
          "base_uri": "https://localhost:8080/",
          "height": 394
        },
        "outputId": "f3567801-b21c-4e4d-a83d-eb898e860dfb"
      },
      "source": [
        "dataiter = iter(trainloader)\n",
        "images,labels = dataiter.next()\n",
        "imshow(torchvision.utils.make_grid(images))\n",
        "print([ classes[labels[i]] for i in range (4)])"
      ],
      "execution_count": 124,
      "outputs": [
        {
          "output_type": "display_data",
          "data": {
            "image/png": "[encoded data removed]",
            "text/plain": [
              "<Figure size 432x288 with 1 Axes>"
            ]
          },
          "metadata": {
            "tags": []
          }
        },
        {
          "output_type": "stream",
          "text": [
            "['cat', 'bird', 'car', 'plane']\n"
          ],
          "name": "stdout"
        },
        {
          "output_type": "stream",
          "text": [
            "Exception ignored in: <bound method _MultiProcessingDataLoaderIter.__del__ of <torch.utils.data.dataloader._MultiProcessingDataLoaderIter object at 0x7fc4e0b19860>>\n",
            "Traceback (most recent call last):\n",
            "  File \"/usr/local/lib/python3.6/dist-packages/torch/utils/data/dataloader.py\", line 961, in __del__\n",
            "    self._shutdown_workers()\n",
            "  File \"/usr/local/lib/python3.6/dist-packages/torch/utils/data/dataloader.py\", line 941, in _shutdown_workers\n",
            "    w.join()\n",
            "  File \"/usr/lib/python3.6/multiprocessing/process.py\", line 124, in join\n",
            "    res = self._popen.wait(timeout)\n",
            "  File \"/usr/lib/python3.6/multiprocessing/popen_fork.py\", line 50, in wait\n",
            "    return self.poll(os.WNOHANG if timeout == 0.0 else 0)\n",
            "  File \"/usr/lib/python3.6/multiprocessing/popen_fork.py\", line 28, in poll\n",
            "    pid, sts = os.waitpid(self.pid, flag)\n",
            "KeyboardInterrupt: \n"
          ],
          "name": "stderr"
        }
      ]
    },
    {
      "cell_type": "markdown",
      "metadata": {
        "id": "f_VcVn--T_1h",
        "colab_type": "text"
      },
      "source": [
        "# 定义网络"
      ]
    },
    {
      "cell_type": "code",
      "metadata": {
        "id": "Hbxo5X23Rew7",
        "colab_type": "code",
        "colab": {}
      },
      "source": [
        "class Net(nn.Module):\n",
        "  def __init__(self):\n",
        "    super(Net,self).__init__()\n",
        "    self.conv1 = nn.Conv2d(3,6,5)\n",
        "    self.pool = nn.MaxPool2d(2,2)\n",
        "    self.conv2 = nn.Conv2d(6,16,5)\n",
        "    self.fc1 = nn.Linear(16*5*5,120)\n",
        "    self.fc2 = nn.Linear(120,84)\n",
        "    self.fc3 = nn.Linear(84,10)\n",
        "  def forward(self,x):\n",
        "    x = self.pool(F.relu(self.conv1(x)))\n",
        "    x = self.pool(F.relu(self.conv2(x)))\n",
        "    x = x.view(-1, self.flatten_num(x))\n",
        "    x = F.relu(x.fc1(x))\n",
        "    x = F.relu(x.fc2(x))\n",
        "    x = F.softmax(x.fc3(x))\n",
        "    # print(x.size())\n",
        "    return x\n",
        "  def flatten_num(self,x):\n",
        "    size = x.size()[1:]\n",
        "    num_features = 1\n",
        "    for i in size:\n",
        "      num_features *= i\n",
        "    return num_features"
      ],
      "execution_count": 0,
      "outputs": []
    },
    {
      "cell_type": "code",
      "metadata": {
        "id": "dmYlO7qGT_kp",
        "colab_type": "code",
        "colab": {
          "base_uri": "https://localhost:8080/",
          "height": 34
        },
        "outputId": "d9313c0f-a065-46e0-d332-90a7cd61578d"
      },
      "source": [
        "\n",
        "test = torch.randn(1,3,32,32)\n",
        "model = Net()\n",
        "outp = model(test)"
      ],
      "execution_count": 132,
      "outputs": [
        {
          "output_type": "stream",
          "text": [
            "torch.Size([1, 16, 5, 5])\n"
          ],
          "name": "stdout"
        }
      ]
    },
    {
      "cell_type": "code",
      "metadata": {
        "id": "1wB7CW-dXfCV",
        "colab_type": "code",
        "colab": {
          "base_uri": "https://localhost:8080/",
          "height": 50
        },
        "outputId": "68ad12a3-85de-43a4-f90d-6cd9bf44d7a5"
      },
      "source": [
        "#Fetch a batch:\n",
        "for i,data in enumerate(trainloader,0):\n",
        "  images,labels = data\n",
        "  if i==0:\n",
        "    break\n",
        "print(images.shape)\n",
        "#images.size()\n",
        "\n",
        "# Test on the batch:\n",
        "optp = model(images)"
      ],
      "execution_count": 142,
      "outputs": [
        {
          "output_type": "stream",
          "text": [
            "torch.Size([4, 3, 32, 32])\n",
            "torch.Size([4, 16, 5, 5])\n"
          ],
          "name": "stdout"
        }
      ]
    },
    {
      "cell_type": "code",
      "metadata": {
        "id": "akZp99sbYf1s",
        "colab_type": "code",
        "colab": {
          "base_uri": "https://localhost:8080/",
          "height": 34
        },
        "outputId": "ae4b4547-5a73-4dc2-c776-9e17d3a55e7c"
      },
      "source": [
        ""
      ],
      "execution_count": 141,
      "outputs": [
        {
          "output_type": "execute_result",
          "data": {
            "text/plain": [
              "(torch.Size([4, 3, 32, 32]), torch.Size([4, 3, 32, 32]))"
            ]
          },
          "metadata": {
            "tags": []
          },
          "execution_count": 141
        }
      ]
    },
    {
      "cell_type": "code",
      "metadata": {
        "id": "utK3_s8zYgir",
        "colab_type": "code",
        "colab": {}
      },
      "source": [
        ""
      ],
      "execution_count": 0,
      "outputs": []
    }
  ]
}