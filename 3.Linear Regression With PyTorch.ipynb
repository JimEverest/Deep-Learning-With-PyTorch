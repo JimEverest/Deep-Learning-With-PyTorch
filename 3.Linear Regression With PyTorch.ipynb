{
  "nbformat": 4,
  "nbformat_minor": 0,
  "metadata": {
    "kernelspec": {
      "display_name": "Python 3",
      "language": "python",
      "name": "python3"
    },
    "language_info": {
      "codemirror_mode": {
        "name": "ipython",
        "version": 3
      },
      "file_extension": ".py",
      "mimetype": "text/x-python",
      "name": "python",
      "nbconvert_exporter": "python",
      "pygments_lexer": "ipython3",
      "version": "3.6.4"
    },
    "colab": {
      "name": "3.Linear Regression With PyTorch.ipynb",
      "provenance": []
    }
  },
  "cells": [
    {
      "cell_type": "markdown",
      "metadata": {
        "id": "UR0-2x99OyZZ",
        "colab_type": "text"
      },
      "source": [
        "# Linear Regression With PyTorch\n",
        "\n",
        "### About Linear Regression\n",
        "\n",
        "#### 1. Simple Linear Regression\n",
        "\n",
        "* Allows us to understand relationship between two continious variables \n",
        "* Example\n",
        "    * x: independent variable\n",
        "    * y: dependent variable\n",
        "\n",
        "* $y = \\alpha$x +b\n",
        "\n",
        "#### Simple Example of Linear Regression"
      ]
    },
    {
      "cell_type": "code",
      "metadata": {
        "id": "qn_VG-oBOyZc",
        "colab_type": "code",
        "colab": {
          "base_uri": "https://localhost:8080/",
          "height": 265
        },
        "outputId": "2237835d-e3c7-4e8b-9cc9-0bf5f782f319"
      },
      "source": [
        "import numpy as np\n",
        "import matplotlib.pyplot as plt\n",
        "\n",
        "np.random.seed(1)\n",
        "n = 50\n",
        "x = np.random.randn(n)\n",
        "y = x * np.random.randn(n)\n",
        "\n",
        "colors = np.random.rand(n)\n",
        "uni_x = np.unique(x)\n",
        "plt.plot( uni_x  ,    np.poly1d(  np.polyfit(x,y,1)  )(uni_x)       )\n",
        "plt.scatter(x ,y , c=colors , alpha =0.5 )\n",
        "plt.show()"
      ],
      "execution_count": 2,
      "outputs": [
        {
          "output_type": "display_data",
          "data": {
            "image/png": "[encoded data removed]",
            "text/plain": [
              "<Figure size 432x288 with 1 Axes>"
            ]
          },
          "metadata": {
            "tags": []
          }
        }
      ]
    },
    {
      "cell_type": "markdown",
      "metadata": {
        "id": "I8W_6vvWOyZh",
        "colab_type": "text"
      },
      "source": [
        "#### Aim of Linear Regression\n",
        "\n",
        "* Minimizing the distance between the points and the line (y=ax+b)\n",
        "* Adjusting\n",
        "    * Coeffcient : a\n",
        "    * Bias/Intercept : b\n",
        "    \n",
        "#### Building a Linear Regression Model With PyTorch\n",
        "\n",
        "* Coeffcient :a = 2\n",
        "* Bias/Intercept :b = 1\n",
        "* Equation :y = 2x+1\n"
      ]
    },
    {
      "cell_type": "markdown",
      "metadata": {
        "id": "SU0RBMX6OyZi",
        "colab_type": "text"
      },
      "source": [
        "### Building a Toy Dataset \n",
        "\n"
      ]
    },
    {
      "cell_type": "code",
      "metadata": {
        "id": "tdwF_Vj7OyZk",
        "colab_type": "code",
        "colab": {}
      },
      "source": [
        "x_values = [i for i in range(11)]"
      ],
      "execution_count": 0,
      "outputs": []
    },
    {
      "cell_type": "code",
      "metadata": {
        "id": "maniJrEDOyZn",
        "colab_type": "code",
        "colab": {
          "base_uri": "https://localhost:8080/",
          "height": 35
        },
        "outputId": "365805ba-3f6b-443d-bd32-63b21e13f0a4"
      },
      "source": [
        "x_values"
      ],
      "execution_count": 4,
      "outputs": [
        {
          "output_type": "execute_result",
          "data": {
            "text/plain": [
              "[0, 1, 2, 3, 4, 5, 6, 7, 8, 9, 10]"
            ]
          },
          "metadata": {
            "tags": []
          },
          "execution_count": 4
        }
      ]
    },
    {
      "cell_type": "code",
      "metadata": {
        "id": "dJgKAFtnOyZp",
        "colab_type": "code",
        "colab": {
          "base_uri": "https://localhost:8080/",
          "height": 35
        },
        "outputId": "1a85cc70-d2bb-43b0-b9ed-f9d213dffd4a"
      },
      "source": [
        "#convert to numpy array\n",
        "x_train = np.array(x_values , dtype=np.float32)\n",
        "x_train.shape"
      ],
      "execution_count": 8,
      "outputs": [
        {
          "output_type": "execute_result",
          "data": {
            "text/plain": [
              "(11,)"
            ]
          },
          "metadata": {
            "tags": []
          },
          "execution_count": 8
        }
      ]
    },
    {
      "cell_type": "code",
      "metadata": {
        "id": "vgaf_ylmOyZt",
        "colab_type": "code",
        "colab": {
          "base_uri": "https://localhost:8080/",
          "height": 208
        },
        "outputId": "be5b52c1-3a71-4168-c04c-3549293eba94"
      },
      "source": [
        "# Important : we need to reshape it to 2D\n",
        "\n",
        "x_train = x_train.reshape(-1,1)\n",
        "x_train"
      ],
      "execution_count": 9,
      "outputs": [
        {
          "output_type": "execute_result",
          "data": {
            "text/plain": [
              "array([[ 0.],\n",
              "       [ 1.],\n",
              "       [ 2.],\n",
              "       [ 3.],\n",
              "       [ 4.],\n",
              "       [ 5.],\n",
              "       [ 6.],\n",
              "       [ 7.],\n",
              "       [ 8.],\n",
              "       [ 9.],\n",
              "       [10.]], dtype=float32)"
            ]
          },
          "metadata": {
            "tags": []
          },
          "execution_count": 9
        }
      ]
    },
    {
      "cell_type": "markdown",
      "metadata": {
        "id": "0gviWQYyOyZw",
        "colab_type": "text"
      },
      "source": [
        "Then \n",
        "\n",
        "y =2x+1"
      ]
    },
    {
      "cell_type": "code",
      "metadata": {
        "id": "rcqb9VkuOyZx",
        "colab_type": "code",
        "colab": {}
      },
      "source": [
        "y_values = [2*i + 1 for i in x_values]"
      ],
      "execution_count": 0,
      "outputs": []
    },
    {
      "cell_type": "code",
      "metadata": {
        "id": "NKQvlsz3OyZ0",
        "colab_type": "code",
        "colab": {
          "base_uri": "https://localhost:8080/",
          "height": 35
        },
        "outputId": "4823c024-7356-42ed-9972-39b3da8bc138"
      },
      "source": [
        "y_values"
      ],
      "execution_count": 11,
      "outputs": [
        {
          "output_type": "execute_result",
          "data": {
            "text/plain": [
              "[1, 3, 5, 7, 9, 11, 13, 15, 17, 19, 21]"
            ]
          },
          "metadata": {
            "tags": []
          },
          "execution_count": 11
        }
      ]
    },
    {
      "cell_type": "code",
      "metadata": {
        "id": "qJm_NOvrOyZ2",
        "colab_type": "code",
        "colab": {}
      },
      "source": [
        "# with normal python code\n",
        "y_values = []\n",
        "for i in x_values:\n",
        "    result = 2*i+1\n",
        "    y_values.append(result)"
      ],
      "execution_count": 0,
      "outputs": []
    },
    {
      "cell_type": "code",
      "metadata": {
        "scrolled": true,
        "id": "1kg4ynoiOyZ5",
        "colab_type": "code",
        "colab": {
          "base_uri": "https://localhost:8080/",
          "height": 35
        },
        "outputId": "dcbed9f6-65d2-4a79-fa76-670b996822c2"
      },
      "source": [
        "y_values"
      ],
      "execution_count": 13,
      "outputs": [
        {
          "output_type": "execute_result",
          "data": {
            "text/plain": [
              "[1, 3, 5, 7, 9, 11, 13, 15, 17, 19, 21]"
            ]
          },
          "metadata": {
            "tags": []
          },
          "execution_count": 13
        }
      ]
    },
    {
      "cell_type": "code",
      "metadata": {
        "id": "3loOgLX_OyZ9",
        "colab_type": "code",
        "colab": {
          "base_uri": "https://localhost:8080/",
          "height": 35
        },
        "outputId": "b5d48e6b-d609-468a-d2c9-1edde4f9d314"
      },
      "source": [
        "y_train = np.array(y_values, dtype=np.float32)\n",
        "y_train.shape"
      ],
      "execution_count": 14,
      "outputs": [
        {
          "output_type": "execute_result",
          "data": {
            "text/plain": [
              "(11,)"
            ]
          },
          "metadata": {
            "tags": []
          },
          "execution_count": 14
        }
      ]
    },
    {
      "cell_type": "code",
      "metadata": {
        "id": "KM23dSWsOyaA",
        "colab_type": "code",
        "colab": {
          "base_uri": "https://localhost:8080/",
          "height": 35
        },
        "outputId": "821cad1c-d719-4679-ff5c-860cc9e6e0b1"
      },
      "source": [
        "# resizing to 2d array\n",
        "y_train = y_train.reshape(-1,1)\n",
        "y_train.shape"
      ],
      "execution_count": 15,
      "outputs": [
        {
          "output_type": "execute_result",
          "data": {
            "text/plain": [
              "(11, 1)"
            ]
          },
          "metadata": {
            "tags": []
          },
          "execution_count": 15
        }
      ]
    },
    {
      "cell_type": "code",
      "metadata": {
        "id": "2vhn1QlYOyaD",
        "colab_type": "code",
        "colab": {}
      },
      "source": [
        "from IPython.display import display, Math, Latex"
      ],
      "execution_count": 0,
      "outputs": []
    },
    {
      "cell_type": "markdown",
      "metadata": {
        "id": "fTftGbx9OyaF",
        "colab_type": "text"
      },
      "source": [
        "### Building Model\n",
        "\n",
        "#### Critical Imports\n"
      ]
    },
    {
      "cell_type": "code",
      "metadata": {
        "id": "nrzB0QUbOyaG",
        "colab_type": "code",
        "colab": {}
      },
      "source": [
        "import torch \n",
        "import torch.nn as nn \n",
        "from torch.autograd import Variable"
      ],
      "execution_count": 0,
      "outputs": []
    },
    {
      "cell_type": "markdown",
      "metadata": {
        "id": "ezVcLi_eOyaI",
        "colab_type": "text"
      },
      "source": [
        "#### Model \n",
        "* 1. Linear Model: y = 2x+1 \n",
        "\n",
        "* 2. Forward \n",
        "    * Example\n",
        "        - Input x = 1\n",
        "        - Output y = ?"
      ]
    },
    {
      "cell_type": "code",
      "metadata": {
        "id": "Rg5eS7dnOyaJ",
        "colab_type": "code",
        "colab": {}
      },
      "source": [
        "\n",
        "# create class\n",
        "class LinearRegressionModel(nn.Module):\n",
        "    def __init__(self,input_size,output_size):\n",
        "        super(LinearRegressionModel, self).__init__()\n",
        "        self.linear = nn.Linear(input_size , output_size)\n",
        "        # print(input_dim == input_size)\n",
        "        # self.linear = nn.Linear(input_size , output_size)\n",
        "\n",
        "    def forward(self,x):\n",
        "        out =  self.linear(x)\n",
        "        return out"
      ],
      "execution_count": 0,
      "outputs": []
    },
    {
      "cell_type": "markdown",
      "metadata": {
        "id": "por9MHGYOyaM",
        "colab_type": "text"
      },
      "source": [
        "#### Instantiate Model Class\n",
        "\n",
        "* Input : [0, 1, 2, 3, 4, 5, 6, 7, 8, 9, 10]\n",
        "\n",
        "* desired Output : [1, 3, 5, 7, 9, 11, 13, 15, 17, 19, 21] "
      ]
    },
    {
      "cell_type": "code",
      "metadata": {
        "id": "IW_mCnDlOyaN",
        "colab_type": "code",
        "colab": {}
      },
      "source": [
        "input_dim = 1\n",
        "output_dim = 1\n",
        "\n",
        "model = LinearRegressionModel(input_dim,output_dim)\n"
      ],
      "execution_count": 0,
      "outputs": []
    },
    {
      "cell_type": "markdown",
      "metadata": {
        "id": "wtOCp9BaOyaS",
        "colab_type": "text"
      },
      "source": [
        "#### Instantiate Loss Class\n",
        "\n",
        "* MSE Loss : Mean Squared Error\n",
        "* MSE  = $\\frac{1}{n}\\sum^{n}_{i=1}({y_{i}}'-y_{i})$"
      ]
    },
    {
      "cell_type": "code",
      "metadata": {
        "id": "FvwNJy5BOyaT",
        "colab_type": "code",
        "colab": {}
      },
      "source": [
        "criterion = nn.MSELoss()"
      ],
      "execution_count": 0,
      "outputs": []
    },
    {
      "cell_type": "markdown",
      "metadata": {
        "id": "ALnU6a_AOyaV",
        "colab_type": "text"
      },
      "source": [
        "#### Instantiate Optimizer Class\n",
        "\n",
        "* Simplified Equation :$\\Theta = \\Theta -\\eta .*\\bigtriangledown _{\\Theta }$\n",
        "    * $\\Theta$ : parameter(Our Variables)\n",
        "    * $\\eta$ : learning rate\n",
        "    * $\\bigtriangledown _{\\Theta }$ : parameter's gradients\n",
        "    \n",
        "* Even Simpler equation:\n",
        "    * parameters  = parameters-learning_rate * parameter_gradients\n",
        "    * parameters : a & b in y =  ax+b\n",
        "    * desired parameter:a=2 & b =1 in y=2x+1"
      ]
    },
    {
      "cell_type": "code",
      "metadata": {
        "id": "go-a8YPOOyaW",
        "colab_type": "code",
        "colab": {}
      },
      "source": [
        "learning_rate = 0.01\n",
        "#Stochastic Gradient Descent\n",
        "optimizer = torch.optim.SGD(model.parameters(),lr=learning_rate)"
      ],
      "execution_count": 0,
      "outputs": []
    },
    {
      "cell_type": "markdown",
      "metadata": {
        "id": "P9oGuM3fOyaY",
        "colab_type": "text"
      },
      "source": [
        "#### Train Model\n",
        "\n",
        "* 1 epoch : going through the whole x_train data once \n",
        "    * 100 epochs : \n",
        "        * 100x mapping x_train = [0, 1, 2, 3, 4, 5, 6, 7, 8, 9, 10]\n",
        "* Process\n",
        "    1. Convert input/labels to variables\n",
        "    2. Clear gradient buffets\n",
        "    3. Get Output given inputs\n",
        "    4. Get loss\n",
        "    5. Get gradient w.r.t to parameters\n",
        "    6. update parameters using gradients\n",
        "        * parameters = parameters-learning_rate * parameter_gradients\n",
        "    7. Repeat"
      ]
    },
    {
      "cell_type": "code",
      "metadata": {
        "id": "pzvmbY3VOyaZ",
        "colab_type": "code",
        "colab": {}
      },
      "source": [
        "epochs = 100"
      ],
      "execution_count": 0,
      "outputs": []
    },
    {
      "cell_type": "code",
      "metadata": {
        "id": "1L9GHLB_Oyab",
        "colab_type": "code",
        "colab": {
          "base_uri": "https://localhost:8080/",
          "height": 1000
        },
        "outputId": "053f96b6-f1a9-443f-85d2-e1f160fdf77e"
      },
      "source": [
        "for epoch in range(epochs):\n",
        "    epoch += 1\n",
        "    \n",
        "    #converting numpy array to Torch Tensor\n",
        "    inputs = Variable(torch.from_numpy(x_train))\n",
        "    labels = Variable(torch.from_numpy(y_train))\n",
        "    \n",
        "    #clearing gradient w.r.t variables\n",
        "    optimizer.zero_grad()\n",
        "    \n",
        "    #forward to get outputs\n",
        "    outputs = model(inputs)\n",
        "    \n",
        "    #loss\n",
        "    loss = criterion(outputs, labels)\n",
        "    \n",
        "    # getting gradients w.r.t to parameters\n",
        "    loss.backward()\n",
        "    \n",
        "    #updating parameters\n",
        "    optimizer.step()\n",
        "    \n",
        "    # print('epoch {}, losss {}'.format(epoch,loss.data[0]))\n",
        "    print('epoch {}, losss {}'.format(epoch,loss.data.item()))\n",
        "    \n",
        "    \n",
        "\n",
        "                  "
      ],
      "execution_count": 80,
      "outputs": [
        {
          "output_type": "stream",
          "text": [
            "epoch 1, losss 0.00298058008775115\n",
            "epoch 2, losss 0.0029473071917891502\n",
            "epoch 3, losss 0.0029143900610506535\n",
            "epoch 4, losss 0.0028818228747695684\n",
            "epoch 5, losss 0.002849664306268096\n",
            "epoch 6, losss 0.0028178321663290262\n",
            "epoch 7, losss 0.002786380937322974\n",
            "epoch 8, losss 0.0027552731335163116\n",
            "epoch 9, losss 0.002724476158618927\n",
            "epoch 10, losss 0.002694085007533431\n",
            "epoch 11, losss 0.0026640049181878567\n",
            "epoch 12, losss 0.0026342275086790323\n",
            "epoch 13, losss 0.0026048060972243547\n",
            "epoch 14, losss 0.002575716469436884\n",
            "epoch 15, losss 0.0025469576939940453\n",
            "epoch 16, losss 0.0025185158010572195\n",
            "epoch 17, losss 0.002490412211045623\n",
            "epoch 18, losss 0.0024626096710562706\n",
            "epoch 19, losss 0.0024350991006940603\n",
            "epoch 20, losss 0.002407911466434598\n",
            "epoch 21, losss 0.0023810332641005516\n",
            "epoch 22, losss 0.0023544307332485914\n",
            "epoch 23, losss 0.0023281360045075417\n",
            "epoch 24, losss 0.002302136505022645\n",
            "epoch 25, losss 0.002276418264955282\n",
            "epoch 26, losss 0.0022509852424263954\n",
            "epoch 27, losss 0.002225866774097085\n",
            "epoch 28, losss 0.0022010107059031725\n",
            "epoch 29, losss 0.0021764410194009542\n",
            "epoch 30, losss 0.002152130240574479\n",
            "epoch 31, losss 0.0021281165536493063\n",
            "epoch 32, losss 0.002104330575093627\n",
            "epoch 33, losss 0.0020808489061892033\n",
            "epoch 34, losss 0.002057601697742939\n",
            "epoch 35, losss 0.0020346178207546473\n",
            "epoch 36, losss 0.002011900069192052\n",
            "epoch 37, losss 0.0019894291181117296\n",
            "epoch 38, losss 0.0019672021735459566\n",
            "epoch 39, losss 0.001945256837643683\n",
            "epoch 40, losss 0.001923524308949709\n",
            "epoch 41, losss 0.001902058837004006\n",
            "epoch 42, losss 0.0018808223539963365\n",
            "epoch 43, losss 0.0018598176538944244\n",
            "epoch 44, losss 0.0018390327459201217\n",
            "epoch 45, losss 0.0018185027875006199\n",
            "epoch 46, losss 0.0017981872661039233\n",
            "epoch 47, losss 0.001778123783878982\n",
            "epoch 48, losss 0.0017582759028300643\n",
            "epoch 49, losss 0.001738618011586368\n",
            "epoch 50, losss 0.0017192064551636577\n",
            "epoch 51, losss 0.0017000301741063595\n",
            "epoch 52, losss 0.0016810345696285367\n",
            "epoch 53, losss 0.0016622563125565648\n",
            "epoch 54, losss 0.0016436890000477433\n",
            "epoch 55, losss 0.0016253504436463118\n",
            "epoch 56, losss 0.0016071852296590805\n",
            "epoch 57, losss 0.0015892398077994585\n",
            "epoch 58, losss 0.0015714935725554824\n",
            "epoch 59, losss 0.0015539579326286912\n",
            "epoch 60, losss 0.001536591094918549\n",
            "epoch 61, losss 0.001519440091215074\n",
            "epoch 62, losss 0.001502478145994246\n",
            "epoch 63, losss 0.001485674874857068\n",
            "epoch 64, losss 0.0014690960524603724\n",
            "epoch 65, losss 0.0014527010498568416\n",
            "epoch 66, losss 0.0014364633243530989\n",
            "epoch 67, losss 0.0014204260660335422\n",
            "epoch 68, losss 0.00140457006637007\n",
            "epoch 69, losss 0.0013888925313949585\n",
            "epoch 70, losss 0.0013733560917899013\n",
            "epoch 71, losss 0.001358036999590695\n",
            "epoch 72, losss 0.0013428691308945417\n",
            "epoch 73, losss 0.0013278929982334375\n",
            "epoch 74, losss 0.00131305493414402\n",
            "epoch 75, losss 0.0012983932392671704\n",
            "epoch 76, losss 0.00128390162717551\n",
            "epoch 77, losss 0.0012695366749539971\n",
            "epoch 78, losss 0.001255373703315854\n",
            "epoch 79, losss 0.0012413664953783154\n",
            "epoch 80, losss 0.001227491069585085\n",
            "epoch 81, losss 0.0012137765297666192\n",
            "epoch 82, losss 0.0012002335861325264\n",
            "epoch 83, losss 0.0011868324363604188\n",
            "epoch 84, losss 0.0011735673760995269\n",
            "epoch 85, losss 0.0011604661121964455\n",
            "epoch 86, losss 0.0011474943021312356\n",
            "epoch 87, losss 0.0011346894316375256\n",
            "epoch 88, losss 0.0011220123851671815\n",
            "epoch 89, losss 0.001109487027861178\n",
            "epoch 90, losss 0.0010971013689413667\n",
            "epoch 91, losss 0.0010848511010408401\n",
            "epoch 92, losss 0.001072741113603115\n",
            "epoch 93, losss 0.0010607570875436068\n",
            "epoch 94, losss 0.00104892544914037\n",
            "epoch 95, losss 0.001037220354191959\n",
            "epoch 96, losss 0.001025606063194573\n",
            "epoch 97, losss 0.0010141613893210888\n",
            "epoch 98, losss 0.0010028461692854762\n",
            "epoch 99, losss 0.0009916523704305291\n",
            "epoch 100, losss 0.0009805754525586963\n"
          ],
          "name": "stdout"
        }
      ]
    },
    {
      "cell_type": "code",
      "metadata": {
        "id": "LnnGlr9HOyae",
        "colab_type": "code",
        "colab": {}
      },
      "source": [
        ""
      ],
      "execution_count": 0,
      "outputs": []
    },
    {
      "cell_type": "markdown",
      "metadata": {
        "id": "4xXACD4dOyah",
        "colab_type": "text"
      },
      "source": [
        "#### Compare Data"
      ]
    },
    {
      "cell_type": "code",
      "metadata": {
        "id": "LeIlhEt7Oyah",
        "colab_type": "code",
        "colab": {
          "base_uri": "https://localhost:8080/",
          "height": 208
        },
        "outputId": "0e360e96-b7c2-40fd-ef66-acdf8b559c46"
      },
      "source": [
        "# Purely inference\n",
        "# 2x+1 of (0,1,2,3,4,5,6,7,8,9)\n",
        "predicted = model(Variable(torch.from_numpy(x_train)))\n",
        "predicted = predicted.data.numpy()\n",
        "predicted"
      ],
      "execution_count": 81,
      "outputs": [
        {
          "output_type": "execute_result",
          "data": {
            "text/plain": [
              "array([[ 0.94174945],\n",
              "       [ 2.950138  ],\n",
              "       [ 4.9585266 ],\n",
              "       [ 6.966915  ],\n",
              "       [ 8.975304  ],\n",
              "       [10.983692  ],\n",
              "       [12.992081  ],\n",
              "       [15.000469  ],\n",
              "       [17.008858  ],\n",
              "       [19.017246  ],\n",
              "       [21.025635  ]], dtype=float32)"
            ]
          },
          "metadata": {
            "tags": []
          },
          "execution_count": 81
        }
      ]
    },
    {
      "cell_type": "code",
      "metadata": {
        "id": "ZH7zx1e5Oyak",
        "colab_type": "code",
        "colab": {
          "base_uri": "https://localhost:8080/",
          "height": 208
        },
        "outputId": "559f13c9-cf90-49c3-f0e1-0352f86d1862"
      },
      "source": [
        "y_train"
      ],
      "execution_count": 82,
      "outputs": [
        {
          "output_type": "execute_result",
          "data": {
            "text/plain": [
              "array([[ 1.],\n",
              "       [ 3.],\n",
              "       [ 5.],\n",
              "       [ 7.],\n",
              "       [ 9.],\n",
              "       [11.],\n",
              "       [13.],\n",
              "       [15.],\n",
              "       [17.],\n",
              "       [19.],\n",
              "       [21.]], dtype=float32)"
            ]
          },
          "metadata": {
            "tags": []
          },
          "execution_count": 82
        }
      ]
    },
    {
      "cell_type": "markdown",
      "metadata": {
        "id": "TJfAbvxWOyam",
        "colab_type": "text"
      },
      "source": [
        "#### Graph Plot \n",
        "\n"
      ]
    },
    {
      "cell_type": "code",
      "metadata": {
        "id": "hPrQoO_cOyan",
        "colab_type": "code",
        "colab": {
          "base_uri": "https://localhost:8080/",
          "height": 265
        },
        "outputId": "edfc0cb2-7299-4cee-fe88-e72810b06bad"
      },
      "source": [
        "#clear figure\n",
        "plt.clf()\n",
        "\n",
        "#get predictions\n",
        "predicted = model(Variable(torch.from_numpy(x_train))).data.numpy()\n",
        "\n",
        "#plot the true data\n",
        "plt.plot(x_train,y_train,'go',label='True Data',alpha=0.5)\n",
        "\n",
        "#plot predictions\n",
        "plt.plot(x_train,predicted,'--',label='Predictions',alpha=0.5)\n",
        "\n",
        "#Legend & Plot\n",
        "plt.legend(loc='best')\n",
        "plt.show()\n",
        "\n"
      ],
      "execution_count": 83,
      "outputs": [
        {
          "output_type": "display_data",
          "data": {
            "image/png": "[encoded data removed]",
            "text/plain": [
              "<Figure size 432x288 with 1 Axes>"
            ]
          },
          "metadata": {
            "tags": []
          }
        }
      ]
    },
    {
      "cell_type": "code",
      "metadata": {
        "id": "tB1ZbgIpOyap",
        "colab_type": "code",
        "colab": {}
      },
      "source": [
        ""
      ],
      "execution_count": 0,
      "outputs": []
    }
  ]
}