{
 "cells": [
  {
   "cell_type": "markdown",
   "metadata": {},
   "source": [
    "# Linear Regression With PyTorch\n",
    "\n",
    "### About Linear Regression\n",
    "\n",
    "#### 1. Simple Linear Regression\n",
    "\n",
    "* Allows us to understand relationship between two continious variables \n",
    "* Example\n",
    "    * x: independent variable\n",
    "    * y: dependent variable\n",
    "\n",
    "* $y = \\alpha$x +b\n",
    "\n",
    "#### Simple Example of Linear Regression"
   ]
  },
  {
   "cell_type": "code",
   "execution_count": 5,
   "metadata": {},
   "outputs": [
    {
     "data": {
      "image/png": "[encoded data removed]",
      "text/plain": [
       "<matplotlib.figure.Figure at 0x17719eb4e10>"
      ]
     },
     "metadata": {},
     "output_type": "display_data"
    }
   ],
   "source": [
    "import numpy as np\n",
    "import matplotlib.pyplot as plt\n",
    "\n",
    "np.random.seed(1)\n",
    "n = 50\n",
    "x = np.random.randn(n)\n",
    "y = x * np.random.randn(n)\n",
    "\n",
    "colors = np.random.rand(n)\n",
    "plt.plot(np.unique(x),np.poly1d(np.polyfit(x,y,1))(np.unique(x)))\n",
    "plt.scatter(x,y , c=colors , alpha =0.5)\n",
    "plt.show()"
   ]
  },
  {
   "cell_type": "markdown",
   "metadata": {},
   "source": [
    "#### Aim of Linear Regression\n",
    "\n",
    "* Minimizing the distance between the points and the line (y=ax+b)\n",
    "* Adjusting\n",
    "    * Coeffcient : a\n",
    "    * Bias/Intercept : b\n",
    "    \n",
    "#### Building a Linear Regression Model With PyTorch\n",
    "\n",
    "* Coeffcient :a = 2\n",
    "* Bias/Intercept :b = 1\n",
    "* Equation :y = 2x+1\n"
   ]
  },
  {
   "cell_type": "markdown",
   "metadata": {},
   "source": [
    "### Building a Toy Dataset \n",
    "\n"
   ]
  },
  {
   "cell_type": "code",
   "execution_count": 14,
   "metadata": {},
   "outputs": [],
   "source": [
    "x_values = [i for i in range(11)]"
   ]
  },
  {
   "cell_type": "code",
   "execution_count": 15,
   "metadata": {},
   "outputs": [
    {
     "data": {
      "text/plain": [
       "[0, 1, 2, 3, 4, 5, 6, 7, 8, 9, 10]"
      ]
     },
     "execution_count": 15,
     "metadata": {},
     "output_type": "execute_result"
    }
   ],
   "source": [
    "x_values"
   ]
  },
  {
   "cell_type": "code",
   "execution_count": 16,
   "metadata": {},
   "outputs": [
    {
     "data": {
      "text/plain": [
       "(11,)"
      ]
     },
     "execution_count": 16,
     "metadata": {},
     "output_type": "execute_result"
    }
   ],
   "source": [
    "#convert to numpy array\n",
    "x_train = np.array(x_values , dtype=np.float32)\n",
    "x_train.shape"
   ]
  },
  {
   "cell_type": "code",
   "execution_count": 17,
   "metadata": {},
   "outputs": [
    {
     "data": {
      "text/plain": [
       "(11, 1)"
      ]
     },
     "execution_count": 17,
     "metadata": {},
     "output_type": "execute_result"
    }
   ],
   "source": [
    "# Important : we need to reshape it to 2D\n",
    "\n",
    "x_train = x_train.reshape(-1,1)\n",
    "x_train.shape"
   ]
  },
  {
   "cell_type": "markdown",
   "metadata": {},
   "source": [
    "Then \n",
    "\n",
    "y =2x+1"
   ]
  },
  {
   "cell_type": "code",
   "execution_count": 19,
   "metadata": {},
   "outputs": [],
   "source": [
    "y_values = [2*i + 1 for i in x_values]"
   ]
  },
  {
   "cell_type": "code",
   "execution_count": 20,
   "metadata": {},
   "outputs": [
    {
     "data": {
      "text/plain": [
       "[1, 3, 5, 7, 9, 11, 13, 15, 17, 19, 21]"
      ]
     },
     "execution_count": 20,
     "metadata": {},
     "output_type": "execute_result"
    }
   ],
   "source": [
    "y_values"
   ]
  },
  {
   "cell_type": "code",
   "execution_count": 21,
   "metadata": {},
   "outputs": [],
   "source": [
    "# with normal python code\n",
    "y_values = []\n",
    "for i in x_values:\n",
    "    result = 2*i+1\n",
    "    y_values.append(result)"
   ]
  },
  {
   "cell_type": "code",
   "execution_count": 22,
   "metadata": {
    "scrolled": true
   },
   "outputs": [
    {
     "data": {
      "text/plain": [
       "[1, 3, 5, 7, 9, 11, 13, 15, 17, 19, 21]"
      ]
     },
     "execution_count": 22,
     "metadata": {},
     "output_type": "execute_result"
    }
   ],
   "source": [
    "y_values"
   ]
  },
  {
   "cell_type": "code",
   "execution_count": 23,
   "metadata": {},
   "outputs": [
    {
     "data": {
      "text/plain": [
       "(11,)"
      ]
     },
     "execution_count": 23,
     "metadata": {},
     "output_type": "execute_result"
    }
   ],
   "source": [
    "y_train = np.array(y_values, dtype=np.float32)\n",
    "y_train.shape"
   ]
  },
  {
   "cell_type": "code",
   "execution_count": 25,
   "metadata": {},
   "outputs": [
    {
     "data": {
      "text/plain": [
       "(11, 1)"
      ]
     },
     "execution_count": 25,
     "metadata": {},
     "output_type": "execute_result"
    }
   ],
   "source": [
    "# resizing to 2d array\n",
    "y_train = y_train.reshape(-1,1)\n",
    "y_train.shape"
   ]
  },
  {
   "cell_type": "code",
   "execution_count": 31,
   "metadata": {},
   "outputs": [],
   "source": [
    "from IPython.display import display, Math, Latex"
   ]
  },
  {
   "cell_type": "markdown",
   "metadata": {},
   "source": [
    "### Building Model\n",
    "\n",
    "#### Critical Imports\n"
   ]
  },
  {
   "cell_type": "code",
   "execution_count": 26,
   "metadata": {},
   "outputs": [],
   "source": [
    "import torch \n",
    "import torch.nn as nn \n",
    "from torch.autograd import Variable"
   ]
  },
  {
   "cell_type": "markdown",
   "metadata": {},
   "source": [
    "#### Model \n",
    "* 1. Linear Model: y = 2x+1 \n",
    "\n",
    "* 2. Forward \n",
    "    * Example\n",
    "        - Input x = 1\n",
    "        - Output y = ?"
   ]
  },
  {
   "cell_type": "code",
   "execution_count": 29,
   "metadata": {},
   "outputs": [],
   "source": [
    "# create class\n",
    "\n",
    "class LinearRegressionModel(nn.Module):\n",
    "    def __init__(self,input_size,output_size):\n",
    "        super(LinearRegressionModel, self).__init__()\n",
    "        self.linear = nn.Linear(input_dim , output_dim)\n",
    "        \n",
    "    def forward(self,x):\n",
    "        out =  self.linear(x)\n",
    "        return out"
   ]
  },
  {
   "cell_type": "markdown",
   "metadata": {},
   "source": [
    "#### Instantiate Model Class\n",
    "\n",
    "* Input : [0, 1, 2, 3, 4, 5, 6, 7, 8, 9, 10]\n",
    "\n",
    "* desired Output : [1, 3, 5, 7, 9, 11, 13, 15, 17, 19, 21] "
   ]
  },
  {
   "cell_type": "code",
   "execution_count": 30,
   "metadata": {},
   "outputs": [],
   "source": [
    "input_dim = 1\n",
    "output_dim = 1\n",
    "\n",
    "model = LinearRegressionModel(input_dim,output_dim)\n",
    "\n"
   ]
  },
  {
   "cell_type": "markdown",
   "metadata": {},
   "source": [
    "#### Instantiate Loss Class\n",
    "\n",
    "* MSE Loss : Mean Squared Error\n",
    "* MSE  = $\\frac{1}{n}\\sum^{n}_{i=1}({y_{i}}'-y_{i})$"
   ]
  },
  {
   "cell_type": "code",
   "execution_count": 32,
   "metadata": {},
   "outputs": [],
   "source": [
    "criterion = nn.MSELoss()"
   ]
  },
  {
   "cell_type": "markdown",
   "metadata": {},
   "source": [
    "#### Instantiate Optimizer Class\n",
    "\n",
    "* Simplified Equation :$\\Theta = \\Theta -\\eta .*\\bigtriangledown _{\\Theta }$\n",
    "    * $\\Theta$ : parameter(Our Variables)\n",
    "    * $\\eta$ : learning rate\n",
    "    * $\\bigtriangledown _{\\Theta }$ : parameter's gradients\n",
    "    \n",
    "* Even Simpler equation:\n",
    "    * parameters  = parameters-learning_rate * parameter_gradients\n",
    "    * parameters : a & b in y =  ax+b\n",
    "    * desired parameter:a=2 & b =1 in y=2x+1"
   ]
  },
  {
   "cell_type": "code",
   "execution_count": 34,
   "metadata": {},
   "outputs": [],
   "source": [
    "learning_rate = 0.01\n",
    "\n",
    "\n",
    "#Stochastic Gradient Descent\n",
    "optimizer = torch.optim.SGD(model.parameters(),lr=learning_rate)"
   ]
  },
  {
   "cell_type": "markdown",
   "metadata": {},
   "source": [
    "#### Train Model\n",
    "\n",
    "* 1 epoch : going through the whole x_train data once \n",
    "    * 100 epochs : \n",
    "        * 100x mapping x_train = [0, 1, 2, 3, 4, 5, 6, 7, 8, 9, 10]\n",
    "* Process\n",
    "    1. Convert input/labels to variables\n",
    "    2. Clear gradient buffets\n",
    "    3. Get Output given inputs\n",
    "    4. Get loss\n",
    "    5. Get gradient w.r.t to parameters\n",
    "    6. update parameters using gradients\n",
    "        * parameters = parameters-learning_rate * parameter_gradients\n",
    "    7. Repeat"
   ]
  },
  {
   "cell_type": "code",
   "execution_count": 36,
   "metadata": {},
   "outputs": [],
   "source": [
    "epochs = 100"
   ]
  },
  {
   "cell_type": "code",
   "execution_count": 39,
   "metadata": {},
   "outputs": [
    {
     "name": "stdout",
     "output_type": "stream",
     "text": [
      "epoch 1, losss 116.67632293701172\n",
      "epoch 2, losss 9.700424194335938\n",
      "epoch 3, losss 0.9726901650428772\n",
      "epoch 4, losss 0.25877150893211365\n",
      "epoch 5, losss 0.19853535294532776\n",
      "epoch 6, losss 0.1916409432888031\n",
      "epoch 7, losss 0.1891191005706787\n",
      "epoch 8, losss 0.1869761198759079\n",
      "epoch 9, losss 0.18488581478595734\n",
      "epoch 10, losss 0.1828208714723587\n",
      "epoch 11, losss 0.1807795763015747\n",
      "epoch 12, losss 0.17876070737838745\n",
      "epoch 13, losss 0.1767646074295044\n",
      "epoch 14, losss 0.17479075491428375\n",
      "epoch 15, losss 0.17283861339092255\n",
      "epoch 16, losss 0.17090849578380585\n",
      "epoch 17, losss 0.16900032758712769\n",
      "epoch 18, losss 0.16711290180683136\n",
      "epoch 19, losss 0.1652468889951706\n",
      "epoch 20, losss 0.1634015440940857\n",
      "epoch 21, losss 0.16157695651054382\n",
      "epoch 22, losss 0.15977275371551514\n",
      "epoch 23, losss 0.15798865258693695\n",
      "epoch 24, losss 0.15622417628765106\n",
      "epoch 25, losss 0.1544797718524933\n",
      "epoch 26, losss 0.15275467932224274\n",
      "epoch 27, losss 0.1510487198829651\n",
      "epoch 28, losss 0.14936217665672302\n",
      "epoch 29, losss 0.1476941853761673\n",
      "epoch 30, losss 0.1460447758436203\n",
      "epoch 31, losss 0.14441411197185516\n",
      "epoch 32, losss 0.1428014636039734\n",
      "epoch 33, losss 0.1412067413330078\n",
      "epoch 34, losss 0.13963009417057037\n",
      "epoch 35, losss 0.13807089626789093\n",
      "epoch 36, losss 0.13652892410755157\n",
      "epoch 37, losss 0.13500438630580902\n",
      "epoch 38, losss 0.1334967166185379\n",
      "epoch 39, losss 0.13200592994689941\n",
      "epoch 40, losss 0.13053178787231445\n",
      "epoch 41, losss 0.1290741115808487\n",
      "epoch 42, losss 0.12763281166553497\n",
      "epoch 43, losss 0.126207634806633\n",
      "epoch 44, losss 0.12479833513498306\n",
      "epoch 45, losss 0.12340468913316727\n",
      "epoch 46, losss 0.12202662229537964\n",
      "epoch 47, losss 0.1206638514995575\n",
      "epoch 48, losss 0.11931660771369934\n",
      "epoch 49, losss 0.11798424273729324\n",
      "epoch 50, losss 0.1166667565703392\n",
      "epoch 51, losss 0.11536388844251633\n",
      "epoch 52, losss 0.11407562345266342\n",
      "epoch 53, losss 0.11280190199613571\n",
      "epoch 54, losss 0.11154211312532425\n",
      "epoch 55, losss 0.11029652506113052\n",
      "epoch 56, losss 0.10906488448381424\n",
      "epoch 57, losss 0.10784688591957092\n",
      "epoch 58, losss 0.10664275288581848\n",
      "epoch 59, losss 0.10545184463262558\n",
      "epoch 60, losss 0.10427416861057281\n",
      "epoch 61, losss 0.10310991108417511\n",
      "epoch 62, losss 0.10195843130350113\n",
      "epoch 63, losss 0.10081981867551804\n",
      "epoch 64, losss 0.09969411790370941\n",
      "epoch 65, losss 0.0985807552933693\n",
      "epoch 66, losss 0.09747996181249619\n",
      "epoch 67, losss 0.09639150649309158\n",
      "epoch 68, losss 0.09531506896018982\n",
      "epoch 69, losss 0.09425058215856552\n",
      "epoch 70, losss 0.09319819509983063\n",
      "epoch 71, losss 0.09215740114450455\n",
      "epoch 72, losss 0.09112830460071564\n",
      "epoch 73, losss 0.09011068195104599\n",
      "epoch 74, losss 0.08910460025072098\n",
      "epoch 75, losss 0.08810947090387344\n",
      "epoch 76, losss 0.08712559193372726\n",
      "epoch 77, losss 0.08615265041589737\n",
      "epoch 78, losss 0.08519065380096436\n",
      "epoch 79, losss 0.08423915505409241\n",
      "epoch 80, losss 0.08329853415489197\n",
      "epoch 81, losss 0.0823683813214302\n",
      "epoch 82, losss 0.08144856989383698\n",
      "epoch 83, losss 0.08053889870643616\n",
      "epoch 84, losss 0.079639732837677\n",
      "epoch 85, losss 0.07875047624111176\n",
      "epoch 86, losss 0.07787104696035385\n",
      "epoch 87, losss 0.0770014226436615\n",
      "epoch 88, losss 0.07614158093929291\n",
      "epoch 89, losss 0.07529124617576599\n",
      "epoch 90, losss 0.07445044815540314\n",
      "epoch 91, losss 0.07361903786659241\n",
      "epoch 92, losss 0.07279700040817261\n",
      "epoch 93, losss 0.07198407500982285\n",
      "epoch 94, losss 0.07118022441864014\n",
      "epoch 95, losss 0.07038535922765732\n",
      "epoch 96, losss 0.06959936022758484\n",
      "epoch 97, losss 0.06882224231958389\n",
      "epoch 98, losss 0.06805383414030075\n",
      "epoch 99, losss 0.06729371100664139\n",
      "epoch 100, losss 0.0665423646569252\n"
     ]
    },
    {
     "name": "stderr",
     "output_type": "stream",
     "text": [
      "C:\\ProgramData\\Anaconda3\\lib\\site-packages\\ipykernel_launcher.py:23: UserWarning: invalid index of a 0-dim tensor. This will be an error in PyTorch 0.5. Use tensor.item() to convert a 0-dim tensor to a Python number\n"
     ]
    }
   ],
   "source": [
    "for epoch in range(epochs):\n",
    "    epoch += 1\n",
    "    \n",
    "    #converting numpy array to Torch Tensor\n",
    "    inputs = Variable(torch.from_numpy(x_train))\n",
    "    labels = Variable(torch.from_numpy(y_train))\n",
    "    \n",
    "    #clearing gradient w.r.t variables\n",
    "    optimizer.zero_grad()\n",
    "    \n",
    "    #forward to get outputs\n",
    "    outputs = model(inputs)\n",
    "    \n",
    "    #loss\n",
    "    loss = criterion(outputs, labels)\n",
    "    \n",
    "    # getting gradients w.r.t to parameters\n",
    "    loss.backward()\n",
    "    \n",
    "    #updating parameters\n",
    "    optimizer.step()\n",
    "    \n",
    "    print('epoch {}, losss {}'.format(epoch,loss.data[0]))\n",
    "    \n",
    "    \n",
    "    \n",
    "\n",
    "                  "
   ]
  },
  {
   "cell_type": "code",
   "execution_count": null,
   "metadata": {},
   "outputs": [],
   "source": []
  },
  {
   "cell_type": "markdown",
   "metadata": {},
   "source": [
    "#### Compare Data"
   ]
  },
  {
   "cell_type": "code",
   "execution_count": 40,
   "metadata": {},
   "outputs": [
    {
     "data": {
      "text/plain": [
       "array([[ 0.52014595],\n",
       "       [ 2.5892491 ],\n",
       "       [ 4.6583524 ],\n",
       "       [ 6.7274556 ],\n",
       "       [ 8.796559  ],\n",
       "       [10.865663  ],\n",
       "       [12.934766  ],\n",
       "       [15.003869  ],\n",
       "       [17.072971  ],\n",
       "       [19.142075  ],\n",
       "       [21.211178  ]], dtype=float32)"
      ]
     },
     "execution_count": 40,
     "metadata": {},
     "output_type": "execute_result"
    }
   ],
   "source": [
    "# Purely inference\n",
    "predicted = model(Variable(torch.from_numpy(x_train))).data.numpy()\n",
    "predicted"
   ]
  },
  {
   "cell_type": "code",
   "execution_count": 41,
   "metadata": {},
   "outputs": [
    {
     "data": {
      "text/plain": [
       "array([[ 1.],\n",
       "       [ 3.],\n",
       "       [ 5.],\n",
       "       [ 7.],\n",
       "       [ 9.],\n",
       "       [11.],\n",
       "       [13.],\n",
       "       [15.],\n",
       "       [17.],\n",
       "       [19.],\n",
       "       [21.]], dtype=float32)"
      ]
     },
     "execution_count": 41,
     "metadata": {},
     "output_type": "execute_result"
    }
   ],
   "source": [
    "y_train"
   ]
  },
  {
   "cell_type": "markdown",
   "metadata": {},
   "source": [
    "#### Graph Plot \n",
    "\n"
   ]
  },
  {
   "cell_type": "code",
   "execution_count": 46,
   "metadata": {},
   "outputs": [
    {
     "data": {
      "image/png": "[encoded data removed]",
      "text/plain": [
       "<matplotlib.figure.Figure at 0x17719575470>"
      ]
     },
     "metadata": {},
     "output_type": "display_data"
    }
   ],
   "source": [
    "#clear figure\n",
    "plt.clf()\n",
    "\n",
    "#get predictions\n",
    "predicted = model(Variable(torch.from_numpy(x_train))).data.numpy()\n",
    "\n",
    "#plot the true data\n",
    "plt.plot(x_train,y_train,'go',label='True Data',alpha=0.5)\n",
    "\n",
    "#plot predictions\n",
    "plt.plot(x_train,predicted,'--',label='Predictions',alpha=0.5)\n",
    "\n",
    "#Legend & Plot\n",
    "plt.legend(loc='best')\n",
    "plt.show()\n",
    "\n"
   ]
  },
  {
   "cell_type": "code",
   "execution_count": null,
   "metadata": {},
   "outputs": [],
   "source": []
  }
 ],
 "metadata": {
  "kernelspec": {
   "display_name": "Python 3",
   "language": "python",
   "name": "python3"
  },
  "language_info": {
   "codemirror_mode": {
    "name": "ipython",
    "version": 3
   },
   "file_extension": ".py",
   "mimetype": "text/x-python",
   "name": "python",
   "nbconvert_exporter": "python",
   "pygments_lexer": "ipython3",
   "version": "3.6.4"
  }
 },
 "nbformat": 4,
 "nbformat_minor": 2
}
