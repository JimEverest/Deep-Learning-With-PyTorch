{
  "nbformat": 4,
  "nbformat_minor": 0,
  "metadata": {
    "kernelspec": {
      "display_name": "Python 3",
      "language": "python",
      "name": "python3"
    },
    "language_info": {
      "codemirror_mode": {
        "name": "ipython",
        "version": 3
      },
      "file_extension": ".py",
      "mimetype": "text/x-python",
      "name": "python",
      "nbconvert_exporter": "python",
      "pygments_lexer": "ipython3",
      "version": "3.6.4"
    },
    "colab": {
      "name": "Copy of 1.PyTorch Fundamentals.ipynb",
      "provenance": [],
      "include_colab_link": true
    }
  },
  "cells": [
    {
      "cell_type": "markdown",
      "metadata": {
        "id": "view-in-github",
        "colab_type": "text"
      },
      "source": [
        "<a href=\"https://colab.research.google.com/github/JimEverest/Deep-Learning-With-PyTorch/blob/master/1.PyTorch_Fundamentals.ipynb\" target=\"_parent\"><img src=\"https://colab.research.google.com/assets/colab-badge.svg\" alt=\"Open In Colab\"/></a>"
      ]
    },
    {
      "cell_type": "markdown",
      "metadata": {
        "id": "fg7EGd2N02sh",
        "colab_type": "text"
      },
      "source": [
        "# PyTorch Fundamentals\n",
        "\n",
        "## Matrix Basics\n",
        "\n",
        "***Matrices Brief Introduction ***\n",
        "\n",
        "* Basic Defination: rectangular array of numbers\n",
        "* Tensors(PyTorch)\n",
        "* Ndarrays(Numpy)\n",
        "\n",
        "### 1. Creating matrix"
      ]
    },
    {
      "cell_type": "code",
      "metadata": {
        "id": "uq-H3ygF02sk",
        "colab_type": "code",
        "colab": {}
      },
      "source": [
        "import numpy as np "
      ],
      "execution_count": 0,
      "outputs": []
    },
    {
      "cell_type": "code",
      "metadata": {
        "id": "-64impGx02sn",
        "colab_type": "code",
        "outputId": "29e12f06-4560-4209-99f7-3cd266f99634",
        "colab": {
          "base_uri": "https://localhost:8080/",
          "height": 35
        }
      },
      "source": [
        "# creating a 2*2 matrix using python\n",
        "\n",
        "arr = [[1,2],[3,4]]\n",
        "print(arr)"
      ],
      "execution_count": 2,
      "outputs": [
        {
          "output_type": "stream",
          "text": [
            "[[1, 2], [3, 4]]\n"
          ],
          "name": "stdout"
        }
      ]
    },
    {
      "cell_type": "code",
      "metadata": {
        "id": "lYpiI9r-02sr",
        "colab_type": "code",
        "outputId": "e9ce0208-b0ea-43f7-8465-85f029028e90",
        "colab": {}
      },
      "source": [
        "#convert to numpy \n",
        "\n",
        "np.array(arr)\n",
        "\n"
      ],
      "execution_count": 0,
      "outputs": [
        {
          "output_type": "execute_result",
          "data": {
            "text/plain": [
              "array([[1, 2],\n",
              "       [3, 4]])"
            ]
          },
          "metadata": {
            "tags": []
          },
          "execution_count": 3
        }
      ]
    },
    {
      "cell_type": "code",
      "metadata": {
        "id": "sDNvzImZ02su",
        "colab_type": "code",
        "colab": {}
      },
      "source": [
        "#in pytorch\n",
        "\n",
        "import torch"
      ],
      "execution_count": 0,
      "outputs": []
    },
    {
      "cell_type": "code",
      "metadata": {
        "id": "Uoe3dBuq02sx",
        "colab_type": "code",
        "outputId": "95f716d2-3b65-478f-91c0-9aff967c3d88",
        "colab": {}
      },
      "source": [
        "#converting to PyTorch Tensor \n",
        "\n",
        "torch.Tensor(arr)"
      ],
      "execution_count": 0,
      "outputs": [
        {
          "output_type": "execute_result",
          "data": {
            "text/plain": [
              "tensor([[1., 2.],\n",
              "        [3., 4.]])"
            ]
          },
          "metadata": {
            "tags": []
          },
          "execution_count": 5
        }
      ]
    },
    {
      "cell_type": "markdown",
      "metadata": {
        "id": "eOZTRKeI02s0",
        "colab_type": "text"
      },
      "source": [
        "### 2. Creating Matrices with Default Values"
      ]
    },
    {
      "cell_type": "code",
      "metadata": {
        "id": "HAnPbR2202s1",
        "colab_type": "code",
        "outputId": "173ec126-adbd-4e31-800a-4cba0b73c6d7",
        "colab": {}
      },
      "source": [
        "#using numpy\n",
        "\n",
        "np.ones((2,2))"
      ],
      "execution_count": 0,
      "outputs": [
        {
          "output_type": "execute_result",
          "data": {
            "text/plain": [
              "array([[1., 1.],\n",
              "       [1., 1.]])"
            ]
          },
          "metadata": {
            "tags": []
          },
          "execution_count": 7
        }
      ]
    },
    {
      "cell_type": "code",
      "metadata": {
        "id": "CyMelrzO02s4",
        "colab_type": "code",
        "outputId": "ef9ef281-bf5a-4b47-d701-4626ae08b373",
        "colab": {}
      },
      "source": [
        "#using torch\n",
        "torch.ones((2,2))"
      ],
      "execution_count": 0,
      "outputs": [
        {
          "output_type": "execute_result",
          "data": {
            "text/plain": [
              "tensor([[1., 1.],\n",
              "        [1., 1.]])"
            ]
          },
          "metadata": {
            "tags": []
          },
          "execution_count": 8
        }
      ]
    },
    {
      "cell_type": "code",
      "metadata": {
        "id": "gXMJ-yvj02s7",
        "colab_type": "code",
        "outputId": "e2236267-289b-40ce-b51c-5184cf43cce5",
        "colab": {}
      },
      "source": [
        "#generating random number using numpy\n",
        "np.random.randn(2,2)"
      ],
      "execution_count": 0,
      "outputs": [
        {
          "output_type": "execute_result",
          "data": {
            "text/plain": [
              "array([[-1.13263105, -0.03667296],\n",
              "       [ 0.38527848,  0.4397774 ]])"
            ]
          },
          "metadata": {
            "tags": []
          },
          "execution_count": 9
        }
      ]
    },
    {
      "cell_type": "code",
      "metadata": {
        "id": "wvNDlXvi02s-",
        "colab_type": "code",
        "outputId": "81d3b14c-531f-49cb-f62a-9eb72d45167d",
        "colab": {}
      },
      "source": [
        "# generating random using torch\n",
        "torch.rand(2,2)"
      ],
      "execution_count": 0,
      "outputs": [
        {
          "output_type": "execute_result",
          "data": {
            "text/plain": [
              "tensor([[0.4057, 0.0180],\n",
              "        [0.2231, 0.0552]])"
            ]
          },
          "metadata": {
            "tags": []
          },
          "execution_count": 11
        }
      ]
    },
    {
      "cell_type": "markdown",
      "metadata": {
        "id": "JnX-Aq8L02tB",
        "colab_type": "text"
      },
      "source": [
        "### 3. Seeds for Reproducibility"
      ]
    },
    {
      "cell_type": "code",
      "metadata": {
        "id": "fXG3uHel02tC",
        "colab_type": "code",
        "outputId": "413f95a5-6fcb-4c77-f43d-1d3a2d98227b",
        "colab": {}
      },
      "source": [
        "#numpy Seed\n",
        "np.random.seed(0)\n",
        "np.random.rand(2,2)"
      ],
      "execution_count": 0,
      "outputs": [
        {
          "output_type": "execute_result",
          "data": {
            "text/plain": [
              "array([[0.5488135 , 0.71518937],\n",
              "       [0.60276338, 0.54488318]])"
            ]
          },
          "metadata": {
            "tags": []
          },
          "execution_count": 12
        }
      ]
    },
    {
      "cell_type": "code",
      "metadata": {
        "id": "S3GUV4Yr02tF",
        "colab_type": "code",
        "outputId": "ecee55fd-6171-4826-ccf4-67d66f7d8863",
        "colab": {}
      },
      "source": [
        "# Seed\n",
        "np.random.seed(0)\n",
        "np.random.rand(2,2)"
      ],
      "execution_count": 0,
      "outputs": [
        {
          "output_type": "execute_result",
          "data": {
            "text/plain": [
              "array([[0.5488135 , 0.71518937],\n",
              "       [0.60276338, 0.54488318]])"
            ]
          },
          "metadata": {
            "tags": []
          },
          "execution_count": 13
        }
      ]
    },
    {
      "cell_type": "code",
      "metadata": {
        "id": "LtjD5-jY02tH",
        "colab_type": "code",
        "outputId": "3b34c58e-144c-409c-9129-344f763b0ecb",
        "colab": {}
      },
      "source": [
        "# No Seed\n",
        "np.random.rand(2,2) # no seed we are getting different array"
      ],
      "execution_count": 0,
      "outputs": [
        {
          "output_type": "execute_result",
          "data": {
            "text/plain": [
              "array([[0.96366276, 0.38344152],\n",
              "       [0.79172504, 0.52889492]])"
            ]
          },
          "metadata": {
            "tags": []
          },
          "execution_count": 16
        }
      ]
    },
    {
      "cell_type": "code",
      "metadata": {
        "id": "qkhdFN-k02tK",
        "colab_type": "code",
        "outputId": "ced79715-8407-4d15-9e29-1394f7576f05",
        "colab": {}
      },
      "source": [
        "# Torch Seed\n",
        "\n",
        "torch.manual_seed(0)\n",
        "torch.rand(2,2)"
      ],
      "execution_count": 0,
      "outputs": [
        {
          "output_type": "execute_result",
          "data": {
            "text/plain": [
              "tensor([[0.4963, 0.7682],\n",
              "        [0.0885, 0.1320]])"
            ]
          },
          "metadata": {
            "tags": []
          },
          "execution_count": 18
        }
      ]
    },
    {
      "cell_type": "code",
      "metadata": {
        "id": "hMEOjqNn02tO",
        "colab_type": "code",
        "outputId": "17374249-7b16-44c0-f6fb-de090599821c",
        "colab": {}
      },
      "source": [
        "# Torch Seed\n",
        "\n",
        "torch.manual_seed(0)\n",
        "torch.rand(2,2)"
      ],
      "execution_count": 0,
      "outputs": [
        {
          "output_type": "execute_result",
          "data": {
            "text/plain": [
              "tensor([[0.4963, 0.7682],\n",
              "        [0.0885, 0.1320]])"
            ]
          },
          "metadata": {
            "tags": []
          },
          "execution_count": 19
        }
      ]
    },
    {
      "cell_type": "code",
      "metadata": {
        "id": "eMLOx2B202tQ",
        "colab_type": "code",
        "outputId": "81a5712c-fc83-48e9-992c-bf0e4a6d657c",
        "colab": {}
      },
      "source": [
        "# No Seed\n",
        "torch.rand(2,2)"
      ],
      "execution_count": 0,
      "outputs": [
        {
          "output_type": "execute_result",
          "data": {
            "text/plain": [
              "tensor([[0.3074, 0.6341],\n",
              "        [0.4901, 0.8964]])"
            ]
          },
          "metadata": {
            "tags": []
          },
          "execution_count": 20
        }
      ]
    },
    {
      "cell_type": "markdown",
      "metadata": {
        "id": "pIikC-iZ02tU",
        "colab_type": "text"
      },
      "source": [
        "### 4. Numpy & Torch Bridge\n",
        "\n",
        "#### Numpy to Torch"
      ]
    },
    {
      "cell_type": "code",
      "metadata": {
        "id": "YGgg-k5Q02tU",
        "colab_type": "code",
        "colab": {}
      },
      "source": [
        "# Numpy array\n",
        "np_array = np.ones((2,2))"
      ],
      "execution_count": 0,
      "outputs": []
    },
    {
      "cell_type": "code",
      "metadata": {
        "id": "3MjKk6_K02tX",
        "colab_type": "code",
        "outputId": "f86d6a82-5631-4b76-e089-f3f80fd252eb",
        "colab": {}
      },
      "source": [
        "print(np_array)"
      ],
      "execution_count": 0,
      "outputs": [
        {
          "output_type": "stream",
          "text": [
            "[[1. 1.]\n",
            " [1. 1.]]\n"
          ],
          "name": "stdout"
        }
      ]
    },
    {
      "cell_type": "code",
      "metadata": {
        "id": "Mo5R_JbC02tZ",
        "colab_type": "code",
        "outputId": "29e2b81b-d095-41f2-d380-e671c8363454",
        "colab": {}
      },
      "source": [
        "print(type(np_array))"
      ],
      "execution_count": 0,
      "outputs": [
        {
          "output_type": "stream",
          "text": [
            "<class 'numpy.ndarray'>\n"
          ],
          "name": "stdout"
        }
      ]
    },
    {
      "cell_type": "code",
      "metadata": {
        "id": "6B8nSWWn02tb",
        "colab_type": "code",
        "colab": {}
      },
      "source": [
        "# Convert to Torch Tensor\n",
        "torch_tensor = torch.from_numpy(np_array)"
      ],
      "execution_count": 0,
      "outputs": []
    },
    {
      "cell_type": "code",
      "metadata": {
        "id": "ME8dCoIb02td",
        "colab_type": "code",
        "outputId": "798377ec-12bd-4ed2-a2a0-d5378d70e4d9",
        "colab": {}
      },
      "source": [
        "print(torch_tensor)"
      ],
      "execution_count": 0,
      "outputs": [
        {
          "output_type": "stream",
          "text": [
            "tensor([[1., 1.],\n",
            "        [1., 1.]], dtype=torch.float64)\n"
          ],
          "name": "stdout"
        }
      ]
    },
    {
      "cell_type": "code",
      "metadata": {
        "id": "IUh_Fhft02th",
        "colab_type": "code",
        "outputId": "8530ce45-94df-4e8a-d645-40c8fe7ba109",
        "colab": {}
      },
      "source": [
        "print(type(torch_tensor))"
      ],
      "execution_count": 0,
      "outputs": [
        {
          "output_type": "stream",
          "text": [
            "<class 'torch.Tensor'>\n"
          ],
          "name": "stdout"
        }
      ]
    },
    {
      "cell_type": "code",
      "metadata": {
        "id": "XhuwSehD02tj",
        "colab_type": "code",
        "outputId": "9babca64-9e66-463e-f8d8-a9883f6a628f",
        "colab": {}
      },
      "source": [
        "# Data Types matter in PyTorch\n",
        "\n",
        "new_array= np.ones((2,2),dtype=np.int8)\n",
        "torch.from_numpy(new_array)"
      ],
      "execution_count": 0,
      "outputs": [
        {
          "output_type": "error",
          "ename": "TypeError",
          "evalue": "can't convert np.ndarray of type numpy.int8. The only supported types are: double, float, float16, int64, int32, and uint8.",
          "traceback": [
            "\u001b[1;31m---------------------------------------------------------------------------\u001b[0m",
            "\u001b[1;31mTypeError\u001b[0m                                 Traceback (most recent call last)",
            "\u001b[1;32m<ipython-input-29-559b26ad7d14>\u001b[0m in \u001b[0;36m<module>\u001b[1;34m()\u001b[0m\n\u001b[0;32m      2\u001b[0m \u001b[1;33m\u001b[0m\u001b[0m\n\u001b[0;32m      3\u001b[0m \u001b[0mnew_array\u001b[0m\u001b[1;33m=\u001b[0m \u001b[0mnp\u001b[0m\u001b[1;33m.\u001b[0m\u001b[0mones\u001b[0m\u001b[1;33m(\u001b[0m\u001b[1;33m(\u001b[0m\u001b[1;36m2\u001b[0m\u001b[1;33m,\u001b[0m\u001b[1;36m2\u001b[0m\u001b[1;33m)\u001b[0m\u001b[1;33m,\u001b[0m\u001b[0mdtype\u001b[0m\u001b[1;33m=\u001b[0m\u001b[0mnp\u001b[0m\u001b[1;33m.\u001b[0m\u001b[0mint8\u001b[0m\u001b[1;33m)\u001b[0m\u001b[1;33m\u001b[0m\u001b[0m\n\u001b[1;32m----> 4\u001b[1;33m \u001b[0mtorch\u001b[0m\u001b[1;33m.\u001b[0m\u001b[0mfrom_numpy\u001b[0m\u001b[1;33m(\u001b[0m\u001b[0mnew_array\u001b[0m\u001b[1;33m)\u001b[0m\u001b[1;33m\u001b[0m\u001b[0m\n\u001b[0m",
            "\u001b[1;31mTypeError\u001b[0m: can't convert np.ndarray of type numpy.int8. The only supported types are: double, float, float16, int64, int32, and uint8."
          ]
        }
      ]
    },
    {
      "cell_type": "markdown",
      "metadata": {
        "id": "Dd0zKj_z02tl",
        "colab_type": "text"
      },
      "source": [
        "#### The conversion supports\n",
        "\n",
        "- double\n",
        "- float\n",
        "- int64,int32,uint8"
      ]
    },
    {
      "cell_type": "code",
      "metadata": {
        "id": "623gwo2802tm",
        "colab_type": "code",
        "outputId": "e9fb11f2-2435-4fd5-cfac-797cda850f41",
        "colab": {}
      },
      "source": [
        "# Data Type int64\n",
        "\n",
        "new_array= np.ones((2,2),dtype=np.int64)\n",
        "torch.from_numpy(new_array)"
      ],
      "execution_count": 0,
      "outputs": [
        {
          "output_type": "execute_result",
          "data": {
            "text/plain": [
              "tensor([[1, 1],\n",
              "        [1, 1]])"
            ]
          },
          "metadata": {
            "tags": []
          },
          "execution_count": 30
        }
      ]
    },
    {
      "cell_type": "code",
      "metadata": {
        "id": "3KeliyTt02to",
        "colab_type": "code",
        "outputId": "4eb9aa50-7b40-47f1-d7fd-edcd79734bce",
        "colab": {}
      },
      "source": [
        "# Data Type int32\n",
        "new_array= np.ones((2,2),dtype=np.int32)\n",
        "torch.from_numpy(new_array)"
      ],
      "execution_count": 0,
      "outputs": [
        {
          "output_type": "execute_result",
          "data": {
            "text/plain": [
              "tensor([[1, 1],\n",
              "        [1, 1]], dtype=torch.int32)"
            ]
          },
          "metadata": {
            "tags": []
          },
          "execution_count": 31
        }
      ]
    },
    {
      "cell_type": "code",
      "metadata": {
        "id": "pOZNTI3J02tq",
        "colab_type": "code",
        "outputId": "191650e3-0b63-4cb8-9da1-234c9086f27a",
        "colab": {}
      },
      "source": [
        "# Data Type uint8\n",
        "new_array= np.ones((2,2),dtype=np.uint8)\n",
        "torch.from_numpy(new_array)"
      ],
      "execution_count": 0,
      "outputs": [
        {
          "output_type": "execute_result",
          "data": {
            "text/plain": [
              "tensor([[1, 1],\n",
              "        [1, 1]], dtype=torch.uint8)"
            ]
          },
          "metadata": {
            "tags": []
          },
          "execution_count": 32
        }
      ]
    },
    {
      "cell_type": "code",
      "metadata": {
        "id": "3XtS39co02tu",
        "colab_type": "code",
        "outputId": "6652be42-4c57-4460-cbe1-e43e22ff1bf4",
        "colab": {}
      },
      "source": [
        "# Data Type float\n",
        "new_array= np.ones((2,2),dtype=np.float64)\n",
        "torch.from_numpy(new_array)"
      ],
      "execution_count": 0,
      "outputs": [
        {
          "output_type": "execute_result",
          "data": {
            "text/plain": [
              "tensor([[1., 1.],\n",
              "        [1., 1.]], dtype=torch.float64)"
            ]
          },
          "metadata": {
            "tags": []
          },
          "execution_count": 33
        }
      ]
    },
    {
      "cell_type": "code",
      "metadata": {
        "id": "6xHBZS2G02tw",
        "colab_type": "code",
        "outputId": "c60705e1-ed29-4da5-ab39-f4d2f48bd7ec",
        "colab": {}
      },
      "source": [
        "# Data Type double\n",
        "new_array= np.ones((2,2),dtype=np.double)\n",
        "torch.from_numpy(new_array)"
      ],
      "execution_count": 0,
      "outputs": [
        {
          "output_type": "execute_result",
          "data": {
            "text/plain": [
              "tensor([[1., 1.],\n",
              "        [1., 1.]], dtype=torch.float64)"
            ]
          },
          "metadata": {
            "tags": []
          },
          "execution_count": 34
        }
      ]
    },
    {
      "cell_type": "markdown",
      "metadata": {
        "id": "xMbke_K602tz",
        "colab_type": "text"
      },
      "source": [
        "#### Summery\n",
        "\n",
        "These things doesn't matter much now. But later when we see error messages that require these particular tensor types , we can refer to this guide . \n",
        "\n",
        "| Numpy Array Type    | Torch Tensor Type     \n",
        "| ------------- |:-------------:\n",
        "| int64         | LongTensor\n",
        "| int32         | IntegerTensor  \n",
        "| uint8         | ByteTensor  \n",
        "| float64       | DoubleTensor  \n",
        "| float32       | FloatTensor   \n",
        "| double        | DoubleTensor  "
      ]
    },
    {
      "cell_type": "markdown",
      "metadata": {
        "id": "6Gy9xMJv02t0",
        "colab_type": "text"
      },
      "source": [
        "#### Torch to Numpy"
      ]
    },
    {
      "cell_type": "code",
      "metadata": {
        "id": "VukzCMXQ02t0",
        "colab_type": "code",
        "colab": {}
      },
      "source": [
        "torch_tensor = torch.ones(2,2)"
      ],
      "execution_count": 0,
      "outputs": []
    },
    {
      "cell_type": "code",
      "metadata": {
        "id": "Kf2QqySa02t5",
        "colab_type": "code",
        "outputId": "e852a76a-9ea5-4dab-9479-34d4ae5a8711",
        "colab": {}
      },
      "source": [
        "type(torch_tensor)"
      ],
      "execution_count": 0,
      "outputs": [
        {
          "output_type": "execute_result",
          "data": {
            "text/plain": [
              "torch.Tensor"
            ]
          },
          "metadata": {
            "tags": []
          },
          "execution_count": 36
        }
      ]
    },
    {
      "cell_type": "code",
      "metadata": {
        "id": "BUzBoNeE02t8",
        "colab_type": "code",
        "colab": {}
      },
      "source": [
        "torch_to_numpy = torch_tensor.numpy()"
      ],
      "execution_count": 0,
      "outputs": []
    },
    {
      "cell_type": "code",
      "metadata": {
        "id": "ii5WC9Mu02t_",
        "colab_type": "code",
        "outputId": "e5c3b178-550b-41a9-8364-8c47ca9fd77e",
        "colab": {}
      },
      "source": [
        "type(torch_to_numpy)"
      ],
      "execution_count": 0,
      "outputs": [
        {
          "output_type": "execute_result",
          "data": {
            "text/plain": [
              "numpy.ndarray"
            ]
          },
          "metadata": {
            "tags": []
          },
          "execution_count": 40
        }
      ]
    },
    {
      "cell_type": "markdown",
      "metadata": {
        "id": "J94HGV7G02uC",
        "colab_type": "text"
      },
      "source": [
        "### 5. Tensor Operations\n",
        "\n",
        "#### Resizing Tensor"
      ]
    },
    {
      "cell_type": "code",
      "metadata": {
        "id": "A-BhdUwg02uD",
        "colab_type": "code",
        "outputId": "55eb21c3-7c00-4bfc-f912-8aaeb7607d4f",
        "colab": {}
      },
      "source": [
        "a = torch.ones(2,2)\n",
        "a"
      ],
      "execution_count": 0,
      "outputs": [
        {
          "output_type": "execute_result",
          "data": {
            "text/plain": [
              "tensor([[1., 1.],\n",
              "        [1., 1.]])"
            ]
          },
          "metadata": {
            "tags": []
          },
          "execution_count": 42
        }
      ]
    },
    {
      "cell_type": "code",
      "metadata": {
        "id": "SWaDo-iU02uI",
        "colab_type": "code",
        "outputId": "a6beed88-2802-40e5-8f67-f33e6387c9b8",
        "colab": {}
      },
      "source": [
        "a.size()"
      ],
      "execution_count": 0,
      "outputs": [
        {
          "output_type": "execute_result",
          "data": {
            "text/plain": [
              "torch.Size([2, 2])"
            ]
          },
          "metadata": {
            "tags": []
          },
          "execution_count": 44
        }
      ]
    },
    {
      "cell_type": "code",
      "metadata": {
        "id": "mE0v4JUe02uN",
        "colab_type": "code",
        "outputId": "fca14a4e-b03d-4c51-8bf5-ba36decb50e0",
        "colab": {}
      },
      "source": [
        "a.view(4)"
      ],
      "execution_count": 0,
      "outputs": [
        {
          "output_type": "execute_result",
          "data": {
            "text/plain": [
              "tensor([1., 1., 1., 1.])"
            ]
          },
          "metadata": {
            "tags": []
          },
          "execution_count": 46
        }
      ]
    },
    {
      "cell_type": "code",
      "metadata": {
        "id": "kmf-LuAl02uR",
        "colab_type": "code",
        "outputId": "083ab802-7ee8-490a-e2fa-9ad957f48141",
        "colab": {}
      },
      "source": [
        "a.view(4).size()"
      ],
      "execution_count": 0,
      "outputs": [
        {
          "output_type": "execute_result",
          "data": {
            "text/plain": [
              "torch.Size([4])"
            ]
          },
          "metadata": {
            "tags": []
          },
          "execution_count": 47
        }
      ]
    },
    {
      "cell_type": "markdown",
      "metadata": {
        "id": "s8PXYMGI02uX",
        "colab_type": "text"
      },
      "source": [
        "### Element Wise Addition "
      ]
    },
    {
      "cell_type": "code",
      "metadata": {
        "id": "EARG5DhP02uY",
        "colab_type": "code",
        "outputId": "c80b7c69-1273-44f2-ab8d-e93a027ce9c8",
        "colab": {}
      },
      "source": [
        "a = torch.ones(2,2)\n",
        "a"
      ],
      "execution_count": 0,
      "outputs": [
        {
          "output_type": "execute_result",
          "data": {
            "text/plain": [
              "tensor([[1., 1.],\n",
              "        [1., 1.]])"
            ]
          },
          "metadata": {
            "tags": []
          },
          "execution_count": 57
        }
      ]
    },
    {
      "cell_type": "code",
      "metadata": {
        "id": "eU67bJvQ02uc",
        "colab_type": "code",
        "outputId": "e46df3a6-68c6-4fc4-89ac-d55f9ef7d847",
        "colab": {}
      },
      "source": [
        "b = torch.ones(2,2)\n",
        "b"
      ],
      "execution_count": 0,
      "outputs": [
        {
          "output_type": "execute_result",
          "data": {
            "text/plain": [
              "tensor([[1., 1.],\n",
              "        [1., 1.]])"
            ]
          },
          "metadata": {
            "tags": []
          },
          "execution_count": 58
        }
      ]
    },
    {
      "cell_type": "code",
      "metadata": {
        "id": "R108rjwJ02ug",
        "colab_type": "code",
        "outputId": "6d8ed94f-1aa3-4267-93e9-8f90383ba093",
        "colab": {}
      },
      "source": [
        "# Element wise addition\n",
        "c = a+b\n",
        "c"
      ],
      "execution_count": 0,
      "outputs": [
        {
          "output_type": "execute_result",
          "data": {
            "text/plain": [
              "tensor([[2., 2.],\n",
              "        [2., 2.]])"
            ]
          },
          "metadata": {
            "tags": []
          },
          "execution_count": 59
        }
      ]
    },
    {
      "cell_type": "code",
      "metadata": {
        "id": "r6DFyfMR02up",
        "colab_type": "code",
        "outputId": "3b087955-73ae-495b-f82a-d43fc717d11e",
        "colab": {}
      },
      "source": [
        "# Element wise addition\n",
        "c = torch.add(a,b)\n",
        "c"
      ],
      "execution_count": 0,
      "outputs": [
        {
          "output_type": "execute_result",
          "data": {
            "text/plain": [
              "tensor([[2., 2.],\n",
              "        [2., 2.]])"
            ]
          },
          "metadata": {
            "tags": []
          },
          "execution_count": 60
        }
      ]
    },
    {
      "cell_type": "code",
      "metadata": {
        "id": "_TQPtGuf02uv",
        "colab_type": "code",
        "outputId": "847020ba-81b9-4945-eb2a-f124a440abbe",
        "colab": {}
      },
      "source": [
        "# In-Place addition\n",
        "\n",
        "print(\"Old c Tensor \")\n",
        "print(c)\n",
        "\n",
        "c.add_(a)\n",
        "\n",
        "print('_'*60)\n",
        "print(\"New c Tensor \")\n",
        "print(c)"
      ],
      "execution_count": 0,
      "outputs": [
        {
          "output_type": "stream",
          "text": [
            "Old c Tensor \n",
            "tensor([[2., 2.],\n",
            "        [2., 2.]])\n",
            "____________________________________________________________\n",
            "New c Tensor \n",
            "tensor([[3., 3.],\n",
            "        [3., 3.]])\n"
          ],
          "name": "stdout"
        }
      ]
    },
    {
      "cell_type": "markdown",
      "metadata": {
        "id": "bga_JaMo02u0",
        "colab_type": "text"
      },
      "source": [
        "### Element Wise Subtraction"
      ]
    },
    {
      "cell_type": "code",
      "metadata": {
        "id": "T7tBtftQ02u1",
        "colab_type": "code",
        "outputId": "7a00788f-4c63-4b26-985c-b3d823ed4804",
        "colab": {}
      },
      "source": [
        "print(a)\n",
        "print(b)"
      ],
      "execution_count": 0,
      "outputs": [
        {
          "output_type": "stream",
          "text": [
            "tensor([[1., 1.],\n",
            "        [1., 1.]])\n",
            "tensor([[1., 1.],\n",
            "        [1., 1.]])\n"
          ],
          "name": "stdout"
        }
      ]
    },
    {
      "cell_type": "code",
      "metadata": {
        "id": "D0Sb7IVX02u5",
        "colab_type": "code",
        "outputId": "a352466b-f640-4abe-d091-29b7b118b3ea",
        "colab": {}
      },
      "source": [
        "a-b"
      ],
      "execution_count": 0,
      "outputs": [
        {
          "output_type": "execute_result",
          "data": {
            "text/plain": [
              "tensor([[0., 0.],\n",
              "        [0., 0.]])"
            ]
          },
          "metadata": {
            "tags": []
          },
          "execution_count": 64
        }
      ]
    },
    {
      "cell_type": "code",
      "metadata": {
        "id": "9ivQuN7U02u9",
        "colab_type": "code",
        "outputId": "7cb280d4-f3c6-46fe-843d-f11c6068440d",
        "colab": {}
      },
      "source": [
        "# not in-place\n",
        "a.sub(b)"
      ],
      "execution_count": 0,
      "outputs": [
        {
          "output_type": "execute_result",
          "data": {
            "text/plain": [
              "tensor([[0., 0.],\n",
              "        [0., 0.]])"
            ]
          },
          "metadata": {
            "tags": []
          },
          "execution_count": 65
        }
      ]
    },
    {
      "cell_type": "code",
      "metadata": {
        "id": "SZQhvbLp02vA",
        "colab_type": "code",
        "outputId": "556b6d31-7f9b-4a4d-e355-59ca7a6a83dd",
        "colab": {}
      },
      "source": [
        "a"
      ],
      "execution_count": 0,
      "outputs": [
        {
          "output_type": "execute_result",
          "data": {
            "text/plain": [
              "tensor([[1., 1.],\n",
              "        [1., 1.]])"
            ]
          },
          "metadata": {
            "tags": []
          },
          "execution_count": 66
        }
      ]
    },
    {
      "cell_type": "code",
      "metadata": {
        "id": "dq6jh19-02vD",
        "colab_type": "code",
        "outputId": "c9f57100-0bec-4b12-8812-f76ffbbe0ad2",
        "colab": {}
      },
      "source": [
        "# inplace\n",
        "a.sub_(b)"
      ],
      "execution_count": 0,
      "outputs": [
        {
          "output_type": "execute_result",
          "data": {
            "text/plain": [
              "tensor([[0., 0.],\n",
              "        [0., 0.]])"
            ]
          },
          "metadata": {
            "tags": []
          },
          "execution_count": 67
        }
      ]
    },
    {
      "cell_type": "code",
      "metadata": {
        "id": "Ae7RBIqG02vF",
        "colab_type": "code",
        "outputId": "f245507c-5d3c-45d6-e42b-05d3444646ab",
        "colab": {}
      },
      "source": [
        "a"
      ],
      "execution_count": 0,
      "outputs": [
        {
          "output_type": "execute_result",
          "data": {
            "text/plain": [
              "tensor([[0., 0.],\n",
              "        [0., 0.]])"
            ]
          },
          "metadata": {
            "tags": []
          },
          "execution_count": 68
        }
      ]
    },
    {
      "cell_type": "markdown",
      "metadata": {
        "id": "hKHzHgIO02vH",
        "colab_type": "text"
      },
      "source": [
        "### Element Wise Multiplication"
      ]
    },
    {
      "cell_type": "code",
      "metadata": {
        "id": "NNv812fB02vH",
        "colab_type": "code",
        "outputId": "6cc26436-f01b-453a-c988-a0b4b89fc9a7",
        "colab": {}
      },
      "source": [
        "\n",
        "\n",
        "a = torch.ones(2,2)\n",
        "a"
      ],
      "execution_count": 0,
      "outputs": [
        {
          "output_type": "execute_result",
          "data": {
            "text/plain": [
              "tensor([[1., 1.],\n",
              "        [1., 1.]])"
            ]
          },
          "metadata": {
            "tags": []
          },
          "execution_count": 76
        }
      ]
    },
    {
      "cell_type": "code",
      "metadata": {
        "id": "irGyLYNh02vK",
        "colab_type": "code",
        "outputId": "369e15d5-3ac8-4734-8042-4d5dd5219f4f",
        "colab": {}
      },
      "source": [
        "b = torch.zeros(2,2)\n",
        "b"
      ],
      "execution_count": 0,
      "outputs": [
        {
          "output_type": "execute_result",
          "data": {
            "text/plain": [
              "tensor([[0., 0.],\n",
              "        [0., 0.]])"
            ]
          },
          "metadata": {
            "tags": []
          },
          "execution_count": 79
        }
      ]
    },
    {
      "cell_type": "code",
      "metadata": {
        "id": "RUhi7SHc02vS",
        "colab_type": "code",
        "outputId": "9dfc4f5d-7902-405c-8ad1-4a98cc432b56",
        "colab": {}
      },
      "source": [
        "a*b"
      ],
      "execution_count": 0,
      "outputs": [
        {
          "output_type": "execute_result",
          "data": {
            "text/plain": [
              "tensor([[0., 0.],\n",
              "        [0., 0.]])"
            ]
          },
          "metadata": {
            "tags": []
          },
          "execution_count": 80
        }
      ]
    },
    {
      "cell_type": "code",
      "metadata": {
        "id": "W4YhdG5j02vX",
        "colab_type": "code",
        "outputId": "27d753b5-13a8-465e-a819-0eba71ff74e0",
        "colab": {}
      },
      "source": [
        "# Not in place\n",
        "torch.mul(a,b)"
      ],
      "execution_count": 0,
      "outputs": [
        {
          "output_type": "execute_result",
          "data": {
            "text/plain": [
              "tensor([[0., 0.],\n",
              "        [0., 0.]])"
            ]
          },
          "metadata": {
            "tags": []
          },
          "execution_count": 81
        }
      ]
    },
    {
      "cell_type": "code",
      "metadata": {
        "id": "i1scyty_02va",
        "colab_type": "code",
        "outputId": "537d822b-6c3d-4800-b371-3628b9f23f72",
        "colab": {}
      },
      "source": [
        "# In-place\n",
        "a.mul_(b)"
      ],
      "execution_count": 0,
      "outputs": [
        {
          "output_type": "execute_result",
          "data": {
            "text/plain": [
              "tensor([[0., 0.],\n",
              "        [0., 0.]])"
            ]
          },
          "metadata": {
            "tags": []
          },
          "execution_count": 82
        }
      ]
    },
    {
      "cell_type": "markdown",
      "metadata": {
        "id": "W_rUHQ2v02vc",
        "colab_type": "text"
      },
      "source": [
        "### Element Wise Division"
      ]
    },
    {
      "cell_type": "code",
      "metadata": {
        "id": "pynjrJXY02vc",
        "colab_type": "code",
        "colab": {}
      },
      "source": [
        "a = torch.ones(2,2)\n",
        "b = torch.zeros(2,2)"
      ],
      "execution_count": 0,
      "outputs": []
    },
    {
      "cell_type": "code",
      "metadata": {
        "id": "DWbhS7Vr02vd",
        "colab_type": "code",
        "outputId": "0ccb7974-6d7f-43ee-e76c-5aec4bdad29d",
        "colab": {}
      },
      "source": [
        "b/a"
      ],
      "execution_count": 0,
      "outputs": [
        {
          "output_type": "execute_result",
          "data": {
            "text/plain": [
              "tensor([[0., 0.],\n",
              "        [0., 0.]])"
            ]
          },
          "metadata": {
            "tags": []
          },
          "execution_count": 84
        }
      ]
    },
    {
      "cell_type": "code",
      "metadata": {
        "id": "h4r655lp02vf",
        "colab_type": "code",
        "outputId": "6d167027-a239-489d-82f7-aadfbcfa1161",
        "colab": {}
      },
      "source": [
        "# In place\n",
        "b.div_(a)\n",
        "\n"
      ],
      "execution_count": 0,
      "outputs": [
        {
          "output_type": "execute_result",
          "data": {
            "text/plain": [
              "tensor([[0., 0.],\n",
              "        [0., 0.]])"
            ]
          },
          "metadata": {
            "tags": []
          },
          "execution_count": 85
        }
      ]
    },
    {
      "cell_type": "markdown",
      "metadata": {
        "id": "jMrhriuX02vi",
        "colab_type": "text"
      },
      "source": [
        "### Tensor Mean\n",
        "\n",
        "* 1+2+3+4+5+6+7+8+9+10 = 55\n",
        "* mean = 55/10 =5.5"
      ]
    },
    {
      "cell_type": "code",
      "metadata": {
        "id": "NS0C27Xt02vj",
        "colab_type": "code",
        "outputId": "88fb8586-523c-44d4-f277-867fcd0e2eec",
        "colab": {}
      },
      "source": [
        "a = torch.Tensor([1,2,3,4,5,6,7,8,9,10])\n",
        "a.size()"
      ],
      "execution_count": 0,
      "outputs": [
        {
          "output_type": "execute_result",
          "data": {
            "text/plain": [
              "torch.Size([10])"
            ]
          },
          "metadata": {
            "tags": []
          },
          "execution_count": 89
        }
      ]
    },
    {
      "cell_type": "code",
      "metadata": {
        "id": "4rbuMFyU02vn",
        "colab_type": "code",
        "outputId": "1141ab55-dae1-46d5-84f2-d485bf964a39",
        "colab": {}
      },
      "source": [
        "a.mean(dim=0) #only one dimension"
      ],
      "execution_count": 0,
      "outputs": [
        {
          "output_type": "execute_result",
          "data": {
            "text/plain": [
              "tensor(5.5000)"
            ]
          },
          "metadata": {
            "tags": []
          },
          "execution_count": 91
        }
      ]
    },
    {
      "cell_type": "code",
      "metadata": {
        "id": "1eQvR3Dj02v0",
        "colab_type": "code",
        "outputId": "d3a1ef5e-fe98-4528-ea42-76e13cb75d29",
        "colab": {}
      },
      "source": [
        "a = torch.Tensor([[1,2,3,4,5,6,7,8,9,10],[1,2,3,4,5,6,7,8,9,10]])\n",
        "a.size()"
      ],
      "execution_count": 0,
      "outputs": [
        {
          "output_type": "execute_result",
          "data": {
            "text/plain": [
              "torch.Size([2, 10])"
            ]
          },
          "metadata": {
            "tags": []
          },
          "execution_count": 92
        }
      ]
    },
    {
      "cell_type": "code",
      "metadata": {
        "id": "rdtAQdFW02v3",
        "colab_type": "code",
        "outputId": "3a3f6807-942a-423c-97df-81271f9a2190",
        "colab": {}
      },
      "source": [
        "a.mean(dim=1)"
      ],
      "execution_count": 0,
      "outputs": [
        {
          "output_type": "execute_result",
          "data": {
            "text/plain": [
              "tensor([5.5000, 5.5000])"
            ]
          },
          "metadata": {
            "tags": []
          },
          "execution_count": 94
        }
      ]
    },
    {
      "cell_type": "markdown",
      "metadata": {
        "id": "fTrnxcbX02v8",
        "colab_type": "text"
      },
      "source": [
        "### Tensor Standard Deviation "
      ]
    },
    {
      "cell_type": "code",
      "metadata": {
        "id": "udI1ozCo02v9",
        "colab_type": "code",
        "outputId": "206efa72-8b6c-4872-ed0e-f26cab467f42",
        "colab": {}
      },
      "source": [
        "a = torch.Tensor([1,2,3,4,5,6,7,8,9,10])\n",
        "a.std(dim=0)"
      ],
      "execution_count": 0,
      "outputs": [
        {
          "output_type": "execute_result",
          "data": {
            "text/plain": [
              "tensor(3.0277)"
            ]
          },
          "metadata": {
            "tags": []
          },
          "execution_count": 95
        }
      ]
    },
    {
      "cell_type": "code",
      "metadata": {
        "id": "_gUgMVBH02v_",
        "colab_type": "code",
        "colab": {}
      },
      "source": [
        ""
      ],
      "execution_count": 0,
      "outputs": []
    }
  ]
}